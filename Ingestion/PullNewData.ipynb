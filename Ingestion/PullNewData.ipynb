{
 "cells": [
  {
   "cell_type": "code",
   "execution_count": 5,
   "metadata": {},
   "outputs": [
    {
     "name": "stdout",
     "output_type": "stream",
     "text": [
      "Forecast Rain Pulling...\n"
     ]
    },
    {
     "name": "stderr",
     "output_type": "stream",
     "text": [
      "c:\\Users\\Scott\\Desktop\\Projects\\River_Data\\Ingestion\\ForecastPrecip.py:89: SettingWithCopyWarning: \n",
      "A value is trying to be set on a copy of a slice from a DataFrame.\n",
      "Try using .loc[row_indexer,col_indexer] = value instead\n",
      "\n",
      "See the caveats in the documentation: https://pandas.pydata.org/pandas-docs/stable/user_guide/indexing.html#returning-a-view-versus-a-copy\n",
      "  df['LightRain'] = df.shortForecast.apply(lambda x: LightRain(x))\n",
      "c:\\Users\\Scott\\Desktop\\Projects\\River_Data\\Ingestion\\ForecastPrecip.py:90: SettingWithCopyWarning: \n",
      "A value is trying to be set on a copy of a slice from a DataFrame.\n",
      "Try using .loc[row_indexer,col_indexer] = value instead\n",
      "\n",
      "See the caveats in the documentation: https://pandas.pydata.org/pandas-docs/stable/user_guide/indexing.html#returning-a-view-versus-a-copy\n",
      "  df['Rain'] = df.shortForecast.apply(lambda x: Rain(x))\n",
      "c:\\Users\\Scott\\Desktop\\Projects\\River_Data\\Ingestion\\ForecastPrecip.py:91: SettingWithCopyWarning: \n",
      "A value is trying to be set on a copy of a slice from a DataFrame.\n",
      "Try using .loc[row_indexer,col_indexer] = value instead\n",
      "\n",
      "See the caveats in the documentation: https://pandas.pydata.org/pandas-docs/stable/user_guide/indexing.html#returning-a-view-versus-a-copy\n",
      "  df['HeavyRain'] = df.shortForecast.apply(lambda x: HeavyRain(x))\n",
      "c:\\Users\\Scott\\Desktop\\Projects\\River_Data\\Ingestion\\ForecastPrecip.py:92: SettingWithCopyWarning: \n",
      "A value is trying to be set on a copy of a slice from a DataFrame.\n",
      "Try using .loc[row_indexer,col_indexer] = value instead\n",
      "\n",
      "See the caveats in the documentation: https://pandas.pydata.org/pandas-docs/stable/user_guide/indexing.html#returning-a-view-versus-a-copy\n",
      "  df['WindMph'] = df.windSpeed.apply(lambda x: WindTranslate(x))\n"
     ]
    }
   ],
   "source": [
    "import WaterPull\n",
    "import PrecipPull\n",
    "import ForecastPrecip"
   ]
  }
 ],
 "metadata": {
  "kernelspec": {
   "display_name": "Python 3.8.5 ('base')",
   "language": "python",
   "name": "python3"
  },
  "language_info": {
   "codemirror_mode": {
    "name": "ipython",
    "version": 3
   },
   "file_extension": ".py",
   "mimetype": "text/x-python",
   "name": "python",
   "nbconvert_exporter": "python",
   "pygments_lexer": "ipython3",
   "version": "3.8.5"
  },
  "orig_nbformat": 4,
  "vscode": {
   "interpreter": {
    "hash": "f198afccb11a57ca9e4600c4ebf8ddb1582de23e4eaa52d4804571c6e801d767"
   }
  }
 },
 "nbformat": 4,
 "nbformat_minor": 2
}
