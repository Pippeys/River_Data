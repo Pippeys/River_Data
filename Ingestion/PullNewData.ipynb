{
 "cells": [
  {
   "cell_type": "code",
   "execution_count": 10,
   "metadata": {},
   "outputs": [
    {
     "name": "stdout",
     "output_type": "stream",
     "text": [
      "Forecast Rain Pulling...\n",
      "Retrieving E WALKER RV NR BRIDGEPORT, CA\n",
      "Retrieving E WALKER RV NR BRIDGEPORT, CA\n",
      "Retrieving E FK CARSON RV BLW MARKLEEVILLE CK NR MARKLEEVILLE\n",
      "Retrieving E FK CARSON RV BLW MARKLEEVILLE CK NR MARKLEEVILLE\n",
      "Retrieving LITTLE TRUCKEE R AB BOCA RES NR TRUCKEE CA\n",
      "Retrieving LITTLE TRUCKEE R AB BOCA RES NR TRUCKEE CA\n",
      "Retrieving TRUCKEE R A FARAD CA\n",
      "Retrieving TRUCKEE R A FARAD CA\n",
      "Retrieving TRUCKEE R A FARAD CA\n",
      "Retrieving TRUCKEE R A FARAD CA\n",
      "Retrieving SAN LORENZO R A BIG TREES CA\n",
      "Retrieving SAN LORENZO R A BIG TREES CA\n",
      "Retrieving SAN LORENZO R A BIG TREES CA\n",
      "Retrieving SAN LORENZO R A SANTA CRUZ CA\n",
      "Retrieving SAN LORENZO R A SANTA CRUZ CA\n",
      "Retrieving SAN LORENZO R A SANTA CRUZ CA\n",
      "Retrieving PIT R BL PIT NO 1 PH NR FALL RIVER MILLS CA\n",
      "Retrieving PIT R BL PIT NO 1 PH NR FALL RIVER MILLS CA\n",
      "Retrieving PIT R BL PIT NO 1 PH NR FALL RIVER MILLS CA\n",
      "Retrieving HAT C NR HAT CREEK CA\n",
      "Retrieving HAT C NR HAT CREEK CA\n",
      "Retrieving HAT C NR HAT CREEK CA\n",
      "Retrieving N YUBA R BL GOODYEARS BAR CA\n",
      "Retrieving N YUBA R BL GOODYEARS BAR CA\n",
      "Retrieving YUBA R NR MARYSVILLE CA\n",
      "Retrieving YUBA R NR MARYSVILLE CA\n",
      "Retrieving YUBA R NR MARYSVILLE CA\n",
      "Retrieving NF AMERICAN R A NORTH FORK DAM CA\n",
      "Retrieving NF AMERICAN R A NORTH FORK DAM CA\n",
      "Retrieving PUTAH C NR WINTERS CA\n",
      "Retrieving PUTAH C NR WINTERS CA\n",
      "Retrieving RUSSIAN R A HACIENDA BRIDGE NR GUERNEVILLE CA\n",
      "Retrieving RUSSIAN R A HACIENDA BRIDGE NR GUERNEVILLE CA\n",
      "Retrieving RUSSIAN R A HACIENDA BRIDGE NR GUERNEVILLE CA\n",
      "Retrieving RUSSIAN R A HACIENDA BRIDGE NR GUERNEVILLE CA\n",
      "Retrieving RUSSIAN R A HACIENDA BRIDGE NR GUERNEVILLE CA\n",
      "Retrieving RUSSIAN R A HACIENDA BRIDGE NR GUERNEVILLE CA\n",
      "Retrieving RUSSIAN R A HACIENDA BRIDGE NR GUERNEVILLE CA\n",
      "Retrieving NAVARRO R NR NAVARRO CA\n",
      "Retrieving NAVARRO R NR NAVARRO CA\n",
      "Retrieving NOYO R NR FORT BRAGG CA\n",
      "Retrieving NOYO R NR FORT BRAGG CA\n",
      "Retrieving MATTOLE R NR ETTERSBURG CA\n",
      "Retrieving MATTOLE R NR ETTERSBURG CA\n",
      "Retrieving MATTOLE R NR ETTERSBURG CA\n",
      "Retrieving MATTOLE R NR PETROLIA CA\n",
      "Retrieving MATTOLE R NR PETROLIA CA\n",
      "Retrieving EEL R A FORT SEWARD CA\n",
      "Retrieving EEL R A FORT SEWARD CA\n",
      "Retrieving EEL R A SCOTIA CA\n",
      "Retrieving EEL R A SCOTIA CA\n",
      "Retrieving VAN DUZEN R NR BRIDGEVILLE CA\n",
      "Retrieving VAN DUZEN R NR BRIDGEVILLE CA\n",
      "Retrieving EEL R A FERNBRIDGE CA\n",
      "Retrieving MAD R NR ARCATA CA\n",
      "Retrieving MAD R NR ARCATA CA\n",
      "Retrieving REDWOOD C A ORICK CA\n",
      "Retrieving REDWOOD C A ORICK CA\n",
      "Retrieving REDWOOD C A ORICK CA\n",
      "Retrieving TRINITY R A LEWISTON CA\n",
      "Retrieving TRINITY R A LEWISTON CA\n",
      "Retrieving TRINITY R A LEWISTON CA\n",
      "Retrieving TRINITY R A JUNCTION CITY CA\n",
      "Retrieving TRINITY R A JUNCTION CITY CA\n",
      "Retrieving TRINITY R A JUNCTION CITY CA\n",
      "Retrieving TRINITY R NR BURNT RANCH CA\n",
      "Retrieving TRINITY R NR BURNT RANCH CA\n",
      "Retrieving SMITH R NR CRESCENT CITY CA\n",
      "Retrieving SMITH R NR CRESCENT CITY CA\n",
      "Retrieving SMITH R NR FORT DICK CA\n",
      "Retrieving NESTUCCA RIVER NEAR BEAVER, OR\n",
      "200\n",
      "Retrieving NESTUCCA RIVER NEAR BEAVER, OR\n",
      "Retrieving NORTH UMPQUA RIVER NEAR IDLEYLD PARK, OR\n",
      "Retrieving NORTH UMPQUA RIVER NEAR IDLEYLD PARK, OR\n",
      "Retrieving NORTH UMPQUA RIVER NEAR IDLEYLD PARK, OR\n",
      "Retrieving NORTH UMPQUA RIVER NEAR IDLEYLD PARK, OR\n",
      "Retrieving NORTH UMPQUA RIVER NEAR IDLEYLD PARK, OR\n",
      "Retrieving NORTH UMPQUA RIVER AT WINCHESTER, OR\n",
      "Retrieving NORTH UMPQUA RIVER AT WINCHESTER, OR\n",
      "Retrieving NORTH UMPQUA RIVER AT WINCHESTER, OR\n",
      "Retrieving UMPQUA RIVER NEAR ELKTON, OR\n",
      "Retrieving UMPQUA RIVER NEAR ELKTON, OR\n",
      "Retrieving UMPQUA RIVER NEAR ELKTON, OR\n",
      "Retrieving ROGUE RIVER AT GRANTS PASS, OR\n",
      "Retrieving ROGUE RIVER AT GRANTS PASS, OR\n",
      "Retrieving ROGUE RIVER AT GRANTS PASS, OR\n",
      "Retrieving ROGUE RIVER NEAR AGNESS, OR\n",
      "Retrieving ROGUE RIVER NEAR AGNESS, OR\n",
      "Retrieving ROGUE RIVER NEAR AGNESS, OR\n"
     ]
    }
   ],
   "source": [
    "import WaterPull\n",
    "import PrecipPull\n",
    "import ForecastPrecip"
   ]
  },
  {
   "cell_type": "markdown",
   "metadata": {},
   "source": []
  }
 ],
 "metadata": {
  "kernelspec": {
   "display_name": "Python 3.8.5 ('base')",
   "language": "python",
   "name": "python3"
  },
  "language_info": {
   "codemirror_mode": {
    "name": "ipython",
    "version": 3
   },
   "file_extension": ".py",
   "mimetype": "text/x-python",
   "name": "python",
   "nbconvert_exporter": "python",
   "pygments_lexer": "ipython3",
   "version": "3.8.5"
  },
  "orig_nbformat": 4,
  "vscode": {
   "interpreter": {
    "hash": "f198afccb11a57ca9e4600c4ebf8ddb1582de23e4eaa52d4804571c6e801d767"
   }
  }
 },
 "nbformat": 4,
 "nbformat_minor": 2
}
