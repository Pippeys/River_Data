{
 "cells": [
  {
   "cell_type": "code",
   "execution_count": 1,
   "metadata": {},
   "outputs": [
    {
     "name": "stdout",
     "output_type": "stream",
     "text": [
      "Water Data Pulling...\n"
     ]
    },
    {
     "name": "stderr",
     "output_type": "stream",
     "text": [
      "c:\\Users\\Scott\\Anaconda3\\lib\\site-packages\\pandas\\core\\indexing.py:1637: SettingWithCopyWarning: \n",
      "A value is trying to be set on a copy of a slice from a DataFrame\n",
      "\n",
      "See the caveats in the documentation: https://pandas.pydata.org/pandas-docs/stable/user_guide/indexing.html#returning-a-view-versus-a-copy\n",
      "  self._setitem_single_block(indexer, value, name)\n"
     ]
    },
    {
     "name": "stdout",
     "output_type": "stream",
     "text": [
      "Precipitation Data Pulling...\n",
      "2022-11-25 2022-12-01\n",
      "Russian River HaciendaBridge  Zip Codes\n",
      "95436   95436\n",
      "{'metadata': {'resultset': {'offset': 1, 'count': 10, 'limit': 1000}}, 'results': [{'date': '2022-11-25T00:00:00', 'datatype': 'PRCP', 'station': 'GHCND:US1CASN0090', 'attributes': ',,N,0700', 'value': 0.0}, {'date': '2022-11-25T00:00:00', 'datatype': 'PRCP', 'station': 'GHCND:US1CASN0164', 'attributes': ',,N,0700', 'value': 0.0}, {'date': '2022-11-26T00:00:00', 'datatype': 'PRCP', 'station': 'GHCND:US1CASN0090', 'attributes': ',,N,', 'value': 0.0}, {'date': '2022-11-26T00:00:00', 'datatype': 'PRCP', 'station': 'GHCND:US1CASN0164', 'attributes': ',,N,', 'value': 0.0}, {'date': '2022-11-27T00:00:00', 'datatype': 'PRCP', 'station': 'GHCND:US1CASN0090', 'attributes': ',,N,', 'value': 0.0}, {'date': '2022-11-27T00:00:00', 'datatype': 'PRCP', 'station': 'GHCND:US1CASN0164', 'attributes': ',,N,', 'value': 0.0}, {'date': '2022-11-28T00:00:00', 'datatype': 'PRCP', 'station': 'GHCND:US1CASN0090', 'attributes': ',,N,', 'value': 0.0}, {'date': '2022-11-28T00:00:00', 'datatype': 'PRCP', 'station': 'GHCND:US1CASN0164', 'attributes': ',,N,', 'value': 0.0}, {'date': '2022-11-29T00:00:00', 'datatype': 'PRCP', 'station': 'GHCND:US1CASN0090', 'attributes': ',,N,', 'value': 0.0}, {'date': '2022-11-29T00:00:00', 'datatype': 'PRCP', 'station': 'GHCND:US1CASN0164', 'attributes': ',,N,', 'value': 0.0}]}\n",
      "Forecast Rain Pulling...\n"
     ]
    },
    {
     "name": "stderr",
     "output_type": "stream",
     "text": [
      "c:\\Users\\Scott\\Anaconda3\\lib\\site-packages\\pandas\\core\\generic.py:5494: SettingWithCopyWarning: \n",
      "A value is trying to be set on a copy of a slice from a DataFrame.\n",
      "Try using .loc[row_indexer,col_indexer] = value instead\n",
      "\n",
      "See the caveats in the documentation: https://pandas.pydata.org/pandas-docs/stable/user_guide/indexing.html#returning-a-view-versus-a-copy\n",
      "  self[name] = value\n",
      "c:\\Users\\Scott\\Anaconda3\\lib\\site-packages\\pandas\\core\\frame.py:4308: SettingWithCopyWarning: \n",
      "A value is trying to be set on a copy of a slice from a DataFrame\n",
      "\n",
      "See the caveats in the documentation: https://pandas.pydata.org/pandas-docs/stable/user_guide/indexing.html#returning-a-view-versus-a-copy\n",
      "  return super().drop(\n",
      "c:\\Users\\Scott\\Desktop\\Projects\\River_Data\\Ingestion\\ForecastPrecip.py:89: SettingWithCopyWarning: \n",
      "A value is trying to be set on a copy of a slice from a DataFrame.\n",
      "Try using .loc[row_indexer,col_indexer] = value instead\n",
      "\n",
      "See the caveats in the documentation: https://pandas.pydata.org/pandas-docs/stable/user_guide/indexing.html#returning-a-view-versus-a-copy\n",
      "  df['LightRain'] = df.shortForecast.apply(lambda x: LightRain(x))\n",
      "c:\\Users\\Scott\\Desktop\\Projects\\River_Data\\Ingestion\\ForecastPrecip.py:90: SettingWithCopyWarning: \n",
      "A value is trying to be set on a copy of a slice from a DataFrame.\n",
      "Try using .loc[row_indexer,col_indexer] = value instead\n",
      "\n",
      "See the caveats in the documentation: https://pandas.pydata.org/pandas-docs/stable/user_guide/indexing.html#returning-a-view-versus-a-copy\n",
      "  df['Rain'] = df.shortForecast.apply(lambda x: Rain(x))\n",
      "c:\\Users\\Scott\\Desktop\\Projects\\River_Data\\Ingestion\\ForecastPrecip.py:91: SettingWithCopyWarning: \n",
      "A value is trying to be set on a copy of a slice from a DataFrame.\n",
      "Try using .loc[row_indexer,col_indexer] = value instead\n",
      "\n",
      "See the caveats in the documentation: https://pandas.pydata.org/pandas-docs/stable/user_guide/indexing.html#returning-a-view-versus-a-copy\n",
      "  df['HeavyRain'] = df.shortForecast.apply(lambda x: HeavyRain(x))\n",
      "c:\\Users\\Scott\\Desktop\\Projects\\River_Data\\Ingestion\\ForecastPrecip.py:92: SettingWithCopyWarning: \n",
      "A value is trying to be set on a copy of a slice from a DataFrame.\n",
      "Try using .loc[row_indexer,col_indexer] = value instead\n",
      "\n",
      "See the caveats in the documentation: https://pandas.pydata.org/pandas-docs/stable/user_guide/indexing.html#returning-a-view-versus-a-copy\n",
      "  df['WindMph'] = df.windSpeed.apply(lambda x: WindTranslate(x))\n"
     ]
    }
   ],
   "source": [
    "import WaterPull\n",
    "import PrecipPull\n",
    "import ForecastPrecip"
   ]
  }
 ],
 "metadata": {
  "kernelspec": {
   "display_name": "Python 3.8.5 ('base')",
   "language": "python",
   "name": "python3"
  },
  "language_info": {
   "codemirror_mode": {
    "name": "ipython",
    "version": 3
   },
   "file_extension": ".py",
   "mimetype": "text/x-python",
   "name": "python",
   "nbconvert_exporter": "python",
   "pygments_lexer": "ipython3",
   "version": "3.8.5"
  },
  "orig_nbformat": 4,
  "vscode": {
   "interpreter": {
    "hash": "f198afccb11a57ca9e4600c4ebf8ddb1582de23e4eaa52d4804571c6e801d767"
   }
  }
 },
 "nbformat": 4,
 "nbformat_minor": 2
}
