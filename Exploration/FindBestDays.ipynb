{
 "cells": [
  {
   "cell_type": "code",
   "execution_count": 2,
   "metadata": {},
   "outputs": [
    {
     "data": {
      "text/html": [
       "<div>\n",
       "<style scoped>\n",
       "    .dataframe tbody tr th:only-of-type {\n",
       "        vertical-align: middle;\n",
       "    }\n",
       "\n",
       "    .dataframe tbody tr th {\n",
       "        vertical-align: top;\n",
       "    }\n",
       "\n",
       "    .dataframe thead th {\n",
       "        text-align: right;\n",
       "    }\n",
       "</style>\n",
       "<table border=\"1\" class=\"dataframe\">\n",
       "  <thead>\n",
       "    <tr style=\"text-align: right;\">\n",
       "      <th></th>\n",
       "      <th>Date</th>\n",
       "      <th>Name</th>\n",
       "      <th>RiverName</th>\n",
       "      <th>FishType</th>\n",
       "      <th>Value</th>\n",
       "      <th>CFS_Slope</th>\n",
       "      <th>BestDays</th>\n",
       "    </tr>\n",
       "  </thead>\n",
       "  <tbody>\n",
       "    <tr>\n",
       "      <th>0</th>\n",
       "      <td>2020-10-19</td>\n",
       "      <td>Eel River Scotia</td>\n",
       "      <td>Eel</td>\n",
       "      <td>Steelhead</td>\n",
       "      <td>65.256250</td>\n",
       "      <td>NaN</td>\n",
       "      <td>0</td>\n",
       "    </tr>\n",
       "    <tr>\n",
       "      <th>1</th>\n",
       "      <td>2020-10-20</td>\n",
       "      <td>Eel River Scotia</td>\n",
       "      <td>Eel</td>\n",
       "      <td>Steelhead</td>\n",
       "      <td>65.536458</td>\n",
       "      <td>0.280208</td>\n",
       "      <td>0</td>\n",
       "    </tr>\n",
       "    <tr>\n",
       "      <th>2</th>\n",
       "      <td>2020-10-21</td>\n",
       "      <td>Eel River Scotia</td>\n",
       "      <td>Eel</td>\n",
       "      <td>Steelhead</td>\n",
       "      <td>64.127083</td>\n",
       "      <td>-1.409375</td>\n",
       "      <td>0</td>\n",
       "    </tr>\n",
       "    <tr>\n",
       "      <th>3</th>\n",
       "      <td>2020-10-22</td>\n",
       "      <td>Eel River Scotia</td>\n",
       "      <td>Eel</td>\n",
       "      <td>Steelhead</td>\n",
       "      <td>64.877083</td>\n",
       "      <td>0.750000</td>\n",
       "      <td>0</td>\n",
       "    </tr>\n",
       "    <tr>\n",
       "      <th>4</th>\n",
       "      <td>2020-10-23</td>\n",
       "      <td>Eel River Scotia</td>\n",
       "      <td>Eel</td>\n",
       "      <td>Steelhead</td>\n",
       "      <td>73.515625</td>\n",
       "      <td>8.638542</td>\n",
       "      <td>0</td>\n",
       "    </tr>\n",
       "  </tbody>\n",
       "</table>\n",
       "</div>"
      ],
      "text/plain": [
       "         Date              Name RiverName   FishType      Value  CFS_Slope  \\\n",
       "0  2020-10-19  Eel River Scotia      Eel   Steelhead  65.256250        NaN   \n",
       "1  2020-10-20  Eel River Scotia      Eel   Steelhead  65.536458   0.280208   \n",
       "2  2020-10-21  Eel River Scotia      Eel   Steelhead  64.127083  -1.409375   \n",
       "3  2020-10-22  Eel River Scotia      Eel   Steelhead  64.877083   0.750000   \n",
       "4  2020-10-23  Eel River Scotia      Eel   Steelhead  73.515625   8.638542   \n",
       "\n",
       "   BestDays  \n",
       "0         0  \n",
       "1         0  \n",
       "2         0  \n",
       "3         0  \n",
       "4         0  "
      ]
     },
     "execution_count": 2,
     "metadata": {},
     "output_type": "execute_result"
    }
   ],
   "source": [
    "import numpy as np\n",
    "import pandas as pd\n",
    "import datetime as dt\n",
    "import seaborn as sns\n",
    "import plotly.express as px\n",
    "import matplotlib.pyplot as plt\n",
    "from scipy.signal import find_peaks\n",
    "\n",
    "# Load data tables\n",
    "Refer = pd.read_csv('C:/Users/Scott/Desktop/Projects/River_Data/RiverReferenceTable.csv')\n",
    "Discharge = pd.read_csv('C:/Users/Scott/Desktop/Projects/River_Data/Historical/HistoricalDischarge.csv')\n",
    "Precip = pd.read_csv('C:/Users/Scott/Desktop/Projects/River_Data/Historical/HistoricalPrecip.csv')\n",
    "\n",
    "# Standardize Date and River Names to be joined\n",
    "Discharge['Date'] = pd.to_datetime(Discharge.DateTime).dt.date\n",
    "Discharge = Discharge.set_index('Name').join(Refer.set_index('USGS Name')).reset_index()[[\n",
    "    'Date','Value','VariableDescription','Name','RiverName','FishType']]\n",
    "\n",
    "Precip = Precip.set_index('Name').join(Refer.set_index('Name')).reset_index()[[\n",
    "    'Date','Precip','Name','RiverName','FishType']]\n",
    "\n",
    "# Create Avg Daily Discharge\n",
    "Avg_Discharge = Discharge.groupby(['Date','Name','RiverName','FishType']).mean().reset_index()\n",
    "\n",
    "# Remove incorrect data\n",
    "Avg_Discharge = Avg_Discharge.loc[Avg_Discharge.Value>0]\n",
    "\n",
    "# Reduce data to Eel River only\n",
    "eel = Avg_Discharge.loc[Avg_Discharge['Name']=='Eel River Scotia']\n",
    "eel.reset_index(inplace=True)\n",
    "eel = eel.drop(columns='index')\n",
    "\n",
    "# Create column for slope of discharge\n",
    "eel['CFS_Slope'] = eel.Value.diff()\n",
    "\n",
    "# Retrieve values of Slope\n",
    "SlopeValues = eel.CFS_Slope.values\n",
    "\n",
    "# Define the threshold for what is a good day for fishing\n",
    "#       - slope between day CFS values must be at least 1 STD from the mean \n",
    "border = eel.CFS_Slope.mean()+(eel.CFS_Slope.std()/2)\n",
    "\n",
    "# Define troughs that are below the threshold\n",
    "peaks, _ = find_peaks(-SlopeValues, height=border)\n",
    "\n",
    "# Logic to build the best day flag\n",
    "#       - if the value is a trough point or has a negative low and is above 1 STD from the mean then also consider a good day \n",
    "bestdays = []\n",
    "for i in range(len(eel.Value)):\n",
    "    if i in peaks:\n",
    "        x = 1\n",
    "    elif (eel.CFS_Slope[i]<0) & (eel.Value[i]>=border):\n",
    "        x = 1\n",
    "    else: x = 0\n",
    "    bestdays.append(x)\n",
    "eel['BestDays'] = bestdays\n",
    "\n",
    "eel.head()"
   ]
  },
  {
   "cell_type": "code",
   "execution_count": 3,
   "metadata": {},
   "outputs": [
    {
     "data": {
      "application/vnd.plotly.v1+json": {
       "config": {
        "plotlyServerURL": "https://plot.ly"
       },
       "data": [
        {
         "hovertemplate": "Date=%{x}<br>Value=%{y}<extra></extra>",
         "legendgroup": "",
         "line": {
          "color": "#636efa",
          "dash": "solid"
         },
         "marker": {
          "symbol": "circle"
         },
         "mode": "lines",
         "name": "",
         "orientation": "v",
         "showlegend": false,
         "type": "scatter",
         "x": [
          "2020-10-19",
          "2020-10-20",
          "2020-10-21",
          "2020-10-22",
          "2020-10-23",
          "2020-10-24",
          "2020-10-25",
          "2020-10-26",
          "2020-10-27",
          "2020-10-28",
          "2020-10-29",
          "2020-10-30",
          "2020-10-31",
          "2020-11-01",
          "2020-11-02",
          "2020-11-03",
          "2020-11-04",
          "2020-11-05",
          "2020-11-06",
          "2020-11-07",
          "2020-11-08",
          "2020-11-09",
          "2020-11-10",
          "2020-11-11",
          "2020-11-12",
          "2020-11-13",
          "2020-11-14",
          "2020-11-15",
          "2020-11-16",
          "2020-11-17",
          "2020-11-18",
          "2020-11-19",
          "2020-11-20",
          "2020-11-21",
          "2020-11-22",
          "2020-11-23",
          "2020-11-24",
          "2020-11-25",
          "2020-11-26",
          "2020-11-27",
          "2020-11-28",
          "2020-11-29",
          "2020-11-30",
          "2020-12-01",
          "2020-12-02",
          "2020-12-03",
          "2020-12-04",
          "2020-12-05",
          "2020-12-06",
          "2020-12-07",
          "2020-12-08",
          "2020-12-09",
          "2020-12-10",
          "2020-12-11",
          "2020-12-12",
          "2020-12-13",
          "2020-12-14",
          "2020-12-15",
          "2020-12-16",
          "2020-12-17",
          "2020-12-18",
          "2020-12-19",
          "2020-12-20",
          "2020-12-21",
          "2020-12-22",
          "2020-12-23",
          "2020-12-24",
          "2020-12-25",
          "2020-12-26",
          "2020-12-27",
          "2020-12-28",
          "2020-12-29",
          "2020-12-30",
          "2020-12-31",
          "2021-01-01",
          "2021-01-02",
          "2021-01-03",
          "2021-01-04",
          "2021-01-05",
          "2021-01-06",
          "2021-01-07",
          "2021-01-08",
          "2021-01-09",
          "2021-01-10",
          "2021-01-11",
          "2021-01-12",
          "2021-01-13",
          "2021-01-14",
          "2021-01-15",
          "2021-01-16",
          "2021-01-17",
          "2021-01-18",
          "2021-01-19",
          "2021-01-20",
          "2021-01-21",
          "2021-01-22",
          "2021-01-23",
          "2021-01-24",
          "2021-01-25",
          "2021-01-26",
          "2021-01-27"
         ],
         "xaxis": "x",
         "y": [
          65.25625000000001,
          65.53645833333333,
          64.12708333333333,
          64.87708333333335,
          73.51562500000001,
          79.95,
          78.84166666666668,
          77.14166666666665,
          75.35729166666665,
          74.953125,
          74.87083333333334,
          74.78645833333331,
          75.80104166666666,
          76.64791666666667,
          77.621875,
          78.53749999999998,
          80.03749999999998,
          81.44583333333333,
          83.096875,
          84.90520833333332,
          95.15833333333335,
          94.925,
          92.44875000000003,
          91.90000000000002,
          92.44999999999999,
          107.8125,
          117.3125,
          129.08333333333334,
          158.10416666666666,
          237.27083333333334,
          416.71875,
          613.0104166666666,
          772.1770833333334,
          894.2708333333334,
          670.3333333333334,
          500.5625,
          399.3333333333333,
          348.3125,
          319.3020833333333,
          287.3125,
          262.3854166666667,
          248.05208333333334,
          232.44791666666666,
          222.76041666666666,
          214.64583333333334,
          207.72916666666666,
          199.28125,
          208.07291666666666,
          261.0416666666667,
          262.2083333333333,
          260.125,
          257.125,
          256,
          259.5416666666667,
          263.5104166666667,
          292.7291666666667,
          574.15625,
          608.5208333333334,
          844.8333333333334,
          1536.1145833333333,
          3450.2083333333335,
          2449.8958333333335,
          1475.8333333333333,
          1064.7083333333333,
          865.8333333333334,
          742.1145833333334,
          649.3958333333334,
          662.4791666666666,
          1509.7395833333333,
          4343.75,
          3286.875,
          2026.875,
          1453.9583333333333,
          1304.5833333333333,
          1344.375,
          1531.7708333333333,
          1669.4791666666667,
          3816.71875,
          12030.875,
          7398.125,
          6180.9375,
          6456.875,
          8789.0625,
          5875,
          4224.6875,
          3635.2083333333335,
          12001.770833333334,
          16543.75,
          8806.041666666666,
          5638.541666666667,
          4274.791666666667,
          3488.3333333333335,
          2966.25,
          2532.9166666666665,
          2211.875,
          2028.5416666666667,
          1871.875,
          1771.9791666666667,
          1806.9791666666667,
          1795.875,
          3043.9583333333335
         ],
         "yaxis": "y"
        },
        {
         "mode": "markers",
         "name": "Good fishing days",
         "type": "scatter",
         "x": [
          "2020-12-19",
          "2020-12-20",
          "2020-12-21",
          "2020-12-28",
          "2020-12-29",
          "2020-12-30",
          "2020-12-31",
          "2021-01-06",
          "2021-01-07",
          "2021-01-10",
          "2021-01-11",
          "2021-01-12",
          "2021-01-15",
          "2021-01-16",
          "2021-01-17",
          "2021-01-18",
          "2021-01-19",
          "2021-01-20",
          "2021-01-21",
          "2021-01-22",
          "2021-01-23",
          "2021-01-24",
          "2021-01-26"
         ],
         "y": [
          2449.8958333333335,
          1475.8333333333333,
          1064.7083333333333,
          3286.875,
          2026.875,
          1453.9583333333333,
          1304.5833333333333,
          7398.125,
          6180.9375,
          5875,
          4224.6875,
          3635.2083333333335,
          8806.041666666666,
          5638.541666666667,
          4274.791666666667,
          3488.3333333333335,
          2966.25,
          2532.9166666666665,
          2211.875,
          2028.5416666666667,
          1871.875,
          1771.9791666666667,
          1795.875
         ]
        }
       ],
       "layout": {
        "legend": {
         "tracegroupgap": 0
        },
        "template": {
         "data": {
          "bar": [
           {
            "error_x": {
             "color": "#2a3f5f"
            },
            "error_y": {
             "color": "#2a3f5f"
            },
            "marker": {
             "line": {
              "color": "#E5ECF6",
              "width": 0.5
             },
             "pattern": {
              "fillmode": "overlay",
              "size": 10,
              "solidity": 0.2
             }
            },
            "type": "bar"
           }
          ],
          "barpolar": [
           {
            "marker": {
             "line": {
              "color": "#E5ECF6",
              "width": 0.5
             },
             "pattern": {
              "fillmode": "overlay",
              "size": 10,
              "solidity": 0.2
             }
            },
            "type": "barpolar"
           }
          ],
          "carpet": [
           {
            "aaxis": {
             "endlinecolor": "#2a3f5f",
             "gridcolor": "white",
             "linecolor": "white",
             "minorgridcolor": "white",
             "startlinecolor": "#2a3f5f"
            },
            "baxis": {
             "endlinecolor": "#2a3f5f",
             "gridcolor": "white",
             "linecolor": "white",
             "minorgridcolor": "white",
             "startlinecolor": "#2a3f5f"
            },
            "type": "carpet"
           }
          ],
          "choropleth": [
           {
            "colorbar": {
             "outlinewidth": 0,
             "ticks": ""
            },
            "type": "choropleth"
           }
          ],
          "contour": [
           {
            "colorbar": {
             "outlinewidth": 0,
             "ticks": ""
            },
            "colorscale": [
             [
              0,
              "#0d0887"
             ],
             [
              0.1111111111111111,
              "#46039f"
             ],
             [
              0.2222222222222222,
              "#7201a8"
             ],
             [
              0.3333333333333333,
              "#9c179e"
             ],
             [
              0.4444444444444444,
              "#bd3786"
             ],
             [
              0.5555555555555556,
              "#d8576b"
             ],
             [
              0.6666666666666666,
              "#ed7953"
             ],
             [
              0.7777777777777778,
              "#fb9f3a"
             ],
             [
              0.8888888888888888,
              "#fdca26"
             ],
             [
              1,
              "#f0f921"
             ]
            ],
            "type": "contour"
           }
          ],
          "contourcarpet": [
           {
            "colorbar": {
             "outlinewidth": 0,
             "ticks": ""
            },
            "type": "contourcarpet"
           }
          ],
          "heatmap": [
           {
            "colorbar": {
             "outlinewidth": 0,
             "ticks": ""
            },
            "colorscale": [
             [
              0,
              "#0d0887"
             ],
             [
              0.1111111111111111,
              "#46039f"
             ],
             [
              0.2222222222222222,
              "#7201a8"
             ],
             [
              0.3333333333333333,
              "#9c179e"
             ],
             [
              0.4444444444444444,
              "#bd3786"
             ],
             [
              0.5555555555555556,
              "#d8576b"
             ],
             [
              0.6666666666666666,
              "#ed7953"
             ],
             [
              0.7777777777777778,
              "#fb9f3a"
             ],
             [
              0.8888888888888888,
              "#fdca26"
             ],
             [
              1,
              "#f0f921"
             ]
            ],
            "type": "heatmap"
           }
          ],
          "heatmapgl": [
           {
            "colorbar": {
             "outlinewidth": 0,
             "ticks": ""
            },
            "colorscale": [
             [
              0,
              "#0d0887"
             ],
             [
              0.1111111111111111,
              "#46039f"
             ],
             [
              0.2222222222222222,
              "#7201a8"
             ],
             [
              0.3333333333333333,
              "#9c179e"
             ],
             [
              0.4444444444444444,
              "#bd3786"
             ],
             [
              0.5555555555555556,
              "#d8576b"
             ],
             [
              0.6666666666666666,
              "#ed7953"
             ],
             [
              0.7777777777777778,
              "#fb9f3a"
             ],
             [
              0.8888888888888888,
              "#fdca26"
             ],
             [
              1,
              "#f0f921"
             ]
            ],
            "type": "heatmapgl"
           }
          ],
          "histogram": [
           {
            "marker": {
             "pattern": {
              "fillmode": "overlay",
              "size": 10,
              "solidity": 0.2
             }
            },
            "type": "histogram"
           }
          ],
          "histogram2d": [
           {
            "colorbar": {
             "outlinewidth": 0,
             "ticks": ""
            },
            "colorscale": [
             [
              0,
              "#0d0887"
             ],
             [
              0.1111111111111111,
              "#46039f"
             ],
             [
              0.2222222222222222,
              "#7201a8"
             ],
             [
              0.3333333333333333,
              "#9c179e"
             ],
             [
              0.4444444444444444,
              "#bd3786"
             ],
             [
              0.5555555555555556,
              "#d8576b"
             ],
             [
              0.6666666666666666,
              "#ed7953"
             ],
             [
              0.7777777777777778,
              "#fb9f3a"
             ],
             [
              0.8888888888888888,
              "#fdca26"
             ],
             [
              1,
              "#f0f921"
             ]
            ],
            "type": "histogram2d"
           }
          ],
          "histogram2dcontour": [
           {
            "colorbar": {
             "outlinewidth": 0,
             "ticks": ""
            },
            "colorscale": [
             [
              0,
              "#0d0887"
             ],
             [
              0.1111111111111111,
              "#46039f"
             ],
             [
              0.2222222222222222,
              "#7201a8"
             ],
             [
              0.3333333333333333,
              "#9c179e"
             ],
             [
              0.4444444444444444,
              "#bd3786"
             ],
             [
              0.5555555555555556,
              "#d8576b"
             ],
             [
              0.6666666666666666,
              "#ed7953"
             ],
             [
              0.7777777777777778,
              "#fb9f3a"
             ],
             [
              0.8888888888888888,
              "#fdca26"
             ],
             [
              1,
              "#f0f921"
             ]
            ],
            "type": "histogram2dcontour"
           }
          ],
          "mesh3d": [
           {
            "colorbar": {
             "outlinewidth": 0,
             "ticks": ""
            },
            "type": "mesh3d"
           }
          ],
          "parcoords": [
           {
            "line": {
             "colorbar": {
              "outlinewidth": 0,
              "ticks": ""
             }
            },
            "type": "parcoords"
           }
          ],
          "pie": [
           {
            "automargin": true,
            "type": "pie"
           }
          ],
          "scatter": [
           {
            "marker": {
             "colorbar": {
              "outlinewidth": 0,
              "ticks": ""
             }
            },
            "type": "scatter"
           }
          ],
          "scatter3d": [
           {
            "line": {
             "colorbar": {
              "outlinewidth": 0,
              "ticks": ""
             }
            },
            "marker": {
             "colorbar": {
              "outlinewidth": 0,
              "ticks": ""
             }
            },
            "type": "scatter3d"
           }
          ],
          "scattercarpet": [
           {
            "marker": {
             "colorbar": {
              "outlinewidth": 0,
              "ticks": ""
             }
            },
            "type": "scattercarpet"
           }
          ],
          "scattergeo": [
           {
            "marker": {
             "colorbar": {
              "outlinewidth": 0,
              "ticks": ""
             }
            },
            "type": "scattergeo"
           }
          ],
          "scattergl": [
           {
            "marker": {
             "colorbar": {
              "outlinewidth": 0,
              "ticks": ""
             }
            },
            "type": "scattergl"
           }
          ],
          "scattermapbox": [
           {
            "marker": {
             "colorbar": {
              "outlinewidth": 0,
              "ticks": ""
             }
            },
            "type": "scattermapbox"
           }
          ],
          "scatterpolar": [
           {
            "marker": {
             "colorbar": {
              "outlinewidth": 0,
              "ticks": ""
             }
            },
            "type": "scatterpolar"
           }
          ],
          "scatterpolargl": [
           {
            "marker": {
             "colorbar": {
              "outlinewidth": 0,
              "ticks": ""
             }
            },
            "type": "scatterpolargl"
           }
          ],
          "scatterternary": [
           {
            "marker": {
             "colorbar": {
              "outlinewidth": 0,
              "ticks": ""
             }
            },
            "type": "scatterternary"
           }
          ],
          "surface": [
           {
            "colorbar": {
             "outlinewidth": 0,
             "ticks": ""
            },
            "colorscale": [
             [
              0,
              "#0d0887"
             ],
             [
              0.1111111111111111,
              "#46039f"
             ],
             [
              0.2222222222222222,
              "#7201a8"
             ],
             [
              0.3333333333333333,
              "#9c179e"
             ],
             [
              0.4444444444444444,
              "#bd3786"
             ],
             [
              0.5555555555555556,
              "#d8576b"
             ],
             [
              0.6666666666666666,
              "#ed7953"
             ],
             [
              0.7777777777777778,
              "#fb9f3a"
             ],
             [
              0.8888888888888888,
              "#fdca26"
             ],
             [
              1,
              "#f0f921"
             ]
            ],
            "type": "surface"
           }
          ],
          "table": [
           {
            "cells": {
             "fill": {
              "color": "#EBF0F8"
             },
             "line": {
              "color": "white"
             }
            },
            "header": {
             "fill": {
              "color": "#C8D4E3"
             },
             "line": {
              "color": "white"
             }
            },
            "type": "table"
           }
          ]
         },
         "layout": {
          "annotationdefaults": {
           "arrowcolor": "#2a3f5f",
           "arrowhead": 0,
           "arrowwidth": 1
          },
          "autotypenumbers": "strict",
          "coloraxis": {
           "colorbar": {
            "outlinewidth": 0,
            "ticks": ""
           }
          },
          "colorscale": {
           "diverging": [
            [
             0,
             "#8e0152"
            ],
            [
             0.1,
             "#c51b7d"
            ],
            [
             0.2,
             "#de77ae"
            ],
            [
             0.3,
             "#f1b6da"
            ],
            [
             0.4,
             "#fde0ef"
            ],
            [
             0.5,
             "#f7f7f7"
            ],
            [
             0.6,
             "#e6f5d0"
            ],
            [
             0.7,
             "#b8e186"
            ],
            [
             0.8,
             "#7fbc41"
            ],
            [
             0.9,
             "#4d9221"
            ],
            [
             1,
             "#276419"
            ]
           ],
           "sequential": [
            [
             0,
             "#0d0887"
            ],
            [
             0.1111111111111111,
             "#46039f"
            ],
            [
             0.2222222222222222,
             "#7201a8"
            ],
            [
             0.3333333333333333,
             "#9c179e"
            ],
            [
             0.4444444444444444,
             "#bd3786"
            ],
            [
             0.5555555555555556,
             "#d8576b"
            ],
            [
             0.6666666666666666,
             "#ed7953"
            ],
            [
             0.7777777777777778,
             "#fb9f3a"
            ],
            [
             0.8888888888888888,
             "#fdca26"
            ],
            [
             1,
             "#f0f921"
            ]
           ],
           "sequentialminus": [
            [
             0,
             "#0d0887"
            ],
            [
             0.1111111111111111,
             "#46039f"
            ],
            [
             0.2222222222222222,
             "#7201a8"
            ],
            [
             0.3333333333333333,
             "#9c179e"
            ],
            [
             0.4444444444444444,
             "#bd3786"
            ],
            [
             0.5555555555555556,
             "#d8576b"
            ],
            [
             0.6666666666666666,
             "#ed7953"
            ],
            [
             0.7777777777777778,
             "#fb9f3a"
            ],
            [
             0.8888888888888888,
             "#fdca26"
            ],
            [
             1,
             "#f0f921"
            ]
           ]
          },
          "colorway": [
           "#636efa",
           "#EF553B",
           "#00cc96",
           "#ab63fa",
           "#FFA15A",
           "#19d3f3",
           "#FF6692",
           "#B6E880",
           "#FF97FF",
           "#FECB52"
          ],
          "font": {
           "color": "#2a3f5f"
          },
          "geo": {
           "bgcolor": "white",
           "lakecolor": "white",
           "landcolor": "#E5ECF6",
           "showlakes": true,
           "showland": true,
           "subunitcolor": "white"
          },
          "hoverlabel": {
           "align": "left"
          },
          "hovermode": "closest",
          "mapbox": {
           "style": "light"
          },
          "paper_bgcolor": "white",
          "plot_bgcolor": "#E5ECF6",
          "polar": {
           "angularaxis": {
            "gridcolor": "white",
            "linecolor": "white",
            "ticks": ""
           },
           "bgcolor": "#E5ECF6",
           "radialaxis": {
            "gridcolor": "white",
            "linecolor": "white",
            "ticks": ""
           }
          },
          "scene": {
           "xaxis": {
            "backgroundcolor": "#E5ECF6",
            "gridcolor": "white",
            "gridwidth": 2,
            "linecolor": "white",
            "showbackground": true,
            "ticks": "",
            "zerolinecolor": "white"
           },
           "yaxis": {
            "backgroundcolor": "#E5ECF6",
            "gridcolor": "white",
            "gridwidth": 2,
            "linecolor": "white",
            "showbackground": true,
            "ticks": "",
            "zerolinecolor": "white"
           },
           "zaxis": {
            "backgroundcolor": "#E5ECF6",
            "gridcolor": "white",
            "gridwidth": 2,
            "linecolor": "white",
            "showbackground": true,
            "ticks": "",
            "zerolinecolor": "white"
           }
          },
          "shapedefaults": {
           "line": {
            "color": "#2a3f5f"
           }
          },
          "ternary": {
           "aaxis": {
            "gridcolor": "white",
            "linecolor": "white",
            "ticks": ""
           },
           "baxis": {
            "gridcolor": "white",
            "linecolor": "white",
            "ticks": ""
           },
           "bgcolor": "#E5ECF6",
           "caxis": {
            "gridcolor": "white",
            "linecolor": "white",
            "ticks": ""
           }
          },
          "title": {
           "x": 0.05
          },
          "xaxis": {
           "automargin": true,
           "gridcolor": "white",
           "linecolor": "white",
           "ticks": "",
           "title": {
            "standoff": 15
           },
           "zerolinecolor": "white",
           "zerolinewidth": 2
          },
          "yaxis": {
           "automargin": true,
           "gridcolor": "white",
           "linecolor": "white",
           "ticks": "",
           "title": {
            "standoff": 15
           },
           "zerolinecolor": "white",
           "zerolinewidth": 2
          }
         }
        },
        "title": {
         "text": "Eel River (Scotia) - Daily CFS"
        },
        "xaxis": {
         "anchor": "y",
         "domain": [
          0,
          1
         ],
         "title": {
          "text": "Date"
         }
        },
        "yaxis": {
         "anchor": "x",
         "domain": [
          0,
          1
         ],
         "title": {
          "text": "Value"
         }
        }
       }
      }
     },
     "metadata": {},
     "output_type": "display_data"
    }
   ],
   "source": [
    "dates = eel.loc[eel.BestDays==1].Date.values\n",
    "BestDayValues = eel.Value.loc[eel.BestDays==1].values\n",
    "\n",
    "fig = px.line(eel, x=\"Date\", y=\"Value\", title='Eel River (Scotia) - Daily CFS')\n",
    "fig.add_scatter(x=dates,y=BestDayValues,mode='markers',name='Good fishing days')\n",
    "fig.show()"
   ]
  },
  {
   "cell_type": "code",
   "execution_count": 4,
   "metadata": {},
   "outputs": [
    {
     "data": {
      "text/html": [
       "<div>\n",
       "<style scoped>\n",
       "    .dataframe tbody tr th:only-of-type {\n",
       "        vertical-align: middle;\n",
       "    }\n",
       "\n",
       "    .dataframe tbody tr th {\n",
       "        vertical-align: top;\n",
       "    }\n",
       "\n",
       "    .dataframe thead th {\n",
       "        text-align: right;\n",
       "    }\n",
       "</style>\n",
       "<table border=\"1\" class=\"dataframe\">\n",
       "  <thead>\n",
       "    <tr style=\"text-align: right;\">\n",
       "      <th></th>\n",
       "      <th>Date</th>\n",
       "      <th>Name</th>\n",
       "      <th>RiverName</th>\n",
       "      <th>FishType</th>\n",
       "      <th>Value</th>\n",
       "      <th>CFS_Slope</th>\n",
       "      <th>BestDays</th>\n",
       "    </tr>\n",
       "  </thead>\n",
       "  <tbody>\n",
       "    <tr>\n",
       "      <th>0</th>\n",
       "      <td>2020-10-19</td>\n",
       "      <td>Eel River Scotia</td>\n",
       "      <td>Eel</td>\n",
       "      <td>Steelhead</td>\n",
       "      <td>65.256250</td>\n",
       "      <td>NaN</td>\n",
       "      <td>0</td>\n",
       "    </tr>\n",
       "    <tr>\n",
       "      <th>1</th>\n",
       "      <td>2020-10-20</td>\n",
       "      <td>Eel River Scotia</td>\n",
       "      <td>Eel</td>\n",
       "      <td>Steelhead</td>\n",
       "      <td>65.536458</td>\n",
       "      <td>0.280208</td>\n",
       "      <td>0</td>\n",
       "    </tr>\n",
       "    <tr>\n",
       "      <th>2</th>\n",
       "      <td>2020-10-21</td>\n",
       "      <td>Eel River Scotia</td>\n",
       "      <td>Eel</td>\n",
       "      <td>Steelhead</td>\n",
       "      <td>64.127083</td>\n",
       "      <td>-1.409375</td>\n",
       "      <td>0</td>\n",
       "    </tr>\n",
       "    <tr>\n",
       "      <th>3</th>\n",
       "      <td>2020-10-22</td>\n",
       "      <td>Eel River Scotia</td>\n",
       "      <td>Eel</td>\n",
       "      <td>Steelhead</td>\n",
       "      <td>64.877083</td>\n",
       "      <td>0.750000</td>\n",
       "      <td>0</td>\n",
       "    </tr>\n",
       "    <tr>\n",
       "      <th>4</th>\n",
       "      <td>2020-10-23</td>\n",
       "      <td>Eel River Scotia</td>\n",
       "      <td>Eel</td>\n",
       "      <td>Steelhead</td>\n",
       "      <td>73.515625</td>\n",
       "      <td>8.638542</td>\n",
       "      <td>0</td>\n",
       "    </tr>\n",
       "  </tbody>\n",
       "</table>\n",
       "</div>"
      ],
      "text/plain": [
       "         Date              Name RiverName   FishType      Value  CFS_Slope  \\\n",
       "0  2020-10-19  Eel River Scotia      Eel   Steelhead  65.256250        NaN   \n",
       "1  2020-10-20  Eel River Scotia      Eel   Steelhead  65.536458   0.280208   \n",
       "2  2020-10-21  Eel River Scotia      Eel   Steelhead  64.127083  -1.409375   \n",
       "3  2020-10-22  Eel River Scotia      Eel   Steelhead  64.877083   0.750000   \n",
       "4  2020-10-23  Eel River Scotia      Eel   Steelhead  73.515625   8.638542   \n",
       "\n",
       "   BestDays  \n",
       "0         0  \n",
       "1         0  \n",
       "2         0  \n",
       "3         0  \n",
       "4         0  "
      ]
     },
     "execution_count": 4,
     "metadata": {},
     "output_type": "execute_result"
    }
   ],
   "source": [
    "import numpy as np\n",
    "import pandas as pd\n",
    "from scipy.signal import find_peaks\n",
    "\n",
    "def FindBestDay(df):\n",
    "    df['CFS_Slope'] = df.Value.diff()\n",
    "\n",
    "    # Retrieve values of Slope\n",
    "    SlopeValues = df.CFS_Slope.values\n",
    "\n",
    "    # Define the threshold for what is a good day for fishing\n",
    "    #       - slope between day CFS values must be at least 1 STD from the mean \n",
    "    border = df.CFS_Slope.mean()+(df.CFS_Slope.std()/2)\n",
    "\n",
    "    # Define troughs that are below the threshold\n",
    "    peaks, _ = find_peaks(-SlopeValues, height=border)\n",
    "\n",
    "    # Logic to build the best day flag\n",
    "    #       - if the value is a trough point or has a negative low and is above 1 STD from the mean then also consider a good day \n",
    "    bestdays = []\n",
    "    for i in range(len(df.Value)):\n",
    "        if i in peaks:\n",
    "            x = 1\n",
    "        elif (df.CFS_Slope[i]<0) & (df.Value[i]>=border):\n",
    "            x = 1\n",
    "        else: x = 0\n",
    "        bestdays.append(x)\n",
    "    df['BestDays'] = bestdays\n",
    "    return df\n",
    "\n",
    "\n"
   ]
  }
 ],
 "metadata": {
  "kernelspec": {
   "display_name": "base",
   "language": "python",
   "name": "python3"
  },
  "language_info": {
   "codemirror_mode": {
    "name": "ipython",
    "version": 3
   },
   "file_extension": ".py",
   "mimetype": "text/x-python",
   "name": "python",
   "nbconvert_exporter": "python",
   "pygments_lexer": "ipython3",
   "version": "3.8.5 (default, Sep  3 2020, 21:29:08) [MSC v.1916 64 bit (AMD64)]"
  },
  "orig_nbformat": 4,
  "vscode": {
   "interpreter": {
    "hash": "f198afccb11a57ca9e4600c4ebf8ddb1582de23e4eaa52d4804571c6e801d767"
   }
  }
 },
 "nbformat": 4,
 "nbformat_minor": 2
}
