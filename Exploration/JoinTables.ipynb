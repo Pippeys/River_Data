{
 "cells": [
  {
   "cell_type": "code",
   "execution_count": 11,
   "metadata": {},
   "outputs": [
    {
     "name": "stderr",
     "output_type": "stream",
     "text": [
      "c:\\Users\\Scott\\Anaconda3\\lib\\site-packages\\numpy\\lib\\function_base.py:2683: RuntimeWarning: Degrees of freedom <= 0 for slice\n",
      "  c = cov(x, y, rowvar, dtype=dtype)\n",
      "c:\\Users\\Scott\\Anaconda3\\lib\\site-packages\\numpy\\lib\\function_base.py:2542: RuntimeWarning: divide by zero encountered in true_divide\n",
      "  c *= np.true_divide(1, fact)\n"
     ]
    }
   ],
   "source": [
    "import pandas as pd\n",
    "import numpy as np\n",
    "import datetime\n",
    "\n",
    "# Retrieve River Flows\n",
    "flow = pd.read_csv('C:/Users/Scott/Desktop/Projects/River_Data/Ingestion/CurrentWater.csv')\n",
    "# Retrieve Precip\n",
    "rain = pd.read_csv('C:/Users/Scott/Desktop/Projects/River_Data/Ingestion/CurrentPrecip.csv',index_col=0)\n",
    "# Retrieve Forecast\n",
    "rainforecast = pd.read_csv('C:/Users/Scott/Desktop/Projects/River_Data/Ingestion/NewWeatherForecast.csv',index_col=0)\n",
    "# Retrieve River References\n",
    "reference = pd.read_csv('C:/Users/Scott/Desktop/Projects/River_Data/RiverReferenceTable.csv')\n",
    "\n",
    "rainforecast['EndDate'] = pd.to_datetime(rainforecast.endTime).dt.date\n",
    "rainforecast['StartDate'] = pd.to_datetime(rainforecast.startTime).dt.date\n",
    "\n",
    "# Join on Date\n",
    "flow = flow.set_index('Name').join(reference[['USGS Name','Name']].set_index('USGS Name')).reset_index()\n",
    "flow['CFS'] = flow.Value\n",
    "flow['DateTime'] = pd.to_datetime(flow.DateTime)\n",
    "flow['Date'] = flow.DateTime.dt.date\n",
    "flow = flow[['Date','Name','CFS']].groupby(['Date','Name']).mean().reset_index()\n",
    "flow['Date_Name'] = flow.Date.astype(str)+'_'+flow.Name\n",
    "\n",
    "\n",
    "rain = rain.drop_duplicates()\n",
    "rain['Date'] = pd.to_datetime(rain.Date).dt.date\n",
    "rain['Date_Name'] = rain.Date.astype('str')+'_'+rain.Name\n",
    "rain = rain[['Date_Name','Date','Name','Precip']].groupby(['Date','Name','Date_Name']).mean().reset_index()\n",
    "\n",
    "df = flow.set_index('Date_Name').join(rain[['Date_Name','Precip']].set_index('Date_Name'))\n",
    "RiverList = df.Name.unique()\n",
    "full = df.loc[df.Precip.isnull()==False]\n",
    "\n",
    "# Lag Precip and Forecast data by correlation strength to river flow\n",
    "RiverData = pd.DataFrame()\n",
    "for n in RiverList:\n",
    "    s = 0\n",
    "    CorrList = list()\n",
    "    while s < 10:\n",
    "        d = full[['CFS','Precip']].loc[full.Name==n]\n",
    "        d['Precip'] = d['Precip'].shift(s)\n",
    "        r = d.dropna()\n",
    "        corr = r.Precip.corr(r.CFS)\n",
    "        CorrList.append([s,corr])\n",
    "        s+=1\n",
    "    Corrs = pd.DataFrame(CorrList,columns=['PrecipLag','Corr'])\n",
    "    BestShift = Corrs.sort_values(by='Corr',ascending=False).head(1)\n",
    "    BestShift['Name'] = n\n",
    "    RiverData = RiverData.append(BestShift)\n",
    "\n",
    "flow = flow.loc[flow.Date>=datetime.date(2022,12,1)]\n",
    "rain = rain.loc[rain.Date>=datetime.date(2022,12,1)]\n",
    "rainforecast = rainforecast.loc[rainforecast.EndDate>=datetime.date(2022,12,1)]"
   ]
  }
 ],
 "metadata": {
  "kernelspec": {
   "display_name": "base",
   "language": "python",
   "name": "python3"
  },
  "language_info": {
   "codemirror_mode": {
    "name": "ipython",
    "version": 3
   },
   "file_extension": ".py",
   "mimetype": "text/x-python",
   "name": "python",
   "nbconvert_exporter": "python",
   "pygments_lexer": "ipython3",
   "version": "3.8.5"
  },
  "orig_nbformat": 4,
  "vscode": {
   "interpreter": {
    "hash": "f198afccb11a57ca9e4600c4ebf8ddb1582de23e4eaa52d4804571c6e801d767"
   }
  }
 },
 "nbformat": 4,
 "nbformat_minor": 2
}
