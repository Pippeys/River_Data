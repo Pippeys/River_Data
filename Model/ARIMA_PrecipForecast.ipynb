{
 "cells": [
  {
   "cell_type": "code",
   "execution_count": 1,
   "metadata": {},
   "outputs": [
    {
     "name": "stderr",
     "output_type": "stream",
     "text": [
      "<ipython-input-1-2ea2f28048c5>:66: SettingWithCopyWarning: \n",
      "A value is trying to be set on a copy of a slice from a DataFrame.\n",
      "Try using .loc[row_indexer,col_indexer] = value instead\n",
      "\n",
      "See the caveats in the documentation: https://pandas.pydata.org/pandas-docs/stable/user_guide/indexing.html#returning-a-view-versus-a-copy\n",
      "  df['CFS_Slope'] = df.CFS.diff()\n",
      "<ipython-input-1-2ea2f28048c5>:88: SettingWithCopyWarning: \n",
      "A value is trying to be set on a copy of a slice from a DataFrame.\n",
      "Try using .loc[row_indexer,col_indexer] = value instead\n",
      "\n",
      "See the caveats in the documentation: https://pandas.pydata.org/pandas-docs/stable/user_guide/indexing.html#returning-a-view-versus-a-copy\n",
      "  df['BestDays'] = bestdays\n"
     ]
    },
    {
     "data": {
      "text/html": [
       "<div>\n",
       "<style scoped>\n",
       "    .dataframe tbody tr th:only-of-type {\n",
       "        vertical-align: middle;\n",
       "    }\n",
       "\n",
       "    .dataframe tbody tr th {\n",
       "        vertical-align: top;\n",
       "    }\n",
       "\n",
       "    .dataframe thead th {\n",
       "        text-align: right;\n",
       "    }\n",
       "</style>\n",
       "<table border=\"1\" class=\"dataframe\">\n",
       "  <thead>\n",
       "    <tr style=\"text-align: right;\">\n",
       "      <th></th>\n",
       "      <th>Date_Name</th>\n",
       "      <th>Date</th>\n",
       "      <th>Name</th>\n",
       "      <th>RiverName</th>\n",
       "      <th>FishType</th>\n",
       "      <th>CFS</th>\n",
       "      <th>Precip</th>\n",
       "      <th>CFS_Slope</th>\n",
       "      <th>BestDays</th>\n",
       "    </tr>\n",
       "  </thead>\n",
       "  <tbody>\n",
       "    <tr>\n",
       "      <th>0</th>\n",
       "      <td>2021-12-04_East Fork Carson</td>\n",
       "      <td>2021-12-04</td>\n",
       "      <td>East Fork Carson</td>\n",
       "      <td>East Fork</td>\n",
       "      <td>Trout</td>\n",
       "      <td>85.455000</td>\n",
       "      <td>0.000000</td>\n",
       "      <td>NaN</td>\n",
       "      <td>0</td>\n",
       "    </tr>\n",
       "    <tr>\n",
       "      <th>1</th>\n",
       "      <td>2021-12-05_East Fork Carson</td>\n",
       "      <td>2021-12-05</td>\n",
       "      <td>East Fork Carson</td>\n",
       "      <td>East Fork</td>\n",
       "      <td>Trout</td>\n",
       "      <td>82.156250</td>\n",
       "      <td>0.000000</td>\n",
       "      <td>-3.298750</td>\n",
       "      <td>0</td>\n",
       "    </tr>\n",
       "    <tr>\n",
       "      <th>2</th>\n",
       "      <td>2021-12-06_East Fork Carson</td>\n",
       "      <td>2021-12-06</td>\n",
       "      <td>East Fork Carson</td>\n",
       "      <td>East Fork</td>\n",
       "      <td>Trout</td>\n",
       "      <td>85.530208</td>\n",
       "      <td>3.800000</td>\n",
       "      <td>3.373958</td>\n",
       "      <td>0</td>\n",
       "    </tr>\n",
       "    <tr>\n",
       "      <th>3</th>\n",
       "      <td>2021-12-07_East Fork Carson</td>\n",
       "      <td>2021-12-07</td>\n",
       "      <td>East Fork Carson</td>\n",
       "      <td>East Fork</td>\n",
       "      <td>Trout</td>\n",
       "      <td>91.935069</td>\n",
       "      <td>1.250000</td>\n",
       "      <td>6.404861</td>\n",
       "      <td>0</td>\n",
       "    </tr>\n",
       "    <tr>\n",
       "      <th>4</th>\n",
       "      <td>2021-12-08_East Fork Carson</td>\n",
       "      <td>2021-12-08</td>\n",
       "      <td>East Fork Carson</td>\n",
       "      <td>East Fork</td>\n",
       "      <td>Trout</td>\n",
       "      <td>85.727431</td>\n",
       "      <td>2.533333</td>\n",
       "      <td>-6.207639</td>\n",
       "      <td>0</td>\n",
       "    </tr>\n",
       "  </tbody>\n",
       "</table>\n",
       "</div>"
      ],
      "text/plain": [
       "                     Date_Name        Date              Name   RiverName  \\\n",
       "0  2021-12-04_East Fork Carson  2021-12-04  East Fork Carson  East Fork    \n",
       "1  2021-12-05_East Fork Carson  2021-12-05  East Fork Carson  East Fork    \n",
       "2  2021-12-06_East Fork Carson  2021-12-06  East Fork Carson  East Fork    \n",
       "3  2021-12-07_East Fork Carson  2021-12-07  East Fork Carson  East Fork    \n",
       "4  2021-12-08_East Fork Carson  2021-12-08  East Fork Carson  East Fork    \n",
       "\n",
       "  FishType        CFS    Precip  CFS_Slope  BestDays  \n",
       "0    Trout  85.455000  0.000000        NaN         0  \n",
       "1    Trout  82.156250  0.000000  -3.298750         0  \n",
       "2    Trout  85.530208  3.800000   3.373958         0  \n",
       "3    Trout  91.935069  1.250000   6.404861         0  \n",
       "4    Trout  85.727431  2.533333  -6.207639         0  "
      ]
     },
     "execution_count": 1,
     "metadata": {},
     "output_type": "execute_result"
    }
   ],
   "source": [
    "import numpy as np\n",
    "import pandas as pd\n",
    "import datetime as dt\n",
    "import seaborn as sns\n",
    "import plotly.express as px\n",
    "import matplotlib.pyplot as plt\n",
    "import plotly.graph_objects as go\n",
    "from plotly.subplots import make_subplots\n",
    "from scipy.signal import find_peaks\n",
    "from statsmodels.tsa.stattools import adfuller\n",
    "from statsmodels.tsa.seasonal import seasonal_decompose\n",
    "from statsmodels.graphics.tsaplots import plot_acf,plot_pacf\n",
    "from statsmodels.tsa.arima.model import ARIMA\n",
    "from statsmodels.tsa.statespace.sarimax import SARIMAX\n",
    "\n",
    "# Load data tables\n",
    "Refer = pd.read_csv('C:/Users/Scott/Desktop/Projects/River_Data/RiverReferenceTable.csv')\n",
    "Discharge = pd.read_csv('C:/Users/Scott/Desktop/Projects/River_Data/Ingestion/CurrentWater.csv')\n",
    "Precip = pd.read_csv('C:/Users/Scott/Desktop/Projects/River_Data/Ingestion/CurrentPrecip.csv')\n",
    "forecast_precip = pd.read_csv('C:/Users/Scott/Desktop/Projects/River_Data/Ingestion/NewWeatherForecast.csv')\n",
    "# Standardize Date and River Name\n",
    "Discharge['Date'] = pd.to_datetime(Discharge.DateTime).dt.date\n",
    "Discharge['CFS'] = Discharge['Value']\n",
    "\n",
    "####Discharge\n",
    "#Join river data with reference data\n",
    "Discharge = Discharge.set_index('Name').join(Refer.set_index('USGS Name')).reset_index()[[\n",
    "    'Date','CFS','Name','RiverName','FishType']]\n",
    "\n",
    "# Create Avg Daily Discharge\n",
    "Avg_Discharge = Discharge.groupby(['Date','Name','RiverName','FishType']).mean().reset_index()\n",
    "Avg_Discharge['Date_Name'] = Avg_Discharge.Date.astype('str')+'_'+Avg_Discharge.Name\n",
    "# Remove incorrect data\n",
    "Avg_Discharge = Avg_Discharge.loc[Avg_Discharge.CFS>0]\n",
    "\n",
    "####Precipitiation\n",
    "# Standardize Date\n",
    "Precip['Date'] = pd.to_datetime(Precip.Date).dt.date\n",
    "\n",
    "#Join river data with reference data\n",
    "Precip = Precip.set_index('Name').join(Refer.set_index('Name')).reset_index()[[\n",
    "    'Date','Precip','Name','RiverName','FishType']]\n",
    "\n",
    "# Create Primary Key\n",
    "Precip['Date_Name'] = Precip.Date.astype('str')+'_'+Precip.Name\n",
    "\n",
    "# Create Avg Daily Precip\n",
    "Precip = Precip[['Date_Name','Date','Name','Precip']].groupby(['Date','Name','Date_Name']).mean().reset_index()\n",
    "\n",
    "#Join river data with precip data\n",
    "Rivers_Flow_Rain = Avg_Discharge.set_index('Date_Name').join(Precip[['Date_Name','Precip']].set_index('Date_Name'))\n",
    "\n",
    "#Fill precip nulls with 0\n",
    "Rivers_Flow_Rain['Precip'] = Rivers_Flow_Rain.Precip.fillna(0)\n",
    "\n",
    "# Rename completed dataframe\n",
    "full = Rivers_Flow_Rain.loc[Rivers_Flow_Rain.Precip.isnull()==False]\n",
    "\n",
    "Rivers = []\n",
    "for river in full.Name.unique():\n",
    "    df = full.loc[full.Name == river]\n",
    "    df.reset_index(inplace=True)\n",
    "    # df = df.drop(columns='index')\n",
    "\n",
    "    # Create column for slope of discharge\n",
    "    df['CFS_Slope'] = df.CFS.diff()\n",
    "\n",
    "    # Retrieve values of Slope\n",
    "    SlopeValues = df.CFS_Slope.values\n",
    "\n",
    "    # Define the threshold for what is a good day for fishing\n",
    "    #       - slope between day CFS values must be at least 1 STD from the mean \n",
    "    border = df.CFS_Slope.mean()+(df.CFS_Slope.std()/2)\n",
    "\n",
    "    # Define troughs that are below the threshold\n",
    "    peaks, _ = find_peaks(-SlopeValues, height=border)\n",
    "\n",
    "    # Logic to build the best day flag\n",
    "    #       - if the value is a trough point or has a negative low and is above 1 STD from the mean then also consider a good day \n",
    "    bestdays = []\n",
    "    for i in range(len(df.CFS)):\n",
    "        if i in peaks:\n",
    "            x = 1\n",
    "        elif (df.CFS_Slope[i]<0) & (df.CFS[i]>=border):\n",
    "            x = 1\n",
    "        else: x = 0\n",
    "        bestdays.append(x)\n",
    "    df['BestDays'] = bestdays\n",
    "    Rivers.append(df)\n",
    "\n",
    "Rivers_Flow = pd.concat(Rivers)\n",
    "\n",
    "Rivers_Flow.head()"
   ]
  },
  {
   "cell_type": "code",
   "execution_count": 13,
   "metadata": {},
   "outputs": [
    {
     "data": {
      "text/html": [
       "<div>\n",
       "<style scoped>\n",
       "    .dataframe tbody tr th:only-of-type {\n",
       "        vertical-align: middle;\n",
       "    }\n",
       "\n",
       "    .dataframe tbody tr th {\n",
       "        vertical-align: top;\n",
       "    }\n",
       "\n",
       "    .dataframe thead th {\n",
       "        text-align: right;\n",
       "    }\n",
       "</style>\n",
       "<table border=\"1\" class=\"dataframe\">\n",
       "  <thead>\n",
       "    <tr style=\"text-align: right;\">\n",
       "      <th></th>\n",
       "      <th>Unnamed: 0</th>\n",
       "      <th>Date_Name</th>\n",
       "      <th>ForecastFromPresent</th>\n",
       "      <th>StationName</th>\n",
       "      <th>WeekdayName</th>\n",
       "      <th>startTime</th>\n",
       "      <th>endTime</th>\n",
       "      <th>windDirection</th>\n",
       "      <th>Rain</th>\n",
       "      <th>WindMph</th>\n",
       "      <th>temperature</th>\n",
       "      <th>SnowFlag</th>\n",
       "      <th>WindNorth</th>\n",
       "      <th>WindEast</th>\n",
       "      <th>WindSouth</th>\n",
       "      <th>WindWest</th>\n",
       "      <th>DaysFromPresent</th>\n",
       "      <th>Forecast_Date_Name</th>\n",
       "      <th>Forecast_Date_Name_Days_From_Present</th>\n",
       "    </tr>\n",
       "  </thead>\n",
       "  <tbody>\n",
       "    <tr>\n",
       "      <th>2</th>\n",
       "      <td>2</td>\n",
       "      <td>2022-12-06_Eel River Fort Seward</td>\n",
       "      <td>1</td>\n",
       "      <td>Eel River Fort Seward</td>\n",
       "      <td>Today</td>\n",
       "      <td>2022-12-06</td>\n",
       "      <td>2022-12-06</td>\n",
       "      <td>E</td>\n",
       "      <td>0.0</td>\n",
       "      <td>2.500000</td>\n",
       "      <td>41.000000</td>\n",
       "      <td>0.0</td>\n",
       "      <td>0.0</td>\n",
       "      <td>1.00</td>\n",
       "      <td>0.00</td>\n",
       "      <td>0.0</td>\n",
       "      <td>0</td>\n",
       "      <td>2022-12-06_Eel River Fort Seward</td>\n",
       "      <td>2022-12-06_Eel River Fort Seward_0</td>\n",
       "    </tr>\n",
       "    <tr>\n",
       "      <th>422</th>\n",
       "      <td>422</td>\n",
       "      <td>2022-12-07_Eel River Fort Seward</td>\n",
       "      <td>1</td>\n",
       "      <td>Eel River Fort Seward</td>\n",
       "      <td>Today</td>\n",
       "      <td>2022-12-07</td>\n",
       "      <td>2022-12-07</td>\n",
       "      <td>ESE</td>\n",
       "      <td>0.5</td>\n",
       "      <td>2.000000</td>\n",
       "      <td>39.000000</td>\n",
       "      <td>0.0</td>\n",
       "      <td>0.0</td>\n",
       "      <td>0.75</td>\n",
       "      <td>0.25</td>\n",
       "      <td>0.0</td>\n",
       "      <td>0</td>\n",
       "      <td>2022-12-07_Eel River Fort Seward</td>\n",
       "      <td>2022-12-07_Eel River Fort Seward_0</td>\n",
       "    </tr>\n",
       "    <tr>\n",
       "      <th>623</th>\n",
       "      <td>623</td>\n",
       "      <td>2022-12-08_Eel River Fort Seward</td>\n",
       "      <td>1</td>\n",
       "      <td>Eel River Fort Seward</td>\n",
       "      <td>Thursday</td>\n",
       "      <td>2022-12-08</td>\n",
       "      <td>2022-12-08</td>\n",
       "      <td>SE</td>\n",
       "      <td>2.0</td>\n",
       "      <td>9.500000</td>\n",
       "      <td>38.000000</td>\n",
       "      <td>0.0</td>\n",
       "      <td>0.0</td>\n",
       "      <td>0.50</td>\n",
       "      <td>0.50</td>\n",
       "      <td>0.0</td>\n",
       "      <td>0</td>\n",
       "      <td>2022-12-08_Eel River Fort Seward</td>\n",
       "      <td>2022-12-08_Eel River Fort Seward_0</td>\n",
       "    </tr>\n",
       "    <tr>\n",
       "      <th>828</th>\n",
       "      <td>828</td>\n",
       "      <td>2023-01-03_Eel River Fort Seward</td>\n",
       "      <td>1</td>\n",
       "      <td>Eel River Fort Seward</td>\n",
       "      <td>Today</td>\n",
       "      <td>2023-01-03</td>\n",
       "      <td>2023-01-03</td>\n",
       "      <td>ESE</td>\n",
       "      <td>2.0</td>\n",
       "      <td>6.666667</td>\n",
       "      <td>41.333333</td>\n",
       "      <td>0.0</td>\n",
       "      <td>0.0</td>\n",
       "      <td>0.75</td>\n",
       "      <td>0.25</td>\n",
       "      <td>0.0</td>\n",
       "      <td>0</td>\n",
       "      <td>2023-01-03_Eel River Fort Seward</td>\n",
       "      <td>2023-01-03_Eel River Fort Seward_0</td>\n",
       "    </tr>\n",
       "    <tr>\n",
       "      <th>1053</th>\n",
       "      <td>1053</td>\n",
       "      <td>2023-01-16_Eel River Fort Seward</td>\n",
       "      <td>1</td>\n",
       "      <td>Eel River Fort Seward</td>\n",
       "      <td>M.L. King Jr. Day</td>\n",
       "      <td>2023-01-16</td>\n",
       "      <td>2023-01-16</td>\n",
       "      <td>ESE</td>\n",
       "      <td>2.0</td>\n",
       "      <td>5.333333</td>\n",
       "      <td>42.000000</td>\n",
       "      <td>0.0</td>\n",
       "      <td>0.0</td>\n",
       "      <td>0.75</td>\n",
       "      <td>0.25</td>\n",
       "      <td>0.0</td>\n",
       "      <td>0</td>\n",
       "      <td>2023-01-16_Eel River Fort Seward</td>\n",
       "      <td>2023-01-16_Eel River Fort Seward_0</td>\n",
       "    </tr>\n",
       "  </tbody>\n",
       "</table>\n",
       "</div>"
      ],
      "text/plain": [
       "      Unnamed: 0                         Date_Name  ForecastFromPresent  \\\n",
       "2              2  2022-12-06_Eel River Fort Seward                    1   \n",
       "422          422  2022-12-07_Eel River Fort Seward                    1   \n",
       "623          623  2022-12-08_Eel River Fort Seward                    1   \n",
       "828          828  2023-01-03_Eel River Fort Seward                    1   \n",
       "1053        1053  2023-01-16_Eel River Fort Seward                    1   \n",
       "\n",
       "                StationName        WeekdayName   startTime     endTime  \\\n",
       "2     Eel River Fort Seward              Today  2022-12-06  2022-12-06   \n",
       "422   Eel River Fort Seward              Today  2022-12-07  2022-12-07   \n",
       "623   Eel River Fort Seward           Thursday  2022-12-08  2022-12-08   \n",
       "828   Eel River Fort Seward              Today  2023-01-03  2023-01-03   \n",
       "1053  Eel River Fort Seward  M.L. King Jr. Day  2023-01-16  2023-01-16   \n",
       "\n",
       "     windDirection  Rain   WindMph  temperature  SnowFlag  WindNorth  \\\n",
       "2                E   0.0  2.500000    41.000000       0.0        0.0   \n",
       "422            ESE   0.5  2.000000    39.000000       0.0        0.0   \n",
       "623             SE   2.0  9.500000    38.000000       0.0        0.0   \n",
       "828            ESE   2.0  6.666667    41.333333       0.0        0.0   \n",
       "1053           ESE   2.0  5.333333    42.000000       0.0        0.0   \n",
       "\n",
       "      WindEast  WindSouth  WindWest  DaysFromPresent  \\\n",
       "2         1.00       0.00       0.0                0   \n",
       "422       0.75       0.25       0.0                0   \n",
       "623       0.50       0.50       0.0                0   \n",
       "828       0.75       0.25       0.0                0   \n",
       "1053      0.75       0.25       0.0                0   \n",
       "\n",
       "                    Forecast_Date_Name Forecast_Date_Name_Days_From_Present  \n",
       "2     2022-12-06_Eel River Fort Seward   2022-12-06_Eel River Fort Seward_0  \n",
       "422   2022-12-07_Eel River Fort Seward   2022-12-07_Eel River Fort Seward_0  \n",
       "623   2022-12-08_Eel River Fort Seward   2022-12-08_Eel River Fort Seward_0  \n",
       "828   2023-01-03_Eel River Fort Seward   2023-01-03_Eel River Fort Seward_0  \n",
       "1053  2023-01-16_Eel River Fort Seward   2023-01-16_Eel River Fort Seward_0  "
      ]
     },
     "execution_count": 13,
     "metadata": {},
     "output_type": "execute_result"
    }
   ],
   "source": [
    "#WindDirection - Daily Avg WindDirection \n",
    "directions = {'E':{'N':0,'E':1,'S':0,'W':0}\n",
    "              ,'SW':{'N':0,'E':0,'S':.5,'W':.5}\n",
    "              ,'SSE':{'N':0,'E':.25,'S':.75,'W':0}\n",
    "              ,'ENE':{'N':.25,'E':.75,'S':0,'W':0}\n",
    "              ,'S':{'N':0,'E':0,'S':1,'W':0}\n",
    "              ,'ESE':{'N':0,'E':.75,'S':.25,'W':0}\n",
    "              ,'SE':{'N':0,'E':.5,'S':.5,'W':0}\n",
    "              ,'N':{'N':1,'E':0,'S':0,'W':0}\n",
    "              ,'NNW':{'N':.75,'E':0,'S':0,'W':.25}\n",
    "              ,'NE':{'N':.5,'E':.5,'S':0,'W':0}\n",
    "              ,'NNE':{'N':.75,'E':.25,'S':0,'W':0}\n",
    "              ,'NW':{'N':.5,'E':0,'S':0,'W':.5}\n",
    "              ,'SSW':{'N':0,'E':0,'S':.75,'W':.25}\n",
    "              ,'WSW':{'N':0,'E':0,'S':.25,'W':.75}\n",
    "              ,'WNW':{'N':.25,'E':0,'S':0,'W':.75}\n",
    "              ,'W':{'N':0,'E':0,'S':0,'W':1}}\n",
    "\n",
    "forecast_precip[['WindNorth','WindEast','WindSouth','WindWest']] = forecast_precip.windDirection.apply(lambda x: pd.Series({'WindNorth':directions[x]['N']\n",
    "                                                                                                ,'WindEast':directions[x]['E']\n",
    "                                                                                                ,'WindSouth':directions[x]['S']\n",
    "                                                                                                ,'WindWest':directions[x]['W']}))\n",
    "\n",
    "days = {1:0,2:0,3:1,4:1,5:2,6:2,7:3,8:3,9:4,10:4,11:5,12:5,13:6,14:6}\n",
    "\n",
    "forecast_precip['DaysFromPresent'] = forecast_precip.ForecastFromPresent.apply(lambda x: days[x])\n",
    "forecast_precip['Forecast_Date_Name'] = forecast_precip.endTime.astype(str)+'_'+forecast_precip.StationName\n",
    "forecast_precip['Forecast_Date_Name_Days_From_Present'] = forecast_precip.endTime.astype(str)+'_'+forecast_precip.StationName+'_'+forecast_precip.DaysFromPresent.astype(str)\n",
    "forecast_precip.loc[(forecast_precip.StationName=='Eel River Fort Seward') & (forecast_precip.DaysFromPresent==0)].sort_values('Date_Name').head()\n",
    "#forecast_precip.reset_index(inplace=True)\n",
    "\n",
    "#Rivers_Flow.set_index('Date_Name').join(forecast_precip.set_index('Forecast_Date_Name')[['Forecast']])"
   ]
  },
  {
   "cell_type": "code",
   "execution_count": 89,
   "metadata": {},
   "outputs": [
    {
     "name": "stdout",
     "output_type": "stream",
     "text": [
      "0 0 0.0\n",
      "0 1 nan\n",
      "0 2 nan\n",
      "0 3 0.0\n",
      "0 4 nan\n",
      "0 5 0.5\n",
      "0 6 0.0\n",
      "1 0 0.0\n",
      "1 1 0.0\n",
      "1 2 nan\n",
      "1 3 nan\n",
      "1 4 0.5\n",
      "1 5 nan\n",
      "1 6 0.5\n",
      "2 0 0.0\n",
      "2 1 0.0\n",
      "2 2 0.0\n",
      "2 3 nan\n",
      "2 4 nan\n",
      "2 5 0.0\n",
      "2 6 nan\n",
      "3 0 1.0\n",
      "3 1 1.0\n",
      "3 2 2.0\n",
      "3 3 2.0\n",
      "3 4 nan\n",
      "3 5 nan\n",
      "3 6 0.0\n",
      "4 0 1.0\n",
      "4 1 1.0\n",
      "4 2 0.0\n",
      "4 3 0.0\n",
      "4 4 0.0\n",
      "4 5 nan\n",
      "4 6 nan\n",
      "5 0 nan\n",
      "5 1 0.0\n",
      "5 2 0.0\n",
      "5 3 0.0\n",
      "5 4 0.0\n",
      "5 5 0.0\n",
      "5 6 nan\n",
      "6 0 nan\n",
      "6 1 nan\n",
      "6 2 0.0\n",
      "6 3 0.0\n",
      "6 4 0.0\n",
      "6 5 0.0\n",
      "6 6 0.0\n",
      "7 0 0.0\n",
      "7 1 nan\n",
      "7 2 nan\n",
      "7 3 1.0\n",
      "7 4 0.5\n",
      "7 5 1.0\n",
      "7 6 1.0\n",
      "8 0 0.0\n",
      "8 1 0.0\n",
      "8 2 nan\n",
      "8 3 nan\n",
      "8 4 0.0\n",
      "8 5 0.0\n",
      "8 6 0.0\n",
      "9 0 0.0\n",
      "9 1 0.5\n",
      "9 2 1.0\n",
      "9 3 nan\n",
      "9 4 nan\n",
      "9 5 1.0\n",
      "9 6 1.0\n",
      "10 0 0.0\n",
      "10 1 0.0\n",
      "10 2 0.5\n",
      "10 3 2.0\n",
      "10 4 nan\n",
      "10 5 nan\n",
      "10 6 2.0\n",
      "11 0 nan\n",
      "11 1 0.0\n",
      "11 2 0.0\n",
      "11 3 0.0\n",
      "11 4 0.0\n",
      "11 5 nan\n",
      "11 6 nan\n",
      "12 0 nan\n",
      "12 1 nan\n",
      "12 2 0.0\n",
      "12 3 0.0\n",
      "12 4 0.0\n",
      "12 5 0.0\n",
      "12 6 nan\n",
      "13 0 0.0\n",
      "13 1 nan\n",
      "13 2 nan\n",
      "13 3 0.0\n",
      "13 4 0.0\n",
      "13 5 0.0\n",
      "13 6 0.0\n",
      "14 0 1.5\n",
      "14 1 1.5\n",
      "14 2 nan\n",
      "14 3 nan\n",
      "14 4 0.5\n",
      "14 5 0.5\n",
      "14 6 0.0\n",
      "15 0 1.3333333333333333\n",
      "15 1 1.0\n",
      "15 2 1.0\n",
      "15 3 nan\n",
      "15 4 nan\n",
      "15 5 1.5\n",
      "15 6 1.0\n",
      "16 0 0.0\n",
      "16 1 0.0\n",
      "16 2 0.0\n",
      "16 3 0.0\n",
      "16 4 nan\n",
      "16 5 nan\n",
      "16 6 1.0\n",
      "17 0 0.0\n",
      "17 1 0.0\n",
      "17 2 0.0\n",
      "17 3 0.0\n",
      "17 4 0.0\n",
      "17 5 nan\n",
      "17 6 nan\n",
      "18 0 0.0\n",
      "18 1 0.0\n",
      "18 2 0.0\n",
      "18 3 0.0\n",
      "18 4 0.0\n",
      "18 5 0.0\n",
      "18 6 nan\n",
      "19 0 nan\n",
      "19 1 2.0\n",
      "19 2 2.0\n",
      "19 3 2.0\n",
      "19 4 2.0\n",
      "19 5 2.0\n",
      "19 6 2.0\n",
      "20 0 nan\n",
      "20 1 nan\n",
      "20 2 1.0\n",
      "20 3 1.0\n",
      "20 4 2.0\n",
      "20 5 2.0\n",
      "20 6 2.0\n",
      "21 0 nan\n",
      "21 1 nan\n",
      "21 2 nan\n",
      "21 3 1.0\n",
      "21 4 2.0\n",
      "21 5 2.0\n",
      "21 6 2.0\n",
      "22 0 nan\n",
      "22 1 nan\n",
      "22 2 nan\n",
      "22 3 nan\n",
      "22 4 1.0\n",
      "22 5 1.5\n",
      "22 6 1.75\n",
      "23 0 nan\n",
      "23 1 nan\n",
      "23 2 nan\n",
      "23 3 nan\n",
      "23 4 nan\n",
      "23 5 0.5\n",
      "23 6 0.0\n"
     ]
    }
   ],
   "source": [
    "fore_eel = forecast_precip.loc[(forecast_precip.StationName=='Eel River Fort Seward')]\n",
    "fore_eel  = fore_eel.pivot_table(values='Rain',index='Forecast_Date_Name',columns='DaysFromPresent').tail(25)\n",
    "\n",
    "# If NaN, take the next row's value. If the next row value is NaN, then take the next column's value.\n",
    "row = 0\n",
    "col = 0\n",
    "#fore_eel.iloc[row][0]\n",
    "\n",
    "# for every row in df\n",
    "while row<len(fore_eel[0])-1:\n",
    "\n",
    "    # look at each column's value\n",
    "    while col<7:\n",
    "        \n",
    "        # if it's NaN\n",
    "        if fore_eel.iloc[row][col] == np.nan:\n",
    "\n",
    "            \n",
    "            # then the value = next row's value\n",
    "            value = fore_eel.iloc[row+1][col]\n",
    "\n",
    "        # if the next row's value is also NaN\n",
    "        elif fore_eel.iloc[row+1][col] == np.nan:\n",
    "                \n",
    "                # then the value = the next column's value\n",
    "                value = fore_eel[row][col+1]\n",
    "        \n",
    "        # otherwise the value = current value\n",
    "        elif fore_eel.iloc[row][col] != np.nan:\n",
    "             value = fore_eel.iloc[row][col]\n",
    "        \n",
    "        else: value = 0\n",
    "        print(row,col,value)\n",
    "        \n",
    "        # look at the next column's value\n",
    "        col=col+1 \n",
    "    col = 0 \n",
    "    row=row+1\n",
    "    \n",
    "         "
   ]
  },
  {
   "cell_type": "code",
   "execution_count": 73,
   "metadata": {},
   "outputs": [
    {
     "data": {
      "text/html": [
       "<div>\n",
       "<style scoped>\n",
       "    .dataframe tbody tr th:only-of-type {\n",
       "        vertical-align: middle;\n",
       "    }\n",
       "\n",
       "    .dataframe tbody tr th {\n",
       "        vertical-align: top;\n",
       "    }\n",
       "\n",
       "    .dataframe thead th {\n",
       "        text-align: right;\n",
       "    }\n",
       "</style>\n",
       "<table border=\"1\" class=\"dataframe\">\n",
       "  <thead>\n",
       "    <tr style=\"text-align: right;\">\n",
       "      <th>DaysFromPresent</th>\n",
       "      <th>0</th>\n",
       "      <th>1</th>\n",
       "      <th>2</th>\n",
       "      <th>3</th>\n",
       "      <th>4</th>\n",
       "      <th>5</th>\n",
       "      <th>6</th>\n",
       "    </tr>\n",
       "    <tr>\n",
       "      <th>Forecast_Date_Name</th>\n",
       "      <th></th>\n",
       "      <th></th>\n",
       "      <th></th>\n",
       "      <th></th>\n",
       "      <th></th>\n",
       "      <th></th>\n",
       "      <th></th>\n",
       "    </tr>\n",
       "  </thead>\n",
       "  <tbody>\n",
       "    <tr>\n",
       "      <th>2023-02-07_Eel River Fort Seward</th>\n",
       "      <td>0.000000</td>\n",
       "      <td>NaN</td>\n",
       "      <td>NaN</td>\n",
       "      <td>0.0</td>\n",
       "      <td>NaN</td>\n",
       "      <td>0.5</td>\n",
       "      <td>0.00</td>\n",
       "    </tr>\n",
       "    <tr>\n",
       "      <th>2023-02-08_Eel River Fort Seward</th>\n",
       "      <td>0.000000</td>\n",
       "      <td>0.0</td>\n",
       "      <td>NaN</td>\n",
       "      <td>NaN</td>\n",
       "      <td>0.5</td>\n",
       "      <td>NaN</td>\n",
       "      <td>0.50</td>\n",
       "    </tr>\n",
       "    <tr>\n",
       "      <th>2023-02-09_Eel River Fort Seward</th>\n",
       "      <td>0.000000</td>\n",
       "      <td>0.0</td>\n",
       "      <td>0.0</td>\n",
       "      <td>NaN</td>\n",
       "      <td>NaN</td>\n",
       "      <td>0.0</td>\n",
       "      <td>NaN</td>\n",
       "    </tr>\n",
       "    <tr>\n",
       "      <th>2023-02-10_Eel River Fort Seward</th>\n",
       "      <td>1.000000</td>\n",
       "      <td>1.0</td>\n",
       "      <td>2.0</td>\n",
       "      <td>2.0</td>\n",
       "      <td>NaN</td>\n",
       "      <td>NaN</td>\n",
       "      <td>0.00</td>\n",
       "    </tr>\n",
       "    <tr>\n",
       "      <th>2023-02-11_Eel River Fort Seward</th>\n",
       "      <td>1.000000</td>\n",
       "      <td>1.0</td>\n",
       "      <td>0.0</td>\n",
       "      <td>0.0</td>\n",
       "      <td>0.0</td>\n",
       "      <td>NaN</td>\n",
       "      <td>NaN</td>\n",
       "    </tr>\n",
       "    <tr>\n",
       "      <th>2023-02-12_Eel River Fort Seward</th>\n",
       "      <td>NaN</td>\n",
       "      <td>0.0</td>\n",
       "      <td>0.0</td>\n",
       "      <td>0.0</td>\n",
       "      <td>0.0</td>\n",
       "      <td>0.0</td>\n",
       "      <td>NaN</td>\n",
       "    </tr>\n",
       "    <tr>\n",
       "      <th>2023-02-13_Eel River Fort Seward</th>\n",
       "      <td>NaN</td>\n",
       "      <td>NaN</td>\n",
       "      <td>0.0</td>\n",
       "      <td>0.0</td>\n",
       "      <td>0.0</td>\n",
       "      <td>0.0</td>\n",
       "      <td>0.00</td>\n",
       "    </tr>\n",
       "    <tr>\n",
       "      <th>2023-02-14_Eel River Fort Seward</th>\n",
       "      <td>0.000000</td>\n",
       "      <td>NaN</td>\n",
       "      <td>NaN</td>\n",
       "      <td>1.0</td>\n",
       "      <td>0.5</td>\n",
       "      <td>1.0</td>\n",
       "      <td>1.00</td>\n",
       "    </tr>\n",
       "    <tr>\n",
       "      <th>2023-02-15_Eel River Fort Seward</th>\n",
       "      <td>0.000000</td>\n",
       "      <td>0.0</td>\n",
       "      <td>NaN</td>\n",
       "      <td>NaN</td>\n",
       "      <td>0.0</td>\n",
       "      <td>0.0</td>\n",
       "      <td>0.00</td>\n",
       "    </tr>\n",
       "    <tr>\n",
       "      <th>2023-02-16_Eel River Fort Seward</th>\n",
       "      <td>0.000000</td>\n",
       "      <td>0.5</td>\n",
       "      <td>1.0</td>\n",
       "      <td>NaN</td>\n",
       "      <td>NaN</td>\n",
       "      <td>1.0</td>\n",
       "      <td>1.00</td>\n",
       "    </tr>\n",
       "    <tr>\n",
       "      <th>2023-02-17_Eel River Fort Seward</th>\n",
       "      <td>0.000000</td>\n",
       "      <td>0.0</td>\n",
       "      <td>0.5</td>\n",
       "      <td>2.0</td>\n",
       "      <td>NaN</td>\n",
       "      <td>NaN</td>\n",
       "      <td>2.00</td>\n",
       "    </tr>\n",
       "    <tr>\n",
       "      <th>2023-02-18_Eel River Fort Seward</th>\n",
       "      <td>NaN</td>\n",
       "      <td>0.0</td>\n",
       "      <td>0.0</td>\n",
       "      <td>0.0</td>\n",
       "      <td>0.0</td>\n",
       "      <td>NaN</td>\n",
       "      <td>NaN</td>\n",
       "    </tr>\n",
       "    <tr>\n",
       "      <th>2023-02-19_Eel River Fort Seward</th>\n",
       "      <td>NaN</td>\n",
       "      <td>NaN</td>\n",
       "      <td>0.0</td>\n",
       "      <td>0.0</td>\n",
       "      <td>0.0</td>\n",
       "      <td>0.0</td>\n",
       "      <td>NaN</td>\n",
       "    </tr>\n",
       "    <tr>\n",
       "      <th>2023-02-20_Eel River Fort Seward</th>\n",
       "      <td>0.000000</td>\n",
       "      <td>NaN</td>\n",
       "      <td>NaN</td>\n",
       "      <td>0.0</td>\n",
       "      <td>0.0</td>\n",
       "      <td>0.0</td>\n",
       "      <td>0.00</td>\n",
       "    </tr>\n",
       "    <tr>\n",
       "      <th>2023-02-21_Eel River Fort Seward</th>\n",
       "      <td>1.500000</td>\n",
       "      <td>1.5</td>\n",
       "      <td>NaN</td>\n",
       "      <td>NaN</td>\n",
       "      <td>0.5</td>\n",
       "      <td>0.5</td>\n",
       "      <td>0.00</td>\n",
       "    </tr>\n",
       "    <tr>\n",
       "      <th>2023-02-22_Eel River Fort Seward</th>\n",
       "      <td>1.333333</td>\n",
       "      <td>1.0</td>\n",
       "      <td>1.0</td>\n",
       "      <td>NaN</td>\n",
       "      <td>NaN</td>\n",
       "      <td>1.5</td>\n",
       "      <td>1.00</td>\n",
       "    </tr>\n",
       "    <tr>\n",
       "      <th>2023-02-23_Eel River Fort Seward</th>\n",
       "      <td>0.000000</td>\n",
       "      <td>0.0</td>\n",
       "      <td>0.0</td>\n",
       "      <td>0.0</td>\n",
       "      <td>NaN</td>\n",
       "      <td>NaN</td>\n",
       "      <td>1.00</td>\n",
       "    </tr>\n",
       "    <tr>\n",
       "      <th>2023-02-24_Eel River Fort Seward</th>\n",
       "      <td>0.000000</td>\n",
       "      <td>0.0</td>\n",
       "      <td>0.0</td>\n",
       "      <td>0.0</td>\n",
       "      <td>0.0</td>\n",
       "      <td>NaN</td>\n",
       "      <td>NaN</td>\n",
       "    </tr>\n",
       "    <tr>\n",
       "      <th>2023-02-25_Eel River Fort Seward</th>\n",
       "      <td>0.000000</td>\n",
       "      <td>0.0</td>\n",
       "      <td>0.0</td>\n",
       "      <td>0.0</td>\n",
       "      <td>0.0</td>\n",
       "      <td>0.0</td>\n",
       "      <td>NaN</td>\n",
       "    </tr>\n",
       "    <tr>\n",
       "      <th>2023-02-26_Eel River Fort Seward</th>\n",
       "      <td>NaN</td>\n",
       "      <td>2.0</td>\n",
       "      <td>2.0</td>\n",
       "      <td>2.0</td>\n",
       "      <td>2.0</td>\n",
       "      <td>2.0</td>\n",
       "      <td>2.00</td>\n",
       "    </tr>\n",
       "    <tr>\n",
       "      <th>2023-02-27_Eel River Fort Seward</th>\n",
       "      <td>NaN</td>\n",
       "      <td>NaN</td>\n",
       "      <td>1.0</td>\n",
       "      <td>1.0</td>\n",
       "      <td>2.0</td>\n",
       "      <td>2.0</td>\n",
       "      <td>2.00</td>\n",
       "    </tr>\n",
       "    <tr>\n",
       "      <th>2023-02-28_Eel River Fort Seward</th>\n",
       "      <td>NaN</td>\n",
       "      <td>NaN</td>\n",
       "      <td>NaN</td>\n",
       "      <td>1.0</td>\n",
       "      <td>2.0</td>\n",
       "      <td>2.0</td>\n",
       "      <td>2.00</td>\n",
       "    </tr>\n",
       "    <tr>\n",
       "      <th>2023-03-01_Eel River Fort Seward</th>\n",
       "      <td>NaN</td>\n",
       "      <td>NaN</td>\n",
       "      <td>NaN</td>\n",
       "      <td>NaN</td>\n",
       "      <td>1.0</td>\n",
       "      <td>1.5</td>\n",
       "      <td>1.75</td>\n",
       "    </tr>\n",
       "    <tr>\n",
       "      <th>2023-03-02_Eel River Fort Seward</th>\n",
       "      <td>NaN</td>\n",
       "      <td>NaN</td>\n",
       "      <td>NaN</td>\n",
       "      <td>NaN</td>\n",
       "      <td>NaN</td>\n",
       "      <td>0.5</td>\n",
       "      <td>0.00</td>\n",
       "    </tr>\n",
       "    <tr>\n",
       "      <th>2023-03-03_Eel River Fort Seward</th>\n",
       "      <td>NaN</td>\n",
       "      <td>NaN</td>\n",
       "      <td>NaN</td>\n",
       "      <td>NaN</td>\n",
       "      <td>NaN</td>\n",
       "      <td>NaN</td>\n",
       "      <td>1.00</td>\n",
       "    </tr>\n",
       "  </tbody>\n",
       "</table>\n",
       "</div>"
      ],
      "text/plain": [
       "DaysFromPresent                          0    1    2    3    4    5     6\n",
       "Forecast_Date_Name                                                       \n",
       "2023-02-07_Eel River Fort Seward  0.000000  NaN  NaN  0.0  NaN  0.5  0.00\n",
       "2023-02-08_Eel River Fort Seward  0.000000  0.0  NaN  NaN  0.5  NaN  0.50\n",
       "2023-02-09_Eel River Fort Seward  0.000000  0.0  0.0  NaN  NaN  0.0   NaN\n",
       "2023-02-10_Eel River Fort Seward  1.000000  1.0  2.0  2.0  NaN  NaN  0.00\n",
       "2023-02-11_Eel River Fort Seward  1.000000  1.0  0.0  0.0  0.0  NaN   NaN\n",
       "2023-02-12_Eel River Fort Seward       NaN  0.0  0.0  0.0  0.0  0.0   NaN\n",
       "2023-02-13_Eel River Fort Seward       NaN  NaN  0.0  0.0  0.0  0.0  0.00\n",
       "2023-02-14_Eel River Fort Seward  0.000000  NaN  NaN  1.0  0.5  1.0  1.00\n",
       "2023-02-15_Eel River Fort Seward  0.000000  0.0  NaN  NaN  0.0  0.0  0.00\n",
       "2023-02-16_Eel River Fort Seward  0.000000  0.5  1.0  NaN  NaN  1.0  1.00\n",
       "2023-02-17_Eel River Fort Seward  0.000000  0.0  0.5  2.0  NaN  NaN  2.00\n",
       "2023-02-18_Eel River Fort Seward       NaN  0.0  0.0  0.0  0.0  NaN   NaN\n",
       "2023-02-19_Eel River Fort Seward       NaN  NaN  0.0  0.0  0.0  0.0   NaN\n",
       "2023-02-20_Eel River Fort Seward  0.000000  NaN  NaN  0.0  0.0  0.0  0.00\n",
       "2023-02-21_Eel River Fort Seward  1.500000  1.5  NaN  NaN  0.5  0.5  0.00\n",
       "2023-02-22_Eel River Fort Seward  1.333333  1.0  1.0  NaN  NaN  1.5  1.00\n",
       "2023-02-23_Eel River Fort Seward  0.000000  0.0  0.0  0.0  NaN  NaN  1.00\n",
       "2023-02-24_Eel River Fort Seward  0.000000  0.0  0.0  0.0  0.0  NaN   NaN\n",
       "2023-02-25_Eel River Fort Seward  0.000000  0.0  0.0  0.0  0.0  0.0   NaN\n",
       "2023-02-26_Eel River Fort Seward       NaN  2.0  2.0  2.0  2.0  2.0  2.00\n",
       "2023-02-27_Eel River Fort Seward       NaN  NaN  1.0  1.0  2.0  2.0  2.00\n",
       "2023-02-28_Eel River Fort Seward       NaN  NaN  NaN  1.0  2.0  2.0  2.00\n",
       "2023-03-01_Eel River Fort Seward       NaN  NaN  NaN  NaN  1.0  1.5  1.75\n",
       "2023-03-02_Eel River Fort Seward       NaN  NaN  NaN  NaN  NaN  0.5  0.00\n",
       "2023-03-03_Eel River Fort Seward       NaN  NaN  NaN  NaN  NaN  NaN  1.00"
      ]
     },
     "execution_count": 73,
     "metadata": {},
     "output_type": "execute_result"
    }
   ],
   "source": [
    "fore_eel"
   ]
  },
  {
   "cell_type": "code",
   "execution_count": 4,
   "metadata": {},
   "outputs": [
    {
     "name": "stderr",
     "output_type": "stream",
     "text": [
      "c:\\Users\\Scott\\Anaconda3\\lib\\site-packages\\statsmodels\\tsa\\base\\tsa_model.py:590: ValueWarning: An unsupported index was provided and will be ignored when e.g. forecasting.\n",
      "  warnings.warn('An unsupported index was provided and will be'\n",
      "c:\\Users\\Scott\\Anaconda3\\lib\\site-packages\\statsmodels\\tsa\\base\\tsa_model.py:590: ValueWarning: An unsupported index was provided and will be ignored when e.g. forecasting.\n",
      "  warnings.warn('An unsupported index was provided and will be'\n",
      "c:\\Users\\Scott\\Anaconda3\\lib\\site-packages\\statsmodels\\tsa\\base\\tsa_model.py:390: ValueWarning: No supported index is available. Prediction results will be given with an integer index beginning at `start`.\n",
      "  warnings.warn('No supported index is available.'\n"
     ]
    },
    {
     "data": {
      "application/vnd.plotly.v1+json": {
       "config": {
        "plotlyServerURL": "https://plot.ly"
       },
       "data": [
        {
         "name": "CFS - Observed",
         "type": "scatter",
         "x": [
          "2021-12-04",
          "2021-12-05",
          "2021-12-06",
          "2021-12-07",
          "2021-12-08",
          "2021-12-09",
          "2021-12-10",
          "2021-12-11",
          "2021-12-12",
          "2021-12-13",
          "2021-12-14",
          "2021-12-15",
          "2021-12-16",
          "2021-12-17",
          "2021-12-18",
          "2021-12-19",
          "2021-12-20",
          "2021-12-21",
          "2021-12-22",
          "2021-12-23",
          "2021-12-24",
          "2021-12-25",
          "2021-12-26",
          "2021-12-27",
          "2021-12-28",
          "2021-12-29",
          "2021-12-30",
          "2021-12-31",
          "2022-01-01",
          "2022-01-02",
          "2022-01-03",
          "2022-01-04",
          "2022-01-05",
          "2022-01-06",
          "2022-01-07",
          "2022-01-08",
          "2022-01-09",
          "2022-01-10",
          "2022-01-11",
          "2022-01-12",
          "2022-01-13",
          "2022-01-14",
          "2022-01-15",
          "2022-01-16",
          "2022-01-17",
          "2022-01-18",
          "2022-01-19",
          "2022-01-20",
          "2022-01-21",
          "2022-01-22",
          "2022-01-23",
          "2022-01-24",
          "2022-01-25",
          "2022-01-26",
          "2022-02-14",
          "2022-02-15",
          "2022-02-16",
          "2022-02-17",
          "2022-02-18",
          "2022-02-19",
          "2022-02-20",
          "2022-02-21",
          "2022-02-22",
          "2022-02-23",
          "2022-02-24",
          "2022-02-25",
          "2022-02-26",
          "2022-02-28",
          "2022-03-01",
          "2022-03-02",
          "2022-03-03",
          "2022-03-04",
          "2022-03-05",
          "2022-03-06",
          "2022-03-07",
          "2022-03-08",
          "2022-03-09",
          "2022-03-10",
          "2022-03-11",
          "2022-03-12",
          "2022-03-13",
          "2022-03-14",
          "2022-03-15",
          "2022-03-16",
          "2022-03-17",
          "2022-03-18",
          "2022-03-19",
          "2022-03-20",
          "2022-03-21",
          "2022-03-22",
          "2022-03-23",
          "2022-03-24",
          "2022-03-25",
          "2022-03-26",
          "2022-03-27",
          "2022-03-28",
          "2022-03-29",
          "2022-03-30",
          "2022-03-31",
          "2022-04-01",
          "2022-04-02",
          "2022-04-03",
          "2022-04-04",
          "2022-04-05",
          "2022-04-06",
          "2022-04-07",
          "2022-04-08",
          "2022-04-09",
          "2022-04-10",
          "2022-04-11",
          "2022-04-12",
          "2022-04-13",
          "2022-04-14",
          "2022-04-15",
          "2022-04-16",
          "2022-04-17",
          "2022-04-18",
          "2022-04-19",
          "2022-04-20",
          "2022-04-21",
          "2022-04-22",
          "2022-04-23",
          "2022-04-24",
          "2022-04-25",
          "2022-11-08",
          "2022-11-09",
          "2022-11-10",
          "2022-11-11",
          "2022-11-12",
          "2022-11-13",
          "2022-11-14",
          "2022-11-15",
          "2022-11-16",
          "2022-11-17",
          "2022-11-18",
          "2022-11-19",
          "2022-11-20",
          "2022-11-21",
          "2022-11-22",
          "2022-11-23",
          "2022-11-24",
          "2022-11-25",
          "2022-11-26",
          "2022-11-27",
          "2022-11-28",
          "2022-11-29",
          "2022-11-30",
          "2022-12-01",
          "2022-12-02",
          "2022-12-03",
          "2022-12-04",
          "2022-12-05",
          "2022-12-06",
          "2022-12-07",
          "2022-12-13",
          "2022-12-14",
          "2022-12-15",
          "2022-12-16",
          "2022-12-17",
          "2022-12-18",
          "2022-12-19",
          "2022-12-21",
          "2022-12-22",
          "2022-12-23",
          "2022-12-24",
          "2022-12-25",
          "2022-12-26",
          "2022-12-27",
          "2022-12-28",
          "2022-12-29",
          "2022-12-30",
          "2022-12-31",
          "2023-01-01",
          "2023-01-02",
          "2023-01-03",
          "2023-01-04",
          "2023-01-05",
          "2023-01-06",
          "2023-01-07",
          "2023-01-08",
          "2023-01-09",
          "2023-01-10",
          "2023-01-11",
          "2023-01-12",
          "2023-01-13",
          "2023-01-14",
          "2023-01-15",
          "2023-01-16",
          "2023-01-17",
          "2023-01-18",
          "2023-01-19",
          "2023-01-20",
          "2023-01-21",
          "2023-01-22",
          "2023-01-23",
          "2023-01-24",
          "2023-01-25",
          "2023-01-26",
          "2023-01-27",
          "2023-01-28",
          "2023-01-29",
          "2023-01-30",
          "2023-01-31",
          "2023-02-01",
          "2023-02-02",
          "2023-02-03",
          "2023-02-04",
          "2023-02-05",
          "2023-02-06",
          "2023-02-07",
          "2023-02-08",
          "2023-02-09",
          "2023-02-10",
          "2023-02-11",
          "2023-02-12",
          "2023-02-13",
          "2023-02-14",
          "2023-02-15",
          "2023-02-16",
          "2023-02-17",
          "2023-02-18",
          "2023-02-19",
          "2023-02-20",
          "2023-02-21",
          "2023-02-22",
          "2023-02-23",
          "2023-02-24"
         ],
         "xaxis": "x",
         "y": [
          911.5,
          892.8854166666666,
          880.3958333333334,
          904.6666666666666,
          896.1875,
          885.9895833333334,
          848,
          1848.9107142857142,
          1925.53125,
          8941.041666666666,
          24989.0625,
          14913.020833333334,
          30604.326923076922,
          23531.248684210525,
          14819.444444444445,
          10153.194444444445,
          7753.611111111111,
          6486.354166666667,
          8162.881944444444,
          26111.458333333332,
          45585.9375,
          37696.153846153844,
          40573.4375,
          32631.25,
          28041.666666666668,
          22196.527777777777,
          20008.680555555555,
          16022.569444444445,
          13640.756578947368,
          10690.33088235294,
          10146.927083333334,
          32802.083333333336,
          36965.625,
          28242.85714285714,
          24636.458333333332,
          23604.878846153846,
          18740.96153846154,
          15887.5,
          12893.75,
          11017.708333333334,
          9671.71875,
          8683.072916666666,
          7843.645833333333,
          7130.511363636364,
          5705.491071428572,
          5945.3125,
          5461.041666666667,
          5045.416666666667,
          4738.333333333333,
          4634.375,
          4399.583333333333,
          4176.041666666667,
          4006.3541666666665,
          3883.59375,
          2398.125,
          2308.9583333333335,
          2224.4791666666665,
          2099.0625,
          1721.705357142857,
          1879.7232142857142,
          1788.8541666666667,
          1759.375,
          1759.9479166666667,
          1681.875,
          1613.9423076923076,
          1526.5,
          1485.46875,
          1353.2142857142858,
          1336.0511363636363,
          1306.6193181818182,
          1326.8125,
          1326.275,
          1295.8838541666667,
          1372.4375,
          1238.3322368421052,
          1233.025,
          1173.7083333333333,
          1133.6666666666667,
          1055.3146484375,
          1097.5,
          1095.0892857142858,
          1097.890625,
          1203.9285714285713,
          1344.75,
          1801.9270833333333,
          1633.5197368421052,
          1446.953125,
          1247.7350000000001,
          1315.3846153846155,
          1245.625,
          1163.4375,
          1165.985576923077,
          1322.9375,
          1266.6666666666667,
          1174.23125,
          1141.1805555555557,
          1109.375,
          1100.9375,
          1054.1666666666667,
          993.9166666666666,
          944.8645833333334,
          902.25,
          881.59375,
          849.1666666666666,
          818.5833333333334,
          810.5,
          772.9895833333334,
          733.7395833333334,
          862.1785714285714,
          799.4375,
          766.9535714285714,
          957.9270833333334,
          1733.6458333333333,
          6064.791666666667,
          10530.208333333334,
          14678.660714285714,
          8551.041666666666,
          8595.104166666666,
          11817.708333333334,
          21059.375,
          23503.125,
          15237.5,
          10709.583333333334,
          8672.34375,
          645.3125,
          795.3333333333334,
          829.0625,
          716.8392857142857,
          585.125,
          495.2708333333333,
          441.34375,
          424.6458333333333,
          400.6298076923077,
          372.40277777777777,
          354.3776041666667,
          335.9583333333333,
          337.055,
          305.1796875,
          292.484375,
          283.0364583333333,
          272.0598958333333,
          285.99174999999997,
          259.0416666666667,
          263.1770833333333,
          267.79761904761904,
          272.2631578947368,
          276.38194444444446,
          536.8020833333334,
          917.3088235294117,
          1074,
          1161.0416666666667,
          2443.6458333333335,
          3744.375,
          3216,
          4288.75,
          3395.4166666666665,
          2473.8541666666665,
          2003.5416666666667,
          1567.8214285714287,
          1525.2083333333333,
          8120.625,
          1141.875,
          1105.9375,
          1204.375,
          1707.2767857142858,
          2419.7916666666665,
          2469.765625,
          37472.958333333336,
          43127.30263157895,
          17682.03125,
          32391.875,
          111410.85294117648,
          46238.92939189189,
          25163.75,
          19952.241185897437,
          15276.5625,
          46322.97297297297,
          61818.055555555555,
          47810.92105263158,
          92821.21710526316,
          82355.41666666667,
          74494.01041666667,
          79075.93137254902,
          83607.29166666667,
          66573.88522727272,
          87245.37037037036,
          95385.48295454546,
          57538.60491071428,
          37045.127118644064,
          27237.291666666668,
          25977.490520833333,
          21555.82341101695,
          18216.29464285714,
          15552.18112244898,
          13173.149387254902,
          12233.629385964912,
          10634.155092592593,
          9464.118852459016,
          8459.579319852943,
          8239.850746268658,
          7533.731343283582,
          7074.166666666667,
          6381.96337890625,
          5932.261363636364,
          5622.747844827586,
          5297.948588709677,
          5464.494791666667,
          8905.595703125,
          18922.438541666666,
          13576.03409090909,
          10543.822115384615,
          8768.5125,
          8078.28125,
          7502.868243243243,
          6994.930555555556,
          6240.663043478261,
          6035.3125,
          5634.791666666667,
          5224.598214285715,
          4919.956896551724,
          4627.375,
          4370.384615384615,
          4142.146739130435,
          3887.5361842105262,
          4588.492647058823,
          4896.388888888889,
          5079.166666666667
         ],
         "yaxis": "y"
        },
        {
         "name": "CFS - Forecast",
         "type": "scatter",
         "x": [
          "2021-12-04",
          "2021-12-05",
          "2021-12-06",
          "2021-12-07",
          "2021-12-08",
          "2021-12-09",
          "2021-12-10",
          "2021-12-11",
          "2021-12-12",
          "2021-12-13",
          "2021-12-14",
          "2021-12-15",
          "2021-12-16",
          "2021-12-17",
          "2021-12-18",
          "2021-12-19",
          "2021-12-20",
          "2021-12-21",
          "2021-12-22",
          "2021-12-23",
          "2021-12-24",
          "2021-12-25",
          "2021-12-26",
          "2021-12-27",
          "2021-12-28",
          "2021-12-29",
          "2021-12-30",
          "2021-12-31",
          "2022-01-01",
          "2022-01-02",
          "2022-01-03",
          "2022-01-04",
          "2022-01-05",
          "2022-01-06",
          "2022-01-07",
          "2022-01-08",
          "2022-01-09",
          "2022-01-10",
          "2022-01-11",
          "2022-01-12",
          "2022-01-13",
          "2022-01-14",
          "2022-01-15",
          "2022-01-16",
          "2022-01-17",
          "2022-01-18",
          "2022-01-19",
          "2022-01-20",
          "2022-01-21",
          "2022-01-22",
          "2022-01-23",
          "2022-01-24",
          "2022-01-25",
          "2022-01-26",
          "2022-02-14",
          "2022-02-15",
          "2022-02-16",
          "2022-02-17",
          "2022-02-18",
          "2022-02-19",
          "2022-02-20",
          "2022-02-21",
          "2022-02-22",
          "2022-02-23",
          "2022-02-24",
          "2022-02-25",
          "2022-02-26",
          "2022-02-28",
          "2022-03-01",
          "2022-03-02",
          "2022-03-03",
          "2022-03-04",
          "2022-03-05",
          "2022-03-06",
          "2022-03-07",
          "2022-03-08",
          "2022-03-09",
          "2022-03-10",
          "2022-03-11",
          "2022-03-12",
          "2022-03-13",
          "2022-03-14",
          "2022-03-15",
          "2022-03-16",
          "2022-03-17",
          "2022-03-18",
          "2022-03-19",
          "2022-03-20",
          "2022-03-21",
          "2022-03-22",
          "2022-03-23",
          "2022-03-24",
          "2022-03-25",
          "2022-03-26",
          "2022-03-27",
          "2022-03-28",
          "2022-03-29",
          "2022-03-30",
          "2022-03-31",
          "2022-04-01",
          "2022-04-02",
          "2022-04-03",
          "2022-04-04",
          "2022-04-05",
          "2022-04-06",
          "2022-04-07",
          "2022-04-08",
          "2022-04-09",
          "2022-04-10",
          "2022-04-11",
          "2022-04-12",
          "2022-04-13",
          "2022-04-14",
          "2022-04-15",
          "2022-04-16",
          "2022-04-17",
          "2022-04-18",
          "2022-04-19",
          "2022-04-20",
          "2022-04-21",
          "2022-04-22",
          "2022-04-23",
          "2022-04-24",
          "2022-04-25",
          "2022-11-08",
          "2022-11-09",
          "2022-11-10",
          "2022-11-11",
          "2022-11-12",
          "2022-11-13",
          "2022-11-14",
          "2022-11-15",
          "2022-11-16",
          "2022-11-17",
          "2022-11-18",
          "2022-11-19",
          "2022-11-20",
          "2022-11-21",
          "2022-11-22",
          "2022-11-23",
          "2022-11-24",
          "2022-11-25",
          "2022-11-26",
          "2022-11-27",
          "2022-11-28",
          "2022-11-29",
          "2022-11-30",
          "2022-12-01",
          "2022-12-02",
          "2022-12-03",
          "2022-12-04",
          "2022-12-05",
          "2022-12-06",
          "2022-12-07",
          "2022-12-13",
          "2022-12-14",
          "2022-12-15",
          "2022-12-16",
          "2022-12-17",
          "2022-12-18",
          "2022-12-19",
          "2022-12-21",
          "2022-12-22",
          "2022-12-23",
          "2022-12-24",
          "2022-12-25",
          "2022-12-26",
          "2022-12-27",
          "2022-12-28",
          "2022-12-29",
          "2022-12-30",
          "2022-12-31",
          "2023-01-01",
          "2023-01-02",
          "2023-01-03",
          "2023-01-04",
          "2023-01-05",
          "2023-01-06",
          "2023-01-07",
          "2023-01-08",
          "2023-01-09",
          "2023-01-10",
          "2023-01-11",
          "2023-01-12",
          "2023-01-13",
          "2023-01-14",
          "2023-01-15",
          "2023-01-16",
          "2023-01-17",
          "2023-01-18",
          "2023-01-19",
          "2023-01-20",
          "2023-01-21",
          "2023-01-22",
          "2023-01-23",
          "2023-01-24",
          "2023-01-25",
          "2023-01-26",
          "2023-01-27",
          "2023-01-28",
          "2023-01-29",
          "2023-01-30",
          "2023-01-31",
          "2023-02-01",
          "2023-02-02",
          "2023-02-03",
          "2023-02-04",
          "2023-02-05",
          "2023-02-06",
          "2023-02-07",
          "2023-02-08",
          "2023-02-09",
          "2023-02-10",
          "2023-02-11",
          "2023-02-12",
          "2023-02-13",
          "2023-02-14",
          "2023-02-15",
          "2023-02-16",
          "2023-02-17",
          "2023-02-18",
          "2023-02-19",
          "2023-02-20",
          "2023-02-21",
          "2023-02-22",
          "2023-02-23",
          "2023-02-24"
         ],
         "xaxis": "x2",
         "y": [
          1546.9590087986185,
          1538.621762184649,
          1532.1133911569561,
          2142.447085997531,
          5314.655939713386,
          1751.4342631053812,
          1581.4205353382763,
          1800.284493158642,
          3991.5464726289288,
          12750.509179848446,
          18500.835180542454,
          16036.349036402551,
          27666.26986007177,
          21413.424721724186,
          21385.48356693385,
          15213.328891454279,
          10502.253598954781,
          8079.671577431656,
          10197.322645358683,
          15132.065157905052,
          29343.863606141556,
          35231.61298536589,
          39593.58429705776,
          36906.42626297799,
          35357.774938344555,
          25693.3119535906,
          22602.300131519994,
          18116.804058632875,
          16174.493875791515,
          12845.34727437505,
          11025.31635954011,
          21405.15099917014,
          28419.662746403705,
          30389.2925628391,
          27994.84381961769,
          25339.533465658034,
          20730.833383861365,
          18118.465008157993,
          14920.208347228663,
          12614.107247883318,
          10758.12511273885,
          9719.555931577279,
          8553.101449886994,
          7794.317425628085,
          6905.235508420588,
          6338.40848998008,
          5839.918306989681,
          5642.825414908864,
          5282.431173102994,
          5035.595175608269,
          4842.754552565513,
          4674.858797213128,
          4487.336842967199,
          4333.266516153927,
          3802.394942913003,
          3295.5662408998296,
          2800.1680113008833,
          2710.8703615015693,
          2535.521360501905,
          2432.5800144556997,
          2339.954308742583,
          2351.2021601981232,
          2315.438222621883,
          2283.4951065146397,
          2240.0700778766004,
          2170.3644133119037,
          2111.7190915784986,
          2033.8678076513552,
          1977.0013134246392,
          1923.598315959874,
          1915.7149557432278,
          1912.7958802944827,
          2193.906891262478,
          1923.2136142665972,
          1896.9546146699988,
          1878.1854679325738,
          1818.8465420227406,
          1787.5942471627304,
          1734.5313698727286,
          1711.7761763536837,
          1700.2572816261254,
          1712.9701247440084,
          1744.7488375551093,
          4378.144317917911,
          2029.5151193026759,
          2157.7875755483665,
          2188.3046041448824,
          2022.8273190320642,
          1927.8347383348082,
          1867.7197844338593,
          1842.5492310078776,
          1797.9398834069823,
          1821.0247721847777,
          1851.8481685453212,
          1854.3102600037378,
          1800.0391027252647,
          1753.0730800164647,
          1731.188157567216,
          1705.2065123336065,
          1670.7315854657693,
          1624.129471674647,
          1578.7683806027835,
          1545.229663856493,
          1516.6550379872383,
          1491.6728463053128,
          1470.4448261074613,
          1447.6989635863054,
          1422.365304317221,
          1437.7961088265038,
          1445.6932433733673,
          1455.6106722632055,
          1484.2004054623758,
          1763.1474770263494,
          3345.039191708185,
          6203.245148132144,
          10068.522157072399,
          10810.896349134408,
          10233.08985651098,
          9378.83255642555,
          13113.719978195537,
          17565.13472787454,
          18586.25693021222,
          15495.892635973196,
          11067.54100274358,
          6710.4315383977355,
          3750.1164720726388,
          1408.17596686043,
          1429.5332880290314,
          1366.7667755612445,
          1267.0992767744378,
          1184.838532383253,
          1136.9207478897583,
          1108.6617011542426,
          1088.0764830332002,
          1067.094956696254,
          1047.784576192804,
          1037.2300149182079,
          1022.5399139080314,
          1009.5589406778874,
          993.4294399333285,
          983.5401373371278,
          981.6014918916832,
          974.4368406791189,
          971.7845045291236,
          966.3518838087439,
          970.2997144244478,
          974.2425794213917,
          1163.917655294897,
          1247.1705740735079,
          1485.3328906414822,
          1671.725794142823,
          2127.4777114751623,
          2924.8301431001346,
          3538.4241229611403,
          4089.3573416637705,
          3985.1611985680884,
          3763.5624400309257,
          3081.217667722549,
          2535.5124738372488,
          2252.2544812484803,
          4078.7662147263345,
          3951.5820474976113,
          3826.3911591513074,
          1761.254706321194,
          1930.0791181301672,
          2322.3853727169826,
          2700.220804744018,
          13379.564773556805,
          40581.40493277025,
          30579.78048789714,
          28559.5884364391,
          48948.505678153735,
          57475.365079213196,
          55317.10526744921,
          28008.30164394464,
          18763.188680366664,
          25081.161957076853,
          37581.95637344407,
          47296.45336480277,
          61180.45393594846,
          67312.74427760631,
          75280.09949463757,
          71175.86806558372,
          71549.6678410237,
          69184.78235545052,
          71624.11093286933,
          75140.98383032162,
          72443.12202034322,
          57453.734378184694,
          37105.23424834004,
          27681.340112285936,
          23056.358985869545,
          20362.76205187482,
          17249.848772187717,
          14746.849936306553,
          12960.474356029905,
          11491.99145991947,
          10384.504865006484,
          9257.60396259062,
          8542.684000940426,
          7966.285864192027,
          7552.6128228318885,
          6997.86264353058,
          6519.676627541774,
          6086.294676729756,
          5762.616605717007,
          5622.945281055519,
          6668.788674841035,
          18785.29641861383,
          13093.380145290323,
          13582.541335522952,
          10550.660936753846,
          8909.0762918362,
          8001.071998652171,
          7471.494738496229,
          6922.796767099542,
          6484.596461741607,
          6078.469962503394,
          5775.081201656962,
          5442.045016650729,
          5141.238527365071,
          4886.177238141305,
          4653.929400155079,
          4433.0194984445425,
          4498.144797105729,
          4723.355418139835,
          5079.166666666668
         ],
         "yaxis": "y2"
        }
       ],
       "layout": {
        "template": {
         "data": {
          "bar": [
           {
            "error_x": {
             "color": "#2a3f5f"
            },
            "error_y": {
             "color": "#2a3f5f"
            },
            "marker": {
             "line": {
              "color": "#E5ECF6",
              "width": 0.5
             },
             "pattern": {
              "fillmode": "overlay",
              "size": 10,
              "solidity": 0.2
             }
            },
            "type": "bar"
           }
          ],
          "barpolar": [
           {
            "marker": {
             "line": {
              "color": "#E5ECF6",
              "width": 0.5
             },
             "pattern": {
              "fillmode": "overlay",
              "size": 10,
              "solidity": 0.2
             }
            },
            "type": "barpolar"
           }
          ],
          "carpet": [
           {
            "aaxis": {
             "endlinecolor": "#2a3f5f",
             "gridcolor": "white",
             "linecolor": "white",
             "minorgridcolor": "white",
             "startlinecolor": "#2a3f5f"
            },
            "baxis": {
             "endlinecolor": "#2a3f5f",
             "gridcolor": "white",
             "linecolor": "white",
             "minorgridcolor": "white",
             "startlinecolor": "#2a3f5f"
            },
            "type": "carpet"
           }
          ],
          "choropleth": [
           {
            "colorbar": {
             "outlinewidth": 0,
             "ticks": ""
            },
            "type": "choropleth"
           }
          ],
          "contour": [
           {
            "colorbar": {
             "outlinewidth": 0,
             "ticks": ""
            },
            "colorscale": [
             [
              0,
              "#0d0887"
             ],
             [
              0.1111111111111111,
              "#46039f"
             ],
             [
              0.2222222222222222,
              "#7201a8"
             ],
             [
              0.3333333333333333,
              "#9c179e"
             ],
             [
              0.4444444444444444,
              "#bd3786"
             ],
             [
              0.5555555555555556,
              "#d8576b"
             ],
             [
              0.6666666666666666,
              "#ed7953"
             ],
             [
              0.7777777777777778,
              "#fb9f3a"
             ],
             [
              0.8888888888888888,
              "#fdca26"
             ],
             [
              1,
              "#f0f921"
             ]
            ],
            "type": "contour"
           }
          ],
          "contourcarpet": [
           {
            "colorbar": {
             "outlinewidth": 0,
             "ticks": ""
            },
            "type": "contourcarpet"
           }
          ],
          "heatmap": [
           {
            "colorbar": {
             "outlinewidth": 0,
             "ticks": ""
            },
            "colorscale": [
             [
              0,
              "#0d0887"
             ],
             [
              0.1111111111111111,
              "#46039f"
             ],
             [
              0.2222222222222222,
              "#7201a8"
             ],
             [
              0.3333333333333333,
              "#9c179e"
             ],
             [
              0.4444444444444444,
              "#bd3786"
             ],
             [
              0.5555555555555556,
              "#d8576b"
             ],
             [
              0.6666666666666666,
              "#ed7953"
             ],
             [
              0.7777777777777778,
              "#fb9f3a"
             ],
             [
              0.8888888888888888,
              "#fdca26"
             ],
             [
              1,
              "#f0f921"
             ]
            ],
            "type": "heatmap"
           }
          ],
          "heatmapgl": [
           {
            "colorbar": {
             "outlinewidth": 0,
             "ticks": ""
            },
            "colorscale": [
             [
              0,
              "#0d0887"
             ],
             [
              0.1111111111111111,
              "#46039f"
             ],
             [
              0.2222222222222222,
              "#7201a8"
             ],
             [
              0.3333333333333333,
              "#9c179e"
             ],
             [
              0.4444444444444444,
              "#bd3786"
             ],
             [
              0.5555555555555556,
              "#d8576b"
             ],
             [
              0.6666666666666666,
              "#ed7953"
             ],
             [
              0.7777777777777778,
              "#fb9f3a"
             ],
             [
              0.8888888888888888,
              "#fdca26"
             ],
             [
              1,
              "#f0f921"
             ]
            ],
            "type": "heatmapgl"
           }
          ],
          "histogram": [
           {
            "marker": {
             "pattern": {
              "fillmode": "overlay",
              "size": 10,
              "solidity": 0.2
             }
            },
            "type": "histogram"
           }
          ],
          "histogram2d": [
           {
            "colorbar": {
             "outlinewidth": 0,
             "ticks": ""
            },
            "colorscale": [
             [
              0,
              "#0d0887"
             ],
             [
              0.1111111111111111,
              "#46039f"
             ],
             [
              0.2222222222222222,
              "#7201a8"
             ],
             [
              0.3333333333333333,
              "#9c179e"
             ],
             [
              0.4444444444444444,
              "#bd3786"
             ],
             [
              0.5555555555555556,
              "#d8576b"
             ],
             [
              0.6666666666666666,
              "#ed7953"
             ],
             [
              0.7777777777777778,
              "#fb9f3a"
             ],
             [
              0.8888888888888888,
              "#fdca26"
             ],
             [
              1,
              "#f0f921"
             ]
            ],
            "type": "histogram2d"
           }
          ],
          "histogram2dcontour": [
           {
            "colorbar": {
             "outlinewidth": 0,
             "ticks": ""
            },
            "colorscale": [
             [
              0,
              "#0d0887"
             ],
             [
              0.1111111111111111,
              "#46039f"
             ],
             [
              0.2222222222222222,
              "#7201a8"
             ],
             [
              0.3333333333333333,
              "#9c179e"
             ],
             [
              0.4444444444444444,
              "#bd3786"
             ],
             [
              0.5555555555555556,
              "#d8576b"
             ],
             [
              0.6666666666666666,
              "#ed7953"
             ],
             [
              0.7777777777777778,
              "#fb9f3a"
             ],
             [
              0.8888888888888888,
              "#fdca26"
             ],
             [
              1,
              "#f0f921"
             ]
            ],
            "type": "histogram2dcontour"
           }
          ],
          "mesh3d": [
           {
            "colorbar": {
             "outlinewidth": 0,
             "ticks": ""
            },
            "type": "mesh3d"
           }
          ],
          "parcoords": [
           {
            "line": {
             "colorbar": {
              "outlinewidth": 0,
              "ticks": ""
             }
            },
            "type": "parcoords"
           }
          ],
          "pie": [
           {
            "automargin": true,
            "type": "pie"
           }
          ],
          "scatter": [
           {
            "marker": {
             "colorbar": {
              "outlinewidth": 0,
              "ticks": ""
             }
            },
            "type": "scatter"
           }
          ],
          "scatter3d": [
           {
            "line": {
             "colorbar": {
              "outlinewidth": 0,
              "ticks": ""
             }
            },
            "marker": {
             "colorbar": {
              "outlinewidth": 0,
              "ticks": ""
             }
            },
            "type": "scatter3d"
           }
          ],
          "scattercarpet": [
           {
            "marker": {
             "colorbar": {
              "outlinewidth": 0,
              "ticks": ""
             }
            },
            "type": "scattercarpet"
           }
          ],
          "scattergeo": [
           {
            "marker": {
             "colorbar": {
              "outlinewidth": 0,
              "ticks": ""
             }
            },
            "type": "scattergeo"
           }
          ],
          "scattergl": [
           {
            "marker": {
             "colorbar": {
              "outlinewidth": 0,
              "ticks": ""
             }
            },
            "type": "scattergl"
           }
          ],
          "scattermapbox": [
           {
            "marker": {
             "colorbar": {
              "outlinewidth": 0,
              "ticks": ""
             }
            },
            "type": "scattermapbox"
           }
          ],
          "scatterpolar": [
           {
            "marker": {
             "colorbar": {
              "outlinewidth": 0,
              "ticks": ""
             }
            },
            "type": "scatterpolar"
           }
          ],
          "scatterpolargl": [
           {
            "marker": {
             "colorbar": {
              "outlinewidth": 0,
              "ticks": ""
             }
            },
            "type": "scatterpolargl"
           }
          ],
          "scatterternary": [
           {
            "marker": {
             "colorbar": {
              "outlinewidth": 0,
              "ticks": ""
             }
            },
            "type": "scatterternary"
           }
          ],
          "surface": [
           {
            "colorbar": {
             "outlinewidth": 0,
             "ticks": ""
            },
            "colorscale": [
             [
              0,
              "#0d0887"
             ],
             [
              0.1111111111111111,
              "#46039f"
             ],
             [
              0.2222222222222222,
              "#7201a8"
             ],
             [
              0.3333333333333333,
              "#9c179e"
             ],
             [
              0.4444444444444444,
              "#bd3786"
             ],
             [
              0.5555555555555556,
              "#d8576b"
             ],
             [
              0.6666666666666666,
              "#ed7953"
             ],
             [
              0.7777777777777778,
              "#fb9f3a"
             ],
             [
              0.8888888888888888,
              "#fdca26"
             ],
             [
              1,
              "#f0f921"
             ]
            ],
            "type": "surface"
           }
          ],
          "table": [
           {
            "cells": {
             "fill": {
              "color": "#EBF0F8"
             },
             "line": {
              "color": "white"
             }
            },
            "header": {
             "fill": {
              "color": "#C8D4E3"
             },
             "line": {
              "color": "white"
             }
            },
            "type": "table"
           }
          ]
         },
         "layout": {
          "annotationdefaults": {
           "arrowcolor": "#2a3f5f",
           "arrowhead": 0,
           "arrowwidth": 1
          },
          "autotypenumbers": "strict",
          "coloraxis": {
           "colorbar": {
            "outlinewidth": 0,
            "ticks": ""
           }
          },
          "colorscale": {
           "diverging": [
            [
             0,
             "#8e0152"
            ],
            [
             0.1,
             "#c51b7d"
            ],
            [
             0.2,
             "#de77ae"
            ],
            [
             0.3,
             "#f1b6da"
            ],
            [
             0.4,
             "#fde0ef"
            ],
            [
             0.5,
             "#f7f7f7"
            ],
            [
             0.6,
             "#e6f5d0"
            ],
            [
             0.7,
             "#b8e186"
            ],
            [
             0.8,
             "#7fbc41"
            ],
            [
             0.9,
             "#4d9221"
            ],
            [
             1,
             "#276419"
            ]
           ],
           "sequential": [
            [
             0,
             "#0d0887"
            ],
            [
             0.1111111111111111,
             "#46039f"
            ],
            [
             0.2222222222222222,
             "#7201a8"
            ],
            [
             0.3333333333333333,
             "#9c179e"
            ],
            [
             0.4444444444444444,
             "#bd3786"
            ],
            [
             0.5555555555555556,
             "#d8576b"
            ],
            [
             0.6666666666666666,
             "#ed7953"
            ],
            [
             0.7777777777777778,
             "#fb9f3a"
            ],
            [
             0.8888888888888888,
             "#fdca26"
            ],
            [
             1,
             "#f0f921"
            ]
           ],
           "sequentialminus": [
            [
             0,
             "#0d0887"
            ],
            [
             0.1111111111111111,
             "#46039f"
            ],
            [
             0.2222222222222222,
             "#7201a8"
            ],
            [
             0.3333333333333333,
             "#9c179e"
            ],
            [
             0.4444444444444444,
             "#bd3786"
            ],
            [
             0.5555555555555556,
             "#d8576b"
            ],
            [
             0.6666666666666666,
             "#ed7953"
            ],
            [
             0.7777777777777778,
             "#fb9f3a"
            ],
            [
             0.8888888888888888,
             "#fdca26"
            ],
            [
             1,
             "#f0f921"
            ]
           ]
          },
          "colorway": [
           "#636efa",
           "#EF553B",
           "#00cc96",
           "#ab63fa",
           "#FFA15A",
           "#19d3f3",
           "#FF6692",
           "#B6E880",
           "#FF97FF",
           "#FECB52"
          ],
          "font": {
           "color": "#2a3f5f"
          },
          "geo": {
           "bgcolor": "white",
           "lakecolor": "white",
           "landcolor": "#E5ECF6",
           "showlakes": true,
           "showland": true,
           "subunitcolor": "white"
          },
          "hoverlabel": {
           "align": "left"
          },
          "hovermode": "closest",
          "mapbox": {
           "style": "light"
          },
          "paper_bgcolor": "white",
          "plot_bgcolor": "#E5ECF6",
          "polar": {
           "angularaxis": {
            "gridcolor": "white",
            "linecolor": "white",
            "ticks": ""
           },
           "bgcolor": "#E5ECF6",
           "radialaxis": {
            "gridcolor": "white",
            "linecolor": "white",
            "ticks": ""
           }
          },
          "scene": {
           "xaxis": {
            "backgroundcolor": "#E5ECF6",
            "gridcolor": "white",
            "gridwidth": 2,
            "linecolor": "white",
            "showbackground": true,
            "ticks": "",
            "zerolinecolor": "white"
           },
           "yaxis": {
            "backgroundcolor": "#E5ECF6",
            "gridcolor": "white",
            "gridwidth": 2,
            "linecolor": "white",
            "showbackground": true,
            "ticks": "",
            "zerolinecolor": "white"
           },
           "zaxis": {
            "backgroundcolor": "#E5ECF6",
            "gridcolor": "white",
            "gridwidth": 2,
            "linecolor": "white",
            "showbackground": true,
            "ticks": "",
            "zerolinecolor": "white"
           }
          },
          "shapedefaults": {
           "line": {
            "color": "#2a3f5f"
           }
          },
          "ternary": {
           "aaxis": {
            "gridcolor": "white",
            "linecolor": "white",
            "ticks": ""
           },
           "baxis": {
            "gridcolor": "white",
            "linecolor": "white",
            "ticks": ""
           },
           "bgcolor": "#E5ECF6",
           "caxis": {
            "gridcolor": "white",
            "linecolor": "white",
            "ticks": ""
           }
          },
          "title": {
           "x": 0.05
          },
          "xaxis": {
           "automargin": true,
           "gridcolor": "white",
           "linecolor": "white",
           "ticks": "",
           "title": {
            "standoff": 15
           },
           "zerolinecolor": "white",
           "zerolinewidth": 2
          },
          "yaxis": {
           "automargin": true,
           "gridcolor": "white",
           "linecolor": "white",
           "ticks": "",
           "title": {
            "standoff": 15
           },
           "zerolinecolor": "white",
           "zerolinewidth": 2
          }
         }
        },
        "title": {
         "text": "Observed, Predicted, & Forecasted "
        },
        "xaxis": {
         "anchor": "y",
         "domain": [
          0,
          1
         ],
         "title": {
          "text": "Date"
         }
        },
        "xaxis2": {
         "anchor": "y2",
         "domain": [
          0,
          1
         ],
         "title": {
          "text": "Date"
         }
        },
        "yaxis": {
         "anchor": "x",
         "domain": [
          0.575,
          1
         ],
         "title": {
          "text": "Discharge (cfs)"
         }
        },
        "yaxis2": {
         "anchor": "x2",
         "domain": [
          0,
          0.425
         ],
         "title": {
          "text": "Discharge (cfs)"
         }
        }
       }
      }
     },
     "metadata": {},
     "output_type": "display_data"
    }
   ],
   "source": [
    "# Reduce data to Eel River only\n",
    "new_river = Rivers_Flow.loc[Rivers_Flow['Name']=='Eel River Scotia']\n",
    "new_river.reset_index(inplace=True)\n",
    "new_river = new_river .drop(columns='index')\n",
    "new_river['Precip_Shift'] = new_river.Precip.shift(1)\n",
    "\n",
    "new_river['CFS_Rolling'] = new_river.CFS.rolling(window=3,min_periods=1).mean()\n",
    "new_river['CFS_Slope_Rolling'] = new_river.CFS.rolling(window=3,min_periods=1).mean()\n",
    "new_river['CFS_Rolling30'] = new_river.CFS.rolling(window=30,min_periods=1).mean()\n",
    "new_river['new_variable'] = np.abs(new_river.CFS) - new_river.CFS_Rolling30\n",
    "\n",
    "model = SARIMAX(new_river.CFS[1:],exog=new_river[['Precip_Shift','CFS_Rolling']].dropna(0),order=(0,1,0))\n",
    "model_fit = model.fit()\n",
    "\n",
    "length = len(new_river.CFS)\n",
    "forecast = model_fit.forecast(length,exog=new_river[['Precip_Shift','CFS_Rolling']].fillna(0))\n",
    "\n",
    "# Create figure with secondary y-axis\n",
    "fig = make_subplots(rows=2,cols=1)\n",
    "# Add traces\n",
    "fig.add_trace(\n",
    "    go.Scatter(x=new_river.Date, y=new_river.CFS, name=\"CFS - Observed\"),\n",
    "    secondary_y=False,row=1,col=1)\n",
    "# fig.add_trace(\n",
    "#     go.Scatter(x=new_river.Date, y=predict, name=\"CFS - Predicted\"),\n",
    "#     secondary_y=False,row=2,col=1)\n",
    "fig.add_trace(\n",
    "    go.Scatter(x=new_river.Date, y=forecast, name=\"CFS - Forecast\"),\n",
    "    secondary_y=False,row=2,col=1)\n",
    "\n",
    "# Add figure title\n",
    "fig.update_layout(\n",
    "    title_text=\"Observed, Predicted, & Forecasted \")\n",
    "# Set x-axis title\n",
    "fig.update_xaxes(title_text=\"Date\")\n",
    "# Set y-axes titles\n",
    "fig.update_yaxes(title_text=\"Discharge (cfs)\", secondary_y=False)\n",
    "fig.update_yaxes(title_text=\"Precip (mm)\", secondary_y=True)\n",
    "fig.show()"
   ]
  }
 ],
 "metadata": {
  "kernelspec": {
   "display_name": "base",
   "language": "python",
   "name": "python3"
  },
  "language_info": {
   "codemirror_mode": {
    "name": "ipython",
    "version": 3
   },
   "file_extension": ".py",
   "mimetype": "text/x-python",
   "name": "python",
   "nbconvert_exporter": "python",
   "pygments_lexer": "ipython3",
   "version": "3.8.5"
  },
  "vscode": {
   "interpreter": {
    "hash": "f198afccb11a57ca9e4600c4ebf8ddb1582de23e4eaa52d4804571c6e801d767"
   }
  }
 },
 "nbformat": 4,
 "nbformat_minor": 4
}
