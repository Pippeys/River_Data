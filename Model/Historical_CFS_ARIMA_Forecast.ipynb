{
 "cells": [
  {
   "cell_type": "code",
   "execution_count": 82,
   "metadata": {},
   "outputs": [
    {
     "data": {
      "text/html": [
       "<div>\n",
       "<style scoped>\n",
       "    .dataframe tbody tr th:only-of-type {\n",
       "        vertical-align: middle;\n",
       "    }\n",
       "\n",
       "    .dataframe tbody tr th {\n",
       "        vertical-align: top;\n",
       "    }\n",
       "\n",
       "    .dataframe thead th {\n",
       "        text-align: right;\n",
       "    }\n",
       "</style>\n",
       "<table border=\"1\" class=\"dataframe\">\n",
       "  <thead>\n",
       "    <tr style=\"text-align: right;\">\n",
       "      <th></th>\n",
       "      <th>Date</th>\n",
       "      <th>Name</th>\n",
       "      <th>RiverName</th>\n",
       "      <th>FishType</th>\n",
       "      <th>Value</th>\n",
       "    </tr>\n",
       "  </thead>\n",
       "  <tbody>\n",
       "    <tr>\n",
       "      <th>0</th>\n",
       "      <td>2020-10-19</td>\n",
       "      <td>East Fork Carson</td>\n",
       "      <td>East Fork</td>\n",
       "      <td>Trout</td>\n",
       "      <td>31.896875</td>\n",
       "    </tr>\n",
       "    <tr>\n",
       "      <th>1</th>\n",
       "      <td>2020-10-19</td>\n",
       "      <td>East Walker</td>\n",
       "      <td>East Walker</td>\n",
       "      <td>Trout</td>\n",
       "      <td>51.300000</td>\n",
       "    </tr>\n",
       "    <tr>\n",
       "      <th>2</th>\n",
       "      <td>2020-10-19</td>\n",
       "      <td>Eel River Fort Seward</td>\n",
       "      <td>Eel</td>\n",
       "      <td>Steelhead</td>\n",
       "      <td>33.240625</td>\n",
       "    </tr>\n",
       "    <tr>\n",
       "      <th>3</th>\n",
       "      <td>2020-10-19</td>\n",
       "      <td>Eel River Scotia</td>\n",
       "      <td>Eel</td>\n",
       "      <td>Steelhead</td>\n",
       "      <td>65.256250</td>\n",
       "    </tr>\n",
       "    <tr>\n",
       "      <th>4</th>\n",
       "      <td>2020-10-19</td>\n",
       "      <td>Hat Creek</td>\n",
       "      <td>Hat Creek</td>\n",
       "      <td>Trout</td>\n",
       "      <td>122.437500</td>\n",
       "    </tr>\n",
       "  </tbody>\n",
       "</table>\n",
       "</div>"
      ],
      "text/plain": [
       "         Date                   Name     RiverName   FishType       Value\n",
       "0  2020-10-19       East Fork Carson    East Fork       Trout   31.896875\n",
       "1  2020-10-19            East Walker  East Walker       Trout   51.300000\n",
       "2  2020-10-19  Eel River Fort Seward          Eel   Steelhead   33.240625\n",
       "3  2020-10-19       Eel River Scotia          Eel   Steelhead   65.256250\n",
       "4  2020-10-19              Hat Creek     Hat Creek      Trout  122.437500"
      ]
     },
     "execution_count": 82,
     "metadata": {},
     "output_type": "execute_result"
    }
   ],
   "source": [
    "import numpy as np\n",
    "import pandas as pd\n",
    "import datetime as dt\n",
    "import seaborn as sns\n",
    "import plotly.express as px\n",
    "import matplotlib.pyplot as plt\n",
    "import plotly.graph_objects as go\n",
    "from plotly.subplots import make_subplots\n",
    "from scipy.signal import find_peaks\n",
    "from statsmodels.tsa.stattools import adfuller\n",
    "from statsmodels.tsa.seasonal import seasonal_decompose\n",
    "from statsmodels.graphics.tsaplots import plot_acf,plot_pacf\n",
    "from statsmodels.tsa.arima.model import ARIMA\n",
    "\n",
    "# Load data tables\n",
    "Refer = pd.read_csv('C:/Users/Scott/Desktop/Projects/River_Data/RiverReferenceTable.csv')\n",
    "Discharge = pd.read_csv('C:/Users/Scott/Desktop/Projects/River_Data/Historical/HistoricalDischarge.csv')\n",
    "Precip = pd.read_csv('C:/Users/Scott/Desktop/Projects/River_Data/Historical/HistoricalPrecip.csv')\n",
    "\n",
    "# Standardize Date and River Names to be joined\n",
    "Discharge['Date'] = pd.to_datetime(Discharge.DateTime).dt.date\n",
    "Discharge = Discharge.set_index('Name').join(Refer.set_index('USGS Name')).reset_index()[[\n",
    "    'Date','Value','VariableDescription','Name','RiverName','FishType']]\n",
    "\n",
    "Precip = Precip.set_index('Name').join(Refer.set_index('Name')).reset_index()[[\n",
    "    'Date','Precip','Name','RiverName','FishType']]\n",
    "\n",
    "# Create Avg Daily Discharge\n",
    "Avg_Discharge = Discharge.groupby(['Date','Name','RiverName','FishType']).mean().reset_index()\n",
    "\n",
    "# Remove incorrect data\n",
    "Avg_Discharge = Avg_Discharge.loc[Avg_Discharge.Value>0]\n",
    "\n",
    "Avg_Discharge.head()"
   ]
  },
  {
   "attachments": {},
   "cell_type": "markdown",
   "metadata": {},
   "source": [
    "#### Eel River Daily Avg Discharge\n",
    "Review the data quality and ensure the information looks correct"
   ]
  },
  {
   "cell_type": "code",
   "execution_count": 83,
   "metadata": {},
   "outputs": [
    {
     "data": {
      "text/html": [
       "<div>\n",
       "<style scoped>\n",
       "    .dataframe tbody tr th:only-of-type {\n",
       "        vertical-align: middle;\n",
       "    }\n",
       "\n",
       "    .dataframe tbody tr th {\n",
       "        vertical-align: top;\n",
       "    }\n",
       "\n",
       "    .dataframe thead th {\n",
       "        text-align: right;\n",
       "    }\n",
       "</style>\n",
       "<table border=\"1\" class=\"dataframe\">\n",
       "  <thead>\n",
       "    <tr style=\"text-align: right;\">\n",
       "      <th></th>\n",
       "      <th>Date</th>\n",
       "      <th>Name</th>\n",
       "      <th>RiverName</th>\n",
       "      <th>FishType</th>\n",
       "      <th>Value</th>\n",
       "      <th>CFS_Slope</th>\n",
       "      <th>BestDays</th>\n",
       "    </tr>\n",
       "  </thead>\n",
       "  <tbody>\n",
       "    <tr>\n",
       "      <th>0</th>\n",
       "      <td>2020-10-19</td>\n",
       "      <td>Eel River Scotia</td>\n",
       "      <td>Eel</td>\n",
       "      <td>Steelhead</td>\n",
       "      <td>65.256250</td>\n",
       "      <td>NaN</td>\n",
       "      <td>0</td>\n",
       "    </tr>\n",
       "    <tr>\n",
       "      <th>1</th>\n",
       "      <td>2020-10-20</td>\n",
       "      <td>Eel River Scotia</td>\n",
       "      <td>Eel</td>\n",
       "      <td>Steelhead</td>\n",
       "      <td>65.536458</td>\n",
       "      <td>0.280208</td>\n",
       "      <td>0</td>\n",
       "    </tr>\n",
       "    <tr>\n",
       "      <th>2</th>\n",
       "      <td>2020-10-21</td>\n",
       "      <td>Eel River Scotia</td>\n",
       "      <td>Eel</td>\n",
       "      <td>Steelhead</td>\n",
       "      <td>64.127083</td>\n",
       "      <td>-1.409375</td>\n",
       "      <td>0</td>\n",
       "    </tr>\n",
       "    <tr>\n",
       "      <th>3</th>\n",
       "      <td>2020-10-22</td>\n",
       "      <td>Eel River Scotia</td>\n",
       "      <td>Eel</td>\n",
       "      <td>Steelhead</td>\n",
       "      <td>64.877083</td>\n",
       "      <td>0.750000</td>\n",
       "      <td>0</td>\n",
       "    </tr>\n",
       "    <tr>\n",
       "      <th>4</th>\n",
       "      <td>2020-10-23</td>\n",
       "      <td>Eel River Scotia</td>\n",
       "      <td>Eel</td>\n",
       "      <td>Steelhead</td>\n",
       "      <td>73.515625</td>\n",
       "      <td>8.638542</td>\n",
       "      <td>0</td>\n",
       "    </tr>\n",
       "  </tbody>\n",
       "</table>\n",
       "</div>"
      ],
      "text/plain": [
       "         Date              Name RiverName   FishType      Value  CFS_Slope  \\\n",
       "0  2020-10-19  Eel River Scotia      Eel   Steelhead  65.256250        NaN   \n",
       "1  2020-10-20  Eel River Scotia      Eel   Steelhead  65.536458   0.280208   \n",
       "2  2020-10-21  Eel River Scotia      Eel   Steelhead  64.127083  -1.409375   \n",
       "3  2020-10-22  Eel River Scotia      Eel   Steelhead  64.877083   0.750000   \n",
       "4  2020-10-23  Eel River Scotia      Eel   Steelhead  73.515625   8.638542   \n",
       "\n",
       "   BestDays  \n",
       "0         0  \n",
       "1         0  \n",
       "2         0  \n",
       "3         0  \n",
       "4         0  "
      ]
     },
     "execution_count": 83,
     "metadata": {},
     "output_type": "execute_result"
    }
   ],
   "source": [
    "# Reduce data to Eel River only\n",
    "eel = Avg_Discharge.loc[Avg_Discharge['Name']=='Eel River Scotia']\n",
    "eel.reset_index(inplace=True)\n",
    "eel = eel.drop(columns='index')\n",
    "\n",
    "# Create column for slope of discharge\n",
    "eel['CFS_Slope'] = eel.Value.diff()\n",
    "\n",
    "# Retrieve values of Slope\n",
    "SlopeValues = eel.CFS_Slope.values\n",
    "\n",
    "# Define the threshold for what is a good day for fishing\n",
    "#       - slope between day CFS values must be at least 1 STD from the mean \n",
    "border = eel.CFS_Slope.mean()+(eel.CFS_Slope.std()/2)\n",
    "\n",
    "# Define troughs that are below the threshold\n",
    "peaks, _ = find_peaks(-SlopeValues, height=border)\n",
    "\n",
    "# Logic to build the best day flag\n",
    "#       - if the value is a trough point or has a negative low and is above 1 STD from the mean then also consider a good day \n",
    "bestdays = []\n",
    "for i in range(len(eel.Value)):\n",
    "    if i in peaks:\n",
    "        x = 1\n",
    "    elif (eel.CFS_Slope[i]<0) & (eel.Value[i]>=border):\n",
    "        x = 1\n",
    "    else: x = 0\n",
    "    bestdays.append(x)\n",
    "eel['BestDays'] = bestdays\n",
    "\n",
    "eel.head()"
   ]
  },
  {
   "cell_type": "code",
   "execution_count": 84,
   "metadata": {},
   "outputs": [
    {
     "data": {
      "text/plain": [
       "[<matplotlib.lines.Line2D at 0x1fc80bcaa90>]"
      ]
     },
     "execution_count": 84,
     "metadata": {},
     "output_type": "execute_result"
    },
    {
     "data": {
      "image/png": "[encoded data removed]",
      "text/plain": [
       "<Figure size 1440x720 with 1 Axes>"
      ]
     },
     "metadata": {
      "needs_background": "light"
     },
     "output_type": "display_data"
    }
   ],
   "source": [
    "# dates = eel.loc[eel.BestDays==1].Date.values\n",
    "# BestDayValues = eel.Value.loc[eel.BestDays==1].values\n",
    "\n",
    "# fig = px.line(eel, x=\"Date\", y=\"Value\", title='Eel River (Scotia) - Daily CFS')\n",
    "# fig.add_scatter(x=dates,y=BestDayValues,mode='markers',name='Good fishing days')\n",
    "# fig.show()\n",
    "\n",
    "plt.figure(figsize=(20,10))\n",
    "eel.Value.plot()\n",
    "plt.plot(eel.Value.loc[eel.BestDays==1],'o')"
   ]
  },
  {
   "cell_type": "code",
   "execution_count": 85,
   "metadata": {},
   "outputs": [],
   "source": [
    "# Replicate for all rivers\n",
    "Rivers = []\n",
    "for river in Avg_Discharge.Name.unique():\n",
    "    df = Avg_Discharge.loc[Avg_Discharge.Name == river]\n",
    "    df.reset_index(inplace=True)\n",
    "    df = df.drop(columns='index')\n",
    "\n",
    "    # Create column for slope of discharge\n",
    "    df['CFS_Slope'] = df.Value.diff()\n",
    "\n",
    "    # Retrieve values of Slope\n",
    "    SlopeValues = df.CFS_Slope.values\n",
    "\n",
    "    # Define the threshold for what is a good day for fishing\n",
    "    #       - slope between day CFS values must be at least 1 STD from the mean \n",
    "    border = df.CFS_Slope.mean()+(df.CFS_Slope.std()/2)\n",
    "\n",
    "    # Define troughs that are below the threshold\n",
    "    peaks, _ = find_peaks(-SlopeValues, height=border)\n",
    "\n",
    "    # Logic to build the best day flag\n",
    "    #       - if the value is a trough point or has a negative low and is above 1 STD from the mean then also consider a good day \n",
    "    bestdays = []\n",
    "    for i in range(len(df.Value)):\n",
    "        if i in peaks:\n",
    "            x = 1\n",
    "        elif (df.CFS_Slope[i]<0) & (df.Value[i]>=border):\n",
    "            x = 1\n",
    "        else: x = 0\n",
    "        bestdays.append(x)\n",
    "    df['BestDays'] = bestdays\n",
    "    Rivers.append(df)\n",
    "Rivers_Flow = pd.concat(Rivers)"
   ]
  },
  {
   "cell_type": "code",
   "execution_count": 86,
   "metadata": {},
   "outputs": [],
   "source": [
    "Precip['Date'] = pd.to_datetime(Precip.Date).dt.date\n",
    "Precip['Date_Name'] = Precip.Date.astype('str')+'_'+Precip.Name\n",
    "Precip = Precip[['Date_Name','Date','Name','Precip']].groupby(['Date','Name','Date_Name']).mean().reset_index()\n",
    "\n",
    "Rivers_Flow['Date_Name'] = Rivers_Flow.Date.astype('str')+'_'+Rivers_Flow.Name\n",
    "Rivers_Flow['CFS'] = Rivers_Flow['Value']\n",
    "Rivers_Flow.drop(columns=['Value'],inplace=True)\n",
    "\n",
    "Rivers_Flow_Rain = Rivers_Flow.set_index('Date_Name').join(Precip[['Date_Name','Precip']].set_index('Date_Name'))\n",
    "Rivers_Flow_Rain['Precip'] = Rivers_Flow_Rain.Precip.fillna(0)\n",
    "RiverList = Rivers_Flow_Rain.Name.unique()\n",
    "full = Rivers_Flow_Rain.loc[Rivers_Flow_Rain.Precip.isnull()==False]\n",
    "\n",
    "# Lag Precip data by correlation strength to river flow\n",
    "RiverData = pd.DataFrame()\n",
    "for n in RiverList:\n",
    "    s = 0\n",
    "    CorrList = list()\n",
    "    while s < 10:\n",
    "        d = full[['CFS','Precip']].loc[full.Name==n]\n",
    "        d['Precip'] = d['Precip'].shift(s)\n",
    "        r = d.dropna()\n",
    "        corr = r.Precip.corr(r.CFS)\n",
    "        points = len(r.CFS)\n",
    "        CorrList.append([s,corr,points])\n",
    "        s+=1\n",
    "    Corrs = pd.DataFrame(CorrList,columns=['PrecipLag','Corr','NumPoints'])\n",
    "    BestShift = Corrs.sort_values(by='Corr',ascending=False).head(1)\n",
    "    BestShift['Name'] = n\n",
    "    RiverData = RiverData.append(BestShift)"
   ]
  },
  {
   "cell_type": "code",
   "execution_count": 87,
   "metadata": {},
   "outputs": [
    {
     "data": {
      "text/html": [
       "<div>\n",
       "<style scoped>\n",
       "    .dataframe tbody tr th:only-of-type {\n",
       "        vertical-align: middle;\n",
       "    }\n",
       "\n",
       "    .dataframe tbody tr th {\n",
       "        vertical-align: top;\n",
       "    }\n",
       "\n",
       "    .dataframe thead th {\n",
       "        text-align: right;\n",
       "    }\n",
       "</style>\n",
       "<table border=\"1\" class=\"dataframe\">\n",
       "  <thead>\n",
       "    <tr style=\"text-align: right;\">\n",
       "      <th></th>\n",
       "      <th>Date</th>\n",
       "      <th>Name</th>\n",
       "      <th>RiverName</th>\n",
       "      <th>FishType</th>\n",
       "      <th>CFS_Slope</th>\n",
       "      <th>BestDays</th>\n",
       "      <th>CFS</th>\n",
       "      <th>Precip</th>\n",
       "    </tr>\n",
       "    <tr>\n",
       "      <th>Date_Name</th>\n",
       "      <th></th>\n",
       "      <th></th>\n",
       "      <th></th>\n",
       "      <th></th>\n",
       "      <th></th>\n",
       "      <th></th>\n",
       "      <th></th>\n",
       "      <th></th>\n",
       "    </tr>\n",
       "  </thead>\n",
       "  <tbody>\n",
       "    <tr>\n",
       "      <th>2020-10-19_East Fork Carson</th>\n",
       "      <td>2020-10-19</td>\n",
       "      <td>East Fork Carson</td>\n",
       "      <td>East Fork</td>\n",
       "      <td>Trout</td>\n",
       "      <td>NaN</td>\n",
       "      <td>0</td>\n",
       "      <td>31.896875</td>\n",
       "      <td>0.000000</td>\n",
       "    </tr>\n",
       "    <tr>\n",
       "      <th>2020-10-20_East Fork Carson</th>\n",
       "      <td>2020-10-20</td>\n",
       "      <td>East Fork Carson</td>\n",
       "      <td>East Fork</td>\n",
       "      <td>Trout</td>\n",
       "      <td>0.297222</td>\n",
       "      <td>0</td>\n",
       "      <td>32.194097</td>\n",
       "      <td>0.000000</td>\n",
       "    </tr>\n",
       "    <tr>\n",
       "      <th>2020-10-21_East Fork Carson</th>\n",
       "      <td>2020-10-21</td>\n",
       "      <td>East Fork Carson</td>\n",
       "      <td>East Fork</td>\n",
       "      <td>Trout</td>\n",
       "      <td>0.683681</td>\n",
       "      <td>0</td>\n",
       "      <td>32.877778</td>\n",
       "      <td>0.000000</td>\n",
       "    </tr>\n",
       "    <tr>\n",
       "      <th>2020-10-22_East Fork Carson</th>\n",
       "      <td>2020-10-22</td>\n",
       "      <td>East Fork Carson</td>\n",
       "      <td>East Fork</td>\n",
       "      <td>Trout</td>\n",
       "      <td>0.357516</td>\n",
       "      <td>0</td>\n",
       "      <td>33.235294</td>\n",
       "      <td>0.714286</td>\n",
       "    </tr>\n",
       "    <tr>\n",
       "      <th>2020-10-23_East Fork Carson</th>\n",
       "      <td>2020-10-23</td>\n",
       "      <td>East Fork Carson</td>\n",
       "      <td>East Fork</td>\n",
       "      <td>Trout</td>\n",
       "      <td>1.090053</td>\n",
       "      <td>0</td>\n",
       "      <td>34.325347</td>\n",
       "      <td>0.000000</td>\n",
       "    </tr>\n",
       "  </tbody>\n",
       "</table>\n",
       "</div>"
      ],
      "text/plain": [
       "                                   Date              Name   RiverName  \\\n",
       "Date_Name                                                               \n",
       "2020-10-19_East Fork Carson  2020-10-19  East Fork Carson  East Fork    \n",
       "2020-10-20_East Fork Carson  2020-10-20  East Fork Carson  East Fork    \n",
       "2020-10-21_East Fork Carson  2020-10-21  East Fork Carson  East Fork    \n",
       "2020-10-22_East Fork Carson  2020-10-22  East Fork Carson  East Fork    \n",
       "2020-10-23_East Fork Carson  2020-10-23  East Fork Carson  East Fork    \n",
       "\n",
       "                            FishType  CFS_Slope  BestDays        CFS    Precip  \n",
       "Date_Name                                                                       \n",
       "2020-10-19_East Fork Carson    Trout        NaN         0  31.896875  0.000000  \n",
       "2020-10-20_East Fork Carson    Trout   0.297222         0  32.194097  0.000000  \n",
       "2020-10-21_East Fork Carson    Trout   0.683681         0  32.877778  0.000000  \n",
       "2020-10-22_East Fork Carson    Trout   0.357516         0  33.235294  0.714286  \n",
       "2020-10-23_East Fork Carson    Trout   1.090053         0  34.325347  0.000000  "
      ]
     },
     "execution_count": 87,
     "metadata": {},
     "output_type": "execute_result"
    }
   ],
   "source": [
    "full.head()"
   ]
  },
  {
   "cell_type": "code",
   "execution_count": 88,
   "metadata": {},
   "outputs": [
    {
     "data": {
      "text/html": [
       "<div>\n",
       "<style scoped>\n",
       "    .dataframe tbody tr th:only-of-type {\n",
       "        vertical-align: middle;\n",
       "    }\n",
       "\n",
       "    .dataframe tbody tr th {\n",
       "        vertical-align: top;\n",
       "    }\n",
       "\n",
       "    .dataframe thead th {\n",
       "        text-align: right;\n",
       "    }\n",
       "</style>\n",
       "<table border=\"1\" class=\"dataframe\">\n",
       "  <thead>\n",
       "    <tr style=\"text-align: right;\">\n",
       "      <th></th>\n",
       "      <th>PrecipLag</th>\n",
       "      <th>Corr</th>\n",
       "      <th>NumPoints</th>\n",
       "      <th>Name</th>\n",
       "    </tr>\n",
       "  </thead>\n",
       "  <tbody>\n",
       "  </tbody>\n",
       "</table>\n",
       "</div>"
      ],
      "text/plain": [
       "Empty DataFrame\n",
       "Columns: [PrecipLag, Corr, NumPoints, Name]\n",
       "Index: []"
      ]
     },
     "execution_count": 88,
     "metadata": {},
     "output_type": "execute_result"
    }
   ],
   "source": [
    "RiverData.loc[(RiverData.NumPoints>=30)&(RiverData.Corr>=.5)].sort_values('Corr',ascending=False )"
   ]
  },
  {
   "cell_type": "code",
   "execution_count": 89,
   "metadata": {},
   "outputs": [
    {
     "name": "stderr",
     "output_type": "stream",
     "text": [
      "<ipython-input-89-6b05de25aeca>:3: SettingWithCopyWarning:\n",
      "\n",
      "\n",
      "A value is trying to be set on a copy of a slice from a DataFrame.\n",
      "Try using .loc[row_indexer,col_indexer] = value instead\n",
      "\n",
      "See the caveats in the documentation: https://pandas.pydata.org/pandas-docs/stable/user_guide/indexing.html#returning-a-view-versus-a-copy\n",
      "\n"
     ]
    },
    {
     "data": {
      "text/plain": [
       "<matplotlib.legend.Legend at 0x1fc81133f40>"
      ]
     },
     "execution_count": 89,
     "metadata": {},
     "output_type": "execute_result"
    },
    {
     "data": {
      "image/png": "[encoded data removed]",
      "text/plain": [
       "<Figure size 1080x360 with 2 Axes>"
      ]
     },
     "metadata": {
      "needs_background": "light"
     },
     "output_type": "display_data"
    }
   ],
   "source": [
    "eel = full.loc[full['Name']=='Eel River Scotia']\n",
    "eel.reset_index(inplace=True)\n",
    "eel['Precip_Shift'] = eel.Precip.shift(1)\n",
    "dates = eel.loc[eel.BestDays==1].Date.values\n",
    "# BestDayValues = eel.CFS.loc[eel.BestDays==1].values\n",
    "# # Create figure with secondary y-axis\n",
    "# fig = make_subplots(specs=[[{\"secondary_y\": True}]])\n",
    "\n",
    "# # Add traces\n",
    "# fig.add_trace(\n",
    "#     go.Scatter(x=eel.Date, y=eel.CFS, name=\"CFS\"),\n",
    "#     secondary_y=False,\n",
    "# )\n",
    "\n",
    "# fig.add_trace(\n",
    "#     go.Scatter(x=eel.Date, y=eel.Precip, name=\"Precip\"),\n",
    "#     secondary_y=True,\n",
    "# )\n",
    "\n",
    "# # Add figure title\n",
    "# fig.update_layout(\n",
    "#     title_text=\"Precip & Discharge Timeline\"\n",
    "# )\n",
    "\n",
    "# # Set x-axis title\n",
    "# fig.update_xaxes(title_text=\"Date\")\n",
    "\n",
    "# # Set y-axes titles\n",
    "# fig.update_yaxes(title_text=\"Discharge (cfs)\", secondary_y=False)\n",
    "# fig.update_yaxes(title_text=\"Precip (mm)\", secondary_y=True)\n",
    "# fig.add_scatter(x=dates,y=BestDayValues,mode='markers',name='Good fishing days')\n",
    "# fig.show()\n",
    "\n",
    "fig, ax = plt.subplots(figsize=(15,5))\n",
    "ax.plot(eel.Date,eel.CFS,label='Water Discharge (cfs)')\n",
    "ax.plot(eel.Date.loc[eel.BestDays==1],eel.CFS.loc[eel.BestDays==1],'o',label='Best Days')\n",
    "ax2 = ax.twinx()\n",
    "ax2.plot(eel.Date,eel.Precip,'r',label='Precip (mm)')\n",
    "ax.set_xlabel('Date')\n",
    "ax.set_ylabel('Discharge (cfs)')\n",
    "ax2.set_ylabel('Precip (mm)')\n",
    "fig.legend()"
   ]
  },
  {
   "cell_type": "code",
   "execution_count": 90,
   "metadata": {},
   "outputs": [
    {
     "data": {
      "text/plain": [
       "<matplotlib.legend.Legend at 0x1fc800ef0a0>"
      ]
     },
     "execution_count": 90,
     "metadata": {},
     "output_type": "execute_result"
    },
    {
     "data": {
      "image/png": "[encoded data removed]",
      "text/plain": [
       "<Figure size 1080x360 with 2 Axes>"
      ]
     },
     "metadata": {
      "needs_background": "light"
     },
     "output_type": "display_data"
    }
   ],
   "source": [
    "# # Create figure with secondary y-axis\n",
    "# fig = make_subplots(specs=[[{\"secondary_y\": True}]])\n",
    "\n",
    "# # Add traces\n",
    "# fig.add_trace(\n",
    "#     go.Scatter(x=eel.Date, y=eel.CFS, name=\"CFS\"),\n",
    "#     secondary_y=False,\n",
    "# )\n",
    "\n",
    "# fig.add_trace(\n",
    "#     go.Scatter(x=eel.Date, y=eel.Precip_Shift, name=\"Precip\"),\n",
    "#     secondary_y=True,\n",
    "# )\n",
    "\n",
    "# # Add figure title\n",
    "# fig.update_layout(\n",
    "#     title_text=\"Shift Precip to align with Discharge\"\n",
    "# )\n",
    "\n",
    "# # Set x-axis title\n",
    "# fig.update_xaxes(title_text=\"Date\")\n",
    "\n",
    "# # Set y-axes titles\n",
    "# fig.update_yaxes(title_text=\"Discharge (cfs)\", secondary_y=False)\n",
    "# fig.update_yaxes(title_text=\"Precip (mm)\", secondary_y=True)\n",
    "# fig.add_scatter(x=dates,y=BestDayValues,mode='markers',name='Good fishing days')\n",
    "# fig.show()\n",
    "\n",
    "\n",
    "fig, ax = plt.subplots(figsize=(15,5))\n",
    "ax.plot(eel.Date,eel.CFS,label='Water Discharge (cfs)')\n",
    "ax.plot(eel.Date.loc[eel.BestDays==1],eel.CFS.loc[eel.BestDays==1],'o',label='Best Days')\n",
    "ax2 = ax.twinx()\n",
    "ax2.plot(eel.Date,eel.Precip_Shift,'r',label='Shift Precip (mm)')\n",
    "ax.set_xlabel('Date')\n",
    "ax.set_ylabel('Discharge (cfs)')\n",
    "ax2.set_ylabel('Precip (mm)')\n",
    "fig.legend()"
   ]
  },
  {
   "cell_type": "code",
   "execution_count": 91,
   "metadata": {},
   "outputs": [
    {
     "data": {
      "text/plain": [
       "<matplotlib.legend.Legend at 0x1fc803bafd0>"
      ]
     },
     "execution_count": 91,
     "metadata": {},
     "output_type": "execute_result"
    },
    {
     "data": {
      "image/png": "[encoded data removed]",
      "text/plain": [
       "<Figure size 1080x360 with 1 Axes>"
      ]
     },
     "metadata": {
      "needs_background": "light"
     },
     "output_type": "display_data"
    }
   ],
   "source": [
    "\n",
    "\n",
    "rolling_mean = eel.CFS.rolling(window = 12).mean()\n",
    "rolling_std = eel.CFS.rolling(window = 12).std()\n",
    "\n",
    "# # Create figure with secondary y-axis\n",
    "# fig = make_subplots(specs=[[{\"secondary_y\": False}]])\n",
    "\n",
    "# # Add traces\n",
    "# fig.add_trace(\n",
    "#     go.Scatter(x=eel.Date, y=eel.CFS, name=\"CFS\"),\n",
    "#     secondary_y=False,\n",
    "# )\n",
    "\n",
    "# fig.add_trace(\n",
    "#     go.Scatter(x=eel.Date, y=rolling_mean, name=\"rolling_mean\"),\n",
    "#     secondary_y=False,\n",
    "# )\n",
    "\n",
    "# fig.add_trace(\n",
    "#     go.Scatter(x=eel.Date, y=rolling_std, name=\"rolling_std\"),\n",
    "#     secondary_y=False,\n",
    "# )\n",
    "# # Add figure title\n",
    "# fig.update_layout(\n",
    "#     title_text=\"Rolling Mean & Rolling Standard Deviation - Review regressions of the water flow for stationarity signals.\"\n",
    "# )\n",
    "\n",
    "# # Set x-axis title\n",
    "# fig.update_xaxes(title_text=\"Date\")\n",
    "\n",
    "# # Set y-axes titles\n",
    "# fig.update_yaxes(title_text=\"Discharge (cfs)\", secondary_y=False)\n",
    "# fig.show()\n",
    "\n",
    "fig, ax = plt.subplots(figsize=(15,5))\n",
    "ax.plot(eel.Date,eel.CFS,label='Water Discharge (cfs)')\n",
    "ax.plot(eel.Date,rolling_mean,label='rolling_mean')\n",
    "ax.plot(eel.Date,rolling_std,label='rolling_std')\n",
    "ax.set_xlabel('Date')\n",
    "ax.set_ylabel('Discharge (cfs)')\n",
    "fig.legend()"
   ]
  },
  {
   "cell_type": "code",
   "execution_count": 92,
   "metadata": {},
   "outputs": [
    {
     "data": {
      "text/plain": [
       "0.2781218641104468"
      ]
     },
     "execution_count": 92,
     "metadata": {},
     "output_type": "execute_result"
    }
   ],
   "source": [
    "# P-Value is over 5% which does not reject the null hypothesis \n",
    "adf_test = adfuller(eel.CFS)\n",
    "adf_test[1]"
   ]
  },
  {
   "cell_type": "code",
   "execution_count": 93,
   "metadata": {},
   "outputs": [
    {
     "data": {
      "text/plain": [
       "<matplotlib.legend.Legend at 0x1fcfe4a72e0>"
      ]
     },
     "execution_count": 93,
     "metadata": {},
     "output_type": "execute_result"
    },
    {
     "data": {
      "image/png": "[encoded data removed]",
      "text/plain": [
       "<Figure size 1080x360 with 1 Axes>"
      ]
     },
     "metadata": {
      "needs_background": "light"
     },
     "output_type": "display_data"
    }
   ],
   "source": [
    "eel.CFS_Slope\n",
    "\n",
    "# fig = px.line(x=eel.Date,y=eel.CFS_Stationary)\n",
    "# fig.update_layout(\n",
    "#     title_text=\"Derive slope from water flow\"\n",
    "# )\n",
    "# fig.show()\n",
    "\n",
    "fig, ax = plt.subplots(figsize=(15,5))\n",
    "ax.plot(eel.Date,eel.CFS_Slope,label='Water Discharge Slope')\n",
    "ax.set_xlabel('Date')\n",
    "ax.set_ylabel('Discharge Difference (cfs)')\n",
    "ax.set_title('Water discharge rate change')\n",
    "fig.legend()"
   ]
  },
  {
   "cell_type": "code",
   "execution_count": 94,
   "metadata": {},
   "outputs": [
    {
     "data": {
      "text/plain": [
       "0.02561775965410392"
      ]
     },
     "execution_count": 94,
     "metadata": {},
     "output_type": "execute_result"
    }
   ],
   "source": [
    "# P-Value is under 5% which rejects the null hypothesis \n",
    "adf_test = adfuller(eel.CFS_Slope.dropna())\n",
    "adf_test[1]"
   ]
  },
  {
   "cell_type": "code",
   "execution_count": 95,
   "metadata": {},
   "outputs": [
    {
     "name": "stderr",
     "output_type": "stream",
     "text": [
      "<ipython-input-95-a1b6fc69c554>:3: SettingWithCopyWarning:\n",
      "\n",
      "\n",
      "A value is trying to be set on a copy of a slice from a DataFrame.\n",
      "Try using .loc[row_indexer,col_indexer] = value instead\n",
      "\n",
      "See the caveats in the documentation: https://pandas.pydata.org/pandas-docs/stable/user_guide/indexing.html#returning-a-view-versus-a-copy\n",
      "\n"
     ]
    }
   ],
   "source": [
    "# Split Data into train and test\n",
    "split = '2020-12-22'\n",
    "eel['Date'] = pd.to_datetime(eel.Date,format='%Y-%m-%d')\n",
    "eel_test = eel.loc[eel.Date>=split]\n",
    "eel_train = eel.loc[eel.Date<split]"
   ]
  },
  {
   "cell_type": "code",
   "execution_count": 96,
   "metadata": {},
   "outputs": [
    {
     "name": "stderr",
     "output_type": "stream",
     "text": [
      "c:\\Users\\Scott\\Anaconda3\\lib\\site-packages\\statsmodels\\graphics\\tsaplots.py:348: FutureWarning:\n",
      "\n",
      "The default method 'yw' can produce PACF values outside of the [-1,1] interval. After 0.13, the default will change tounadjusted Yule-Walker ('ywm'). You can use this method now by setting method='ywm'.\n",
      "\n"
     ]
    },
    {
     "data": {
      "image/png": "[encoded data removed]",
      "text/plain": [
       "<Figure size 432x288 with 1 Axes>"
      ]
     },
     "metadata": {
      "needs_background": "light"
     },
     "output_type": "display_data"
    },
    {
     "data": {
      "image/png": "[encoded data removed]",
      "text/plain": [
       "<Figure size 432x288 with 1 Axes>"
      ]
     },
     "metadata": {
      "needs_background": "light"
     },
     "output_type": "display_data"
    }
   ],
   "source": [
    "acf_diff = plot_acf(eel_train.CFS_Slope.dropna())\n",
    "pacf_diff = plot_pacf(eel_train.CFS_Slope.dropna())"
   ]
  },
  {
   "cell_type": "code",
   "execution_count": 97,
   "metadata": {},
   "outputs": [
    {
     "name": "stderr",
     "output_type": "stream",
     "text": [
      "c:\\Users\\Scott\\Anaconda3\\lib\\site-packages\\statsmodels\\base\\model.py:604: ConvergenceWarning:\n",
      "\n",
      "Maximum Likelihood optimization failed to converge. Check mle_retvals\n",
      "\n"
     ]
    },
    {
     "data": {
      "text/html": [
       "<table class=\"simpletable\">\n",
       "<caption>SARIMAX Results</caption>\n",
       "<tr>\n",
       "  <th>Dep. Variable:</th>          <td>CFS</td>       <th>  No. Observations:  </th>    <td>64</td>   \n",
       "</tr>\n",
       "<tr>\n",
       "  <th>Model:</th>            <td>ARIMA(2, 1, 5)</td>  <th>  Log Likelihood     </th> <td>-446.705</td>\n",
       "</tr>\n",
       "<tr>\n",
       "  <th>Date:</th>            <td>Mon, 20 Feb 2023</td> <th>  AIC                </th>  <td>909.411</td>\n",
       "</tr>\n",
       "<tr>\n",
       "  <th>Time:</th>                <td>23:40:23</td>     <th>  BIC                </th>  <td>926.556</td>\n",
       "</tr>\n",
       "<tr>\n",
       "  <th>Sample:</th>                  <td>0</td>        <th>  HQIC               </th>  <td>916.154</td>\n",
       "</tr>\n",
       "<tr>\n",
       "  <th></th>                       <td> - 64</td>      <th>                     </th>     <td> </td>   \n",
       "</tr>\n",
       "<tr>\n",
       "  <th>Covariance Type:</th>        <td>opg</td>       <th>                     </th>     <td> </td>   \n",
       "</tr>\n",
       "</table>\n",
       "<table class=\"simpletable\">\n",
       "<tr>\n",
       "     <td></td>       <th>coef</th>     <th>std err</th>      <th>z</th>      <th>P>|z|</th>  <th>[0.025</th>    <th>0.975]</th>  \n",
       "</tr>\n",
       "<tr>\n",
       "  <th>ar.L1</th>  <td>   -1.0163</td> <td>   17.340</td> <td>   -0.059</td> <td> 0.953</td> <td>  -35.001</td> <td>   32.969</td>\n",
       "</tr>\n",
       "<tr>\n",
       "  <th>ar.L2</th>  <td>   -0.1395</td> <td>    9.293</td> <td>   -0.015</td> <td> 0.988</td> <td>  -18.353</td> <td>   18.074</td>\n",
       "</tr>\n",
       "<tr>\n",
       "  <th>ma.L1</th>  <td>    1.2990</td> <td>   17.811</td> <td>    0.073</td> <td> 0.942</td> <td>  -33.611</td> <td>   36.209</td>\n",
       "</tr>\n",
       "<tr>\n",
       "  <th>ma.L2</th>  <td>    0.1838</td> <td>   14.646</td> <td>    0.013</td> <td> 0.990</td> <td>  -28.522</td> <td>   28.889</td>\n",
       "</tr>\n",
       "<tr>\n",
       "  <th>ma.L3</th>  <td>   -0.7691</td> <td>    1.825</td> <td>   -0.421</td> <td> 0.674</td> <td>   -4.347</td> <td>    2.809</td>\n",
       "</tr>\n",
       "<tr>\n",
       "  <th>ma.L4</th>  <td>   -0.2311</td> <td>   12.065</td> <td>   -0.019</td> <td> 0.985</td> <td>  -23.879</td> <td>   23.417</td>\n",
       "</tr>\n",
       "<tr>\n",
       "  <th>ma.L5</th>  <td>    0.1687</td> <td>    2.465</td> <td>    0.068</td> <td> 0.945</td> <td>   -4.662</td> <td>    4.999</td>\n",
       "</tr>\n",
       "<tr>\n",
       "  <th>sigma2</th> <td> 1.056e+05</td> <td> 8.42e+04</td> <td>    1.253</td> <td> 0.210</td> <td>-5.95e+04</td> <td> 2.71e+05</td>\n",
       "</tr>\n",
       "</table>\n",
       "<table class=\"simpletable\">\n",
       "<tr>\n",
       "  <th>Ljung-Box (L1) (Q):</th>       <td>0.04</td>   <th>  Jarque-Bera (JB):  </th> <td>917.40</td>\n",
       "</tr>\n",
       "<tr>\n",
       "  <th>Prob(Q):</th>                  <td>0.84</td>   <th>  Prob(JB):          </th>  <td>0.00</td> \n",
       "</tr>\n",
       "<tr>\n",
       "  <th>Heteroskedasticity (H):</th> <td>17644.66</td> <th>  Skew:              </th>  <td>2.55</td> \n",
       "</tr>\n",
       "<tr>\n",
       "  <th>Prob(H) (two-sided):</th>      <td>0.00</td>   <th>  Kurtosis:          </th>  <td>20.98</td>\n",
       "</tr>\n",
       "</table><br/><br/>Warnings:<br/>[1] Covariance matrix calculated using the outer product of gradients (complex-step)."
      ],
      "text/plain": [
       "<class 'statsmodels.iolib.summary.Summary'>\n",
       "\"\"\"\n",
       "                               SARIMAX Results                                \n",
       "==============================================================================\n",
       "Dep. Variable:                    CFS   No. Observations:                   64\n",
       "Model:                 ARIMA(2, 1, 5)   Log Likelihood                -446.705\n",
       "Date:                Mon, 20 Feb 2023   AIC                            909.411\n",
       "Time:                        23:40:23   BIC                            926.556\n",
       "Sample:                             0   HQIC                           916.154\n",
       "                                 - 64                                         \n",
       "Covariance Type:                  opg                                         \n",
       "==============================================================================\n",
       "                 coef    std err          z      P>|z|      [0.025      0.975]\n",
       "------------------------------------------------------------------------------\n",
       "ar.L1         -1.0163     17.340     -0.059      0.953     -35.001      32.969\n",
       "ar.L2         -0.1395      9.293     -0.015      0.988     -18.353      18.074\n",
       "ma.L1          1.2990     17.811      0.073      0.942     -33.611      36.209\n",
       "ma.L2          0.1838     14.646      0.013      0.990     -28.522      28.889\n",
       "ma.L3         -0.7691      1.825     -0.421      0.674      -4.347       2.809\n",
       "ma.L4         -0.2311     12.065     -0.019      0.985     -23.879      23.417\n",
       "ma.L5          0.1687      2.465      0.068      0.945      -4.662       4.999\n",
       "sigma2      1.056e+05   8.42e+04      1.253      0.210   -5.95e+04    2.71e+05\n",
       "===================================================================================\n",
       "Ljung-Box (L1) (Q):                   0.04   Jarque-Bera (JB):               917.40\n",
       "Prob(Q):                              0.84   Prob(JB):                         0.00\n",
       "Heteroskedasticity (H):           17644.66   Skew:                             2.55\n",
       "Prob(H) (two-sided):                  0.00   Kurtosis:                        20.98\n",
       "===================================================================================\n",
       "\n",
       "Warnings:\n",
       "[1] Covariance matrix calculated using the outer product of gradients (complex-step).\n",
       "\"\"\""
      ]
     },
     "execution_count": 97,
     "metadata": {},
     "output_type": "execute_result"
    }
   ],
   "source": [
    "model = ARIMA(eel_train.CFS, order=(2,1,5))\n",
    "model_fit = model.fit()\n",
    "model_fit.summary()"
   ]
  },
  {
   "cell_type": "code",
   "execution_count": 98,
   "metadata": {},
   "outputs": [
    {
     "data": {
      "image/png": "[encoded data removed]",
      "text/plain": [
       "<Figure size 432x288 with 2 Axes>"
      ]
     },
     "metadata": {
      "needs_background": "light"
     },
     "output_type": "display_data"
    }
   ],
   "source": [
    "residuals = model_fit.resid[1:]\n",
    "fig, ax = plt.subplots(1,2)\n",
    "residuals.plot(title='Residuals',ax=ax[0])\n",
    "residuals.plot(title='Density',kind='kde',ax=ax[1])\n",
    "plt.show()\n"
   ]
  },
  {
   "cell_type": "code",
   "execution_count": 99,
   "metadata": {},
   "outputs": [
    {
     "name": "stderr",
     "output_type": "stream",
     "text": [
      "<ipython-input-99-c31d2af4aa2d>:3: SettingWithCopyWarning:\n",
      "\n",
      "\n",
      "A value is trying to be set on a copy of a slice from a DataFrame.\n",
      "Try using .loc[row_indexer,col_indexer] = value instead\n",
      "\n",
      "See the caveats in the documentation: https://pandas.pydata.org/pandas-docs/stable/user_guide/indexing.html#returning-a-view-versus-a-copy\n",
      "\n",
      "<ipython-input-99-c31d2af4aa2d>:4: SettingWithCopyWarning:\n",
      "\n",
      "\n",
      "A value is trying to be set on a copy of a slice from a DataFrame.\n",
      "Try using .loc[row_indexer,col_indexer] = value instead\n",
      "\n",
      "See the caveats in the documentation: https://pandas.pydata.org/pandas-docs/stable/user_guide/indexing.html#returning-a-view-versus-a-copy\n",
      "\n",
      "<ipython-input-99-c31d2af4aa2d>:5: SettingWithCopyWarning:\n",
      "\n",
      "\n",
      "A value is trying to be set on a copy of a slice from a DataFrame.\n",
      "Try using .loc[row_indexer,col_indexer] = value instead\n",
      "\n",
      "See the caveats in the documentation: https://pandas.pydata.org/pandas-docs/stable/user_guide/indexing.html#returning-a-view-versus-a-copy\n",
      "\n",
      "<ipython-input-99-c31d2af4aa2d>:6: SettingWithCopyWarning:\n",
      "\n",
      "\n",
      "A value is trying to be set on a copy of a slice from a DataFrame.\n",
      "Try using .loc[row_indexer,col_indexer] = value instead\n",
      "\n",
      "See the caveats in the documentation: https://pandas.pydata.org/pandas-docs/stable/user_guide/indexing.html#returning-a-view-versus-a-copy\n",
      "\n"
     ]
    },
    {
     "data": {
      "text/html": [
       "<div>\n",
       "<style scoped>\n",
       "    .dataframe tbody tr th:only-of-type {\n",
       "        vertical-align: middle;\n",
       "    }\n",
       "\n",
       "    .dataframe tbody tr th {\n",
       "        vertical-align: top;\n",
       "    }\n",
       "\n",
       "    .dataframe thead th {\n",
       "        text-align: right;\n",
       "    }\n",
       "</style>\n",
       "<table border=\"1\" class=\"dataframe\">\n",
       "  <thead>\n",
       "    <tr style=\"text-align: right;\">\n",
       "      <th></th>\n",
       "      <th>Date_Name</th>\n",
       "      <th>Date</th>\n",
       "      <th>Name</th>\n",
       "      <th>RiverName</th>\n",
       "      <th>FishType</th>\n",
       "      <th>CFS_Slope</th>\n",
       "      <th>BestDays</th>\n",
       "      <th>CFS</th>\n",
       "      <th>Precip</th>\n",
       "      <th>Precip_Shift</th>\n",
       "      <th>CFS_Rolling</th>\n",
       "      <th>CFS_Slope_Rolling</th>\n",
       "      <th>CFS_Rolling30</th>\n",
       "      <th>new_variable</th>\n",
       "    </tr>\n",
       "  </thead>\n",
       "  <tbody>\n",
       "    <tr>\n",
       "      <th>0</th>\n",
       "      <td>2020-10-19_Eel River Scotia</td>\n",
       "      <td>2020-10-19</td>\n",
       "      <td>Eel River Scotia</td>\n",
       "      <td>Eel</td>\n",
       "      <td>Steelhead</td>\n",
       "      <td>NaN</td>\n",
       "      <td>0</td>\n",
       "      <td>65.256250</td>\n",
       "      <td>0.0</td>\n",
       "      <td>NaN</td>\n",
       "      <td>65.256250</td>\n",
       "      <td>65.256250</td>\n",
       "      <td>65.256250</td>\n",
       "      <td>0.000000</td>\n",
       "    </tr>\n",
       "    <tr>\n",
       "      <th>1</th>\n",
       "      <td>2020-10-20_Eel River Scotia</td>\n",
       "      <td>2020-10-20</td>\n",
       "      <td>Eel River Scotia</td>\n",
       "      <td>Eel</td>\n",
       "      <td>Steelhead</td>\n",
       "      <td>0.280208</td>\n",
       "      <td>0</td>\n",
       "      <td>65.536458</td>\n",
       "      <td>0.0</td>\n",
       "      <td>0.0</td>\n",
       "      <td>65.396354</td>\n",
       "      <td>65.396354</td>\n",
       "      <td>65.396354</td>\n",
       "      <td>0.140104</td>\n",
       "    </tr>\n",
       "    <tr>\n",
       "      <th>2</th>\n",
       "      <td>2020-10-21_Eel River Scotia</td>\n",
       "      <td>2020-10-21</td>\n",
       "      <td>Eel River Scotia</td>\n",
       "      <td>Eel</td>\n",
       "      <td>Steelhead</td>\n",
       "      <td>-1.409375</td>\n",
       "      <td>0</td>\n",
       "      <td>64.127083</td>\n",
       "      <td>0.0</td>\n",
       "      <td>0.0</td>\n",
       "      <td>64.973264</td>\n",
       "      <td>64.973264</td>\n",
       "      <td>64.973264</td>\n",
       "      <td>-0.846181</td>\n",
       "    </tr>\n",
       "    <tr>\n",
       "      <th>3</th>\n",
       "      <td>2020-10-22_Eel River Scotia</td>\n",
       "      <td>2020-10-22</td>\n",
       "      <td>Eel River Scotia</td>\n",
       "      <td>Eel</td>\n",
       "      <td>Steelhead</td>\n",
       "      <td>0.750000</td>\n",
       "      <td>0</td>\n",
       "      <td>64.877083</td>\n",
       "      <td>0.0</td>\n",
       "      <td>0.0</td>\n",
       "      <td>64.846875</td>\n",
       "      <td>64.846875</td>\n",
       "      <td>64.949219</td>\n",
       "      <td>-0.072135</td>\n",
       "    </tr>\n",
       "    <tr>\n",
       "      <th>4</th>\n",
       "      <td>2020-10-23_Eel River Scotia</td>\n",
       "      <td>2020-10-23</td>\n",
       "      <td>Eel River Scotia</td>\n",
       "      <td>Eel</td>\n",
       "      <td>Steelhead</td>\n",
       "      <td>8.638542</td>\n",
       "      <td>0</td>\n",
       "      <td>73.515625</td>\n",
       "      <td>0.0</td>\n",
       "      <td>0.0</td>\n",
       "      <td>67.506597</td>\n",
       "      <td>67.506597</td>\n",
       "      <td>66.662500</td>\n",
       "      <td>6.853125</td>\n",
       "    </tr>\n",
       "    <tr>\n",
       "      <th>...</th>\n",
       "      <td>...</td>\n",
       "      <td>...</td>\n",
       "      <td>...</td>\n",
       "      <td>...</td>\n",
       "      <td>...</td>\n",
       "      <td>...</td>\n",
       "      <td>...</td>\n",
       "      <td>...</td>\n",
       "      <td>...</td>\n",
       "      <td>...</td>\n",
       "      <td>...</td>\n",
       "      <td>...</td>\n",
       "      <td>...</td>\n",
       "      <td>...</td>\n",
       "    </tr>\n",
       "    <tr>\n",
       "      <th>59</th>\n",
       "      <td>2020-12-17_Eel River Scotia</td>\n",
       "      <td>2020-12-17</td>\n",
       "      <td>Eel River Scotia</td>\n",
       "      <td>Eel</td>\n",
       "      <td>Steelhead</td>\n",
       "      <td>691.281250</td>\n",
       "      <td>0</td>\n",
       "      <td>1536.114583</td>\n",
       "      <td>0.0</td>\n",
       "      <td>3.6</td>\n",
       "      <td>996.489583</td>\n",
       "      <td>996.489583</td>\n",
       "      <td>423.087153</td>\n",
       "      <td>1113.027431</td>\n",
       "    </tr>\n",
       "    <tr>\n",
       "      <th>60</th>\n",
       "      <td>2020-12-18_Eel River Scotia</td>\n",
       "      <td>2020-12-18</td>\n",
       "      <td>Eel River Scotia</td>\n",
       "      <td>Eel</td>\n",
       "      <td>Steelhead</td>\n",
       "      <td>1914.093750</td>\n",
       "      <td>0</td>\n",
       "      <td>3450.208333</td>\n",
       "      <td>0.0</td>\n",
       "      <td>0.0</td>\n",
       "      <td>1943.718750</td>\n",
       "      <td>1943.718750</td>\n",
       "      <td>524.203472</td>\n",
       "      <td>2926.004861</td>\n",
       "    </tr>\n",
       "    <tr>\n",
       "      <th>61</th>\n",
       "      <td>2020-12-19_Eel River Scotia</td>\n",
       "      <td>2020-12-19</td>\n",
       "      <td>Eel River Scotia</td>\n",
       "      <td>Eel</td>\n",
       "      <td>Steelhead</td>\n",
       "      <td>-1000.312500</td>\n",
       "      <td>1</td>\n",
       "      <td>2449.895833</td>\n",
       "      <td>1.3</td>\n",
       "      <td>0.0</td>\n",
       "      <td>2478.739583</td>\n",
       "      <td>2478.739583</td>\n",
       "      <td>585.432986</td>\n",
       "      <td>1864.462847</td>\n",
       "    </tr>\n",
       "    <tr>\n",
       "      <th>62</th>\n",
       "      <td>2020-12-20_Eel River Scotia</td>\n",
       "      <td>2020-12-20</td>\n",
       "      <td>Eel River Scotia</td>\n",
       "      <td>Eel</td>\n",
       "      <td>Steelhead</td>\n",
       "      <td>-974.062500</td>\n",
       "      <td>1</td>\n",
       "      <td>1475.833333</td>\n",
       "      <td>0.0</td>\n",
       "      <td>1.3</td>\n",
       "      <td>2458.645833</td>\n",
       "      <td>2458.645833</td>\n",
       "      <td>608.888194</td>\n",
       "      <td>866.945139</td>\n",
       "    </tr>\n",
       "    <tr>\n",
       "      <th>63</th>\n",
       "      <td>2020-12-21_Eel River Scotia</td>\n",
       "      <td>2020-12-21</td>\n",
       "      <td>Eel River Scotia</td>\n",
       "      <td>Eel</td>\n",
       "      <td>Steelhead</td>\n",
       "      <td>-411.125000</td>\n",
       "      <td>1</td>\n",
       "      <td>1064.708333</td>\n",
       "      <td>0.0</td>\n",
       "      <td>0.0</td>\n",
       "      <td>1663.479167</td>\n",
       "      <td>1663.479167</td>\n",
       "      <td>614.569444</td>\n",
       "      <td>450.138889</td>\n",
       "    </tr>\n",
       "  </tbody>\n",
       "</table>\n",
       "<p>64 rows × 14 columns</p>\n",
       "</div>"
      ],
      "text/plain": [
       "                      Date_Name       Date              Name RiverName  \\\n",
       "0   2020-10-19_Eel River Scotia 2020-10-19  Eel River Scotia      Eel    \n",
       "1   2020-10-20_Eel River Scotia 2020-10-20  Eel River Scotia      Eel    \n",
       "2   2020-10-21_Eel River Scotia 2020-10-21  Eel River Scotia      Eel    \n",
       "3   2020-10-22_Eel River Scotia 2020-10-22  Eel River Scotia      Eel    \n",
       "4   2020-10-23_Eel River Scotia 2020-10-23  Eel River Scotia      Eel    \n",
       "..                          ...        ...               ...       ...   \n",
       "59  2020-12-17_Eel River Scotia 2020-12-17  Eel River Scotia      Eel    \n",
       "60  2020-12-18_Eel River Scotia 2020-12-18  Eel River Scotia      Eel    \n",
       "61  2020-12-19_Eel River Scotia 2020-12-19  Eel River Scotia      Eel    \n",
       "62  2020-12-20_Eel River Scotia 2020-12-20  Eel River Scotia      Eel    \n",
       "63  2020-12-21_Eel River Scotia 2020-12-21  Eel River Scotia      Eel    \n",
       "\n",
       "     FishType    CFS_Slope  BestDays          CFS  Precip  Precip_Shift  \\\n",
       "0   Steelhead          NaN         0    65.256250     0.0           NaN   \n",
       "1   Steelhead     0.280208         0    65.536458     0.0           0.0   \n",
       "2   Steelhead    -1.409375         0    64.127083     0.0           0.0   \n",
       "3   Steelhead     0.750000         0    64.877083     0.0           0.0   \n",
       "4   Steelhead     8.638542         0    73.515625     0.0           0.0   \n",
       "..        ...          ...       ...          ...     ...           ...   \n",
       "59  Steelhead   691.281250         0  1536.114583     0.0           3.6   \n",
       "60  Steelhead  1914.093750         0  3450.208333     0.0           0.0   \n",
       "61  Steelhead -1000.312500         1  2449.895833     1.3           0.0   \n",
       "62  Steelhead  -974.062500         1  1475.833333     0.0           1.3   \n",
       "63  Steelhead  -411.125000         1  1064.708333     0.0           0.0   \n",
       "\n",
       "    CFS_Rolling  CFS_Slope_Rolling  CFS_Rolling30  new_variable  \n",
       "0     65.256250          65.256250      65.256250      0.000000  \n",
       "1     65.396354          65.396354      65.396354      0.140104  \n",
       "2     64.973264          64.973264      64.973264     -0.846181  \n",
       "3     64.846875          64.846875      64.949219     -0.072135  \n",
       "4     67.506597          67.506597      66.662500      6.853125  \n",
       "..          ...                ...            ...           ...  \n",
       "59   996.489583         996.489583     423.087153   1113.027431  \n",
       "60  1943.718750        1943.718750     524.203472   2926.004861  \n",
       "61  2478.739583        2478.739583     585.432986   1864.462847  \n",
       "62  2458.645833        2458.645833     608.888194    866.945139  \n",
       "63  1663.479167        1663.479167     614.569444    450.138889  \n",
       "\n",
       "[64 rows x 14 columns]"
      ]
     },
     "execution_count": 99,
     "metadata": {},
     "output_type": "execute_result"
    }
   ],
   "source": [
    "from statsmodels.tsa.statespace.sarimax import SARIMAX\n",
    "\n",
    "eel_train['CFS_Rolling'] = eel_train.CFS.rolling(window=3,min_periods=1).mean()\n",
    "eel_train['CFS_Slope_Rolling'] = eel_train.CFS.rolling(window=3,min_periods=1).mean()\n",
    "eel_train['CFS_Rolling30'] = eel_train.CFS.rolling(window=30,min_periods=1).mean()\n",
    "eel_train['new_variable'] = np.abs(eel_train.CFS) - eel_train.CFS_Rolling30\n",
    "\n",
    "eel_train\n"
   ]
  },
  {
   "cell_type": "code",
   "execution_count": 100,
   "metadata": {},
   "outputs": [
    {
     "name": "stderr",
     "output_type": "stream",
     "text": [
      "c:\\Users\\Scott\\Anaconda3\\lib\\site-packages\\statsmodels\\tsa\\base\\tsa_model.py:590: ValueWarning:\n",
      "\n",
      "An unsupported index was provided and will be ignored when e.g. forecasting.\n",
      "\n",
      "c:\\Users\\Scott\\Anaconda3\\lib\\site-packages\\statsmodels\\tsa\\base\\tsa_model.py:590: ValueWarning:\n",
      "\n",
      "An unsupported index was provided and will be ignored when e.g. forecasting.\n",
      "\n"
     ]
    },
    {
     "data": {
      "text/html": [
       "<table class=\"simpletable\">\n",
       "<caption>SARIMAX Results</caption>\n",
       "<tr>\n",
       "  <th>Dep. Variable:</th>          <td>CFS</td>       <th>  No. Observations:  </th>    <td>63</td>   \n",
       "</tr>\n",
       "<tr>\n",
       "  <th>Model:</th>           <td>SARIMAX(0, 1, 0)</td> <th>  Log Likelihood     </th> <td>-435.656</td>\n",
       "</tr>\n",
       "<tr>\n",
       "  <th>Date:</th>            <td>Mon, 20 Feb 2023</td> <th>  AIC                </th>  <td>877.311</td>\n",
       "</tr>\n",
       "<tr>\n",
       "  <th>Time:</th>                <td>23:40:23</td>     <th>  BIC                </th>  <td>883.692</td>\n",
       "</tr>\n",
       "<tr>\n",
       "  <th>Sample:</th>                  <td>0</td>        <th>  HQIC               </th>  <td>879.817</td>\n",
       "</tr>\n",
       "<tr>\n",
       "  <th></th>                       <td> - 63</td>      <th>                     </th>     <td> </td>   \n",
       "</tr>\n",
       "<tr>\n",
       "  <th>Covariance Type:</th>        <td>opg</td>       <th>                     </th>     <td> </td>   \n",
       "</tr>\n",
       "</table>\n",
       "<table class=\"simpletable\">\n",
       "<tr>\n",
       "        <td></td>          <th>coef</th>     <th>std err</th>      <th>z</th>      <th>P>|z|</th>  <th>[0.025</th>    <th>0.975]</th>  \n",
       "</tr>\n",
       "<tr>\n",
       "  <th>Precip_Shift</th> <td>   -3.3460</td> <td>   20.513</td> <td>   -0.163</td> <td> 0.870</td> <td>  -43.551</td> <td>   36.859</td>\n",
       "</tr>\n",
       "<tr>\n",
       "  <th>CFS_Rolling</th>  <td>    0.9649</td> <td>    0.079</td> <td>   12.180</td> <td> 0.000</td> <td>    0.810</td> <td>    1.120</td>\n",
       "</tr>\n",
       "<tr>\n",
       "  <th>sigma2</th>       <td> 7.427e+04</td> <td> 5387.168</td> <td>   13.787</td> <td> 0.000</td> <td> 6.37e+04</td> <td> 8.48e+04</td>\n",
       "</tr>\n",
       "</table>\n",
       "<table class=\"simpletable\">\n",
       "<tr>\n",
       "  <th>Ljung-Box (L1) (Q):</th>       <td>0.00</td>   <th>  Jarque-Bera (JB):  </th> <td>854.80</td>\n",
       "</tr>\n",
       "<tr>\n",
       "  <th>Prob(Q):</th>                  <td>0.95</td>   <th>  Prob(JB):          </th>  <td>0.00</td> \n",
       "</tr>\n",
       "<tr>\n",
       "  <th>Heteroskedasticity (H):</th> <td>10296.30</td> <th>  Skew:              </th>  <td>-2.52</td>\n",
       "</tr>\n",
       "<tr>\n",
       "  <th>Prob(H) (two-sided):</th>      <td>0.00</td>   <th>  Kurtosis:          </th>  <td>20.48</td>\n",
       "</tr>\n",
       "</table><br/><br/>Warnings:<br/>[1] Covariance matrix calculated using the outer product of gradients (complex-step)."
      ],
      "text/plain": [
       "<class 'statsmodels.iolib.summary.Summary'>\n",
       "\"\"\"\n",
       "                               SARIMAX Results                                \n",
       "==============================================================================\n",
       "Dep. Variable:                    CFS   No. Observations:                   63\n",
       "Model:               SARIMAX(0, 1, 0)   Log Likelihood                -435.656\n",
       "Date:                Mon, 20 Feb 2023   AIC                            877.311\n",
       "Time:                        23:40:23   BIC                            883.692\n",
       "Sample:                             0   HQIC                           879.817\n",
       "                                 - 63                                         \n",
       "Covariance Type:                  opg                                         \n",
       "================================================================================\n",
       "                   coef    std err          z      P>|z|      [0.025      0.975]\n",
       "--------------------------------------------------------------------------------\n",
       "Precip_Shift    -3.3460     20.513     -0.163      0.870     -43.551      36.859\n",
       "CFS_Rolling      0.9649      0.079     12.180      0.000       0.810       1.120\n",
       "sigma2        7.427e+04   5387.168     13.787      0.000    6.37e+04    8.48e+04\n",
       "===================================================================================\n",
       "Ljung-Box (L1) (Q):                   0.00   Jarque-Bera (JB):               854.80\n",
       "Prob(Q):                              0.95   Prob(JB):                         0.00\n",
       "Heteroskedasticity (H):           10296.30   Skew:                            -2.52\n",
       "Prob(H) (two-sided):                  0.00   Kurtosis:                        20.48\n",
       "===================================================================================\n",
       "\n",
       "Warnings:\n",
       "[1] Covariance matrix calculated using the outer product of gradients (complex-step).\n",
       "\"\"\""
      ]
     },
     "execution_count": 100,
     "metadata": {},
     "output_type": "execute_result"
    }
   ],
   "source": [
    "model = SARIMAX(eel_train.CFS[1:],exog=eel_train[['Precip_Shift','CFS_Rolling']].dropna(),order=(0,1,0))\n",
    "model_fit = model.fit()\n",
    "model_fit.summary()"
   ]
  },
  {
   "cell_type": "code",
   "execution_count": 101,
   "metadata": {},
   "outputs": [
    {
     "data": {
      "image/png": "[encoded data removed]",
      "text/plain": [
       "<Figure size 432x288 with 2 Axes>"
      ]
     },
     "metadata": {
      "needs_background": "light"
     },
     "output_type": "display_data"
    }
   ],
   "source": [
    "residuals = model_fit.resid[1:]\n",
    "fig, ax = plt.subplots(1,2)\n",
    "residuals.plot(title='Residuals',ax=ax[0])\n",
    "residuals.plot(title='Density',kind='kde',ax=ax[1])\n",
    "plt.show()"
   ]
  },
  {
   "cell_type": "code",
   "execution_count": 102,
   "metadata": {},
   "outputs": [
    {
     "data": {
      "text/plain": [
       "<matplotlib.legend.Legend at 0x1fcfac95310>"
      ]
     },
     "execution_count": 102,
     "metadata": {},
     "output_type": "execute_result"
    },
    {
     "data": {
      "image/png": "[encoded data removed]",
      "text/plain": [
       "<Figure size 1080x360 with 1 Axes>"
      ]
     },
     "metadata": {
      "needs_background": "light"
     },
     "output_type": "display_data"
    }
   ],
   "source": [
    "predict = model_fit.predict()\n",
    "\n",
    "# # Create figure with secondary y-axis\n",
    "# fig = make_subplots(specs=[[{\"secondary_y\": False}]])\n",
    "# # Add traces\n",
    "# fig.add_trace(\n",
    "#     go.Scatter(x=eel_train.Date, y=eel_train.CFS, name=\"CFS - Observed\"),\n",
    "#     secondary_y=False)\n",
    "# fig.add_trace(\n",
    "#     go.Scatter(x=eel.Date, y=predict, name=\"CFS - Predicted\"),\n",
    "#     secondary_y=False)\n",
    "# # Add figure title\n",
    "# fig.update_layout(\n",
    "#     title_text=\"Observed vs Predicted\")\n",
    "# # Set x-axis title\n",
    "# fig.update_xaxes(title_text=\"Date\")\n",
    "# # Set y-axes titles\n",
    "# fig.update_yaxes(title_text=\"Discharge (cfs)\", secondary_y=False)\n",
    "# fig.show()\n",
    "\n",
    "\n",
    "fig, ax = plt.subplots(figsize=(15,5))\n",
    "ax.plot(eel_train.Date,eel_train.CFS,label='CFS - Observed')\n",
    "ax.plot(eel_train.Date[:-1],predict,label='CFS - Prediction')\n",
    "\n",
    "ax.set_xlabel('Date')\n",
    "ax.set_ylabel('Discharge (cfs)')\n",
    "fig.legend()"
   ]
  },
  {
   "cell_type": "code",
   "execution_count": 103,
   "metadata": {},
   "outputs": [
    {
     "name": "stderr",
     "output_type": "stream",
     "text": [
      "<ipython-input-103-0a73f537747d>:1: FutureWarning:\n",
      "\n",
      "DataFrame.mean and DataFrame.median with numeric_only=None will include datetime64 and datetime64tz columns in a future version.\n",
      "\n",
      "<ipython-input-103-0a73f537747d>:2: SettingWithCopyWarning:\n",
      "\n",
      "\n",
      "A value is trying to be set on a copy of a slice from a DataFrame.\n",
      "Try using .loc[row_indexer,col_indexer] = value instead\n",
      "\n",
      "See the caveats in the documentation: https://pandas.pydata.org/pandas-docs/stable/user_guide/indexing.html#returning-a-view-versus-a-copy\n",
      "\n",
      "<ipython-input-103-0a73f537747d>:3: SettingWithCopyWarning:\n",
      "\n",
      "\n",
      "A value is trying to be set on a copy of a slice from a DataFrame.\n",
      "Try using .loc[row_indexer,col_indexer] = value instead\n",
      "\n",
      "See the caveats in the documentation: https://pandas.pydata.org/pandas-docs/stable/user_guide/indexing.html#returning-a-view-versus-a-copy\n",
      "\n",
      "<ipython-input-103-0a73f537747d>:4: SettingWithCopyWarning:\n",
      "\n",
      "\n",
      "A value is trying to be set on a copy of a slice from a DataFrame.\n",
      "Try using .loc[row_indexer,col_indexer] = value instead\n",
      "\n",
      "See the caveats in the documentation: https://pandas.pydata.org/pandas-docs/stable/user_guide/indexing.html#returning-a-view-versus-a-copy\n",
      "\n",
      "<ipython-input-103-0a73f537747d>:5: SettingWithCopyWarning:\n",
      "\n",
      "\n",
      "A value is trying to be set on a copy of a slice from a DataFrame.\n",
      "Try using .loc[row_indexer,col_indexer] = value instead\n",
      "\n",
      "See the caveats in the documentation: https://pandas.pydata.org/pandas-docs/stable/user_guide/indexing.html#returning-a-view-versus-a-copy\n",
      "\n",
      "c:\\Users\\Scott\\Anaconda3\\lib\\site-packages\\statsmodels\\tsa\\base\\tsa_model.py:390: ValueWarning:\n",
      "\n",
      "No supported index is available. Prediction results will be given with an integer index beginning at `start`.\n",
      "\n"
     ]
    }
   ],
   "source": [
    "mean = eel_test.mean()\n",
    "eel_test['CFS_Rolling'] = eel_test.CFS.rolling(window=2,min_periods=1).mean()\n",
    "eel_test['CFS_Slope_Rolling'] = eel_test.CFS.rolling(window=3,min_periods=1).mean()\n",
    "eel_test['CFS_Rolling30'] = eel_test.CFS.rolling(window=30,min_periods=1).mean()\n",
    "eel_test['new_variable'] = np.abs(eel_test.CFS) - eel_test.CFS_Rolling30\n",
    "\n",
    "# eel_test\n",
    "\n",
    "length = len(eel_test.CFS)\n",
    "forecast = model_fit.forecast(length,exog=eel_test[['Precip_Shift','CFS_Rolling']].dropna())"
   ]
  },
  {
   "cell_type": "code",
   "execution_count": 104,
   "metadata": {},
   "outputs": [
    {
     "data": {
      "application/vnd.plotly.v1+json": {
       "config": {
        "plotlyServerURL": "https://plot.ly"
       },
       "data": [
        {
         "name": "CFS - Observed",
         "type": "scatter",
         "x": [
          "2020-10-19T00:00:00",
          "2020-10-20T00:00:00",
          "2020-10-21T00:00:00",
          "2020-10-22T00:00:00",
          "2020-10-23T00:00:00",
          "2020-10-24T00:00:00",
          "2020-10-25T00:00:00",
          "2020-10-26T00:00:00",
          "2020-10-27T00:00:00",
          "2020-10-28T00:00:00",
          "2020-10-29T00:00:00",
          "2020-10-30T00:00:00",
          "2020-10-31T00:00:00",
          "2020-11-01T00:00:00",
          "2020-11-02T00:00:00",
          "2020-11-03T00:00:00",
          "2020-11-04T00:00:00",
          "2020-11-05T00:00:00",
          "2020-11-06T00:00:00",
          "2020-11-07T00:00:00",
          "2020-11-08T00:00:00",
          "2020-11-09T00:00:00",
          "2020-11-10T00:00:00",
          "2020-11-11T00:00:00",
          "2020-11-12T00:00:00",
          "2020-11-13T00:00:00",
          "2020-11-14T00:00:00",
          "2020-11-15T00:00:00",
          "2020-11-16T00:00:00",
          "2020-11-17T00:00:00",
          "2020-11-18T00:00:00",
          "2020-11-19T00:00:00",
          "2020-11-20T00:00:00",
          "2020-11-21T00:00:00",
          "2020-11-22T00:00:00",
          "2020-11-23T00:00:00",
          "2020-11-24T00:00:00",
          "2020-11-25T00:00:00",
          "2020-11-26T00:00:00",
          "2020-11-27T00:00:00",
          "2020-11-28T00:00:00",
          "2020-11-29T00:00:00",
          "2020-11-30T00:00:00",
          "2020-12-01T00:00:00",
          "2020-12-02T00:00:00",
          "2020-12-03T00:00:00",
          "2020-12-04T00:00:00",
          "2020-12-05T00:00:00",
          "2020-12-06T00:00:00",
          "2020-12-07T00:00:00",
          "2020-12-08T00:00:00",
          "2020-12-09T00:00:00",
          "2020-12-10T00:00:00",
          "2020-12-11T00:00:00",
          "2020-12-12T00:00:00",
          "2020-12-13T00:00:00",
          "2020-12-14T00:00:00",
          "2020-12-15T00:00:00",
          "2020-12-16T00:00:00",
          "2020-12-17T00:00:00",
          "2020-12-18T00:00:00",
          "2020-12-19T00:00:00",
          "2020-12-20T00:00:00",
          "2020-12-21T00:00:00",
          "2020-12-22T00:00:00",
          "2020-12-23T00:00:00",
          "2020-12-24T00:00:00",
          "2020-12-25T00:00:00",
          "2020-12-26T00:00:00",
          "2020-12-27T00:00:00",
          "2020-12-28T00:00:00",
          "2020-12-29T00:00:00",
          "2020-12-30T00:00:00",
          "2020-12-31T00:00:00",
          "2021-01-01T00:00:00",
          "2021-01-02T00:00:00",
          "2021-01-03T00:00:00",
          "2021-01-04T00:00:00",
          "2021-01-05T00:00:00",
          "2021-01-06T00:00:00",
          "2021-01-07T00:00:00",
          "2021-01-08T00:00:00",
          "2021-01-09T00:00:00",
          "2021-01-10T00:00:00",
          "2021-01-11T00:00:00",
          "2021-01-12T00:00:00",
          "2021-01-13T00:00:00",
          "2021-01-14T00:00:00",
          "2021-01-15T00:00:00",
          "2021-01-16T00:00:00",
          "2021-01-17T00:00:00",
          "2021-01-18T00:00:00",
          "2021-01-19T00:00:00",
          "2021-01-20T00:00:00",
          "2021-01-21T00:00:00",
          "2021-01-22T00:00:00",
          "2021-01-23T00:00:00",
          "2021-01-24T00:00:00",
          "2021-01-25T00:00:00",
          "2021-01-26T00:00:00",
          "2021-01-27T00:00:00"
         ],
         "xaxis": "x",
         "y": [
          65.25625000000001,
          65.53645833333333,
          64.12708333333333,
          64.87708333333335,
          73.51562500000001,
          79.95,
          78.84166666666668,
          77.14166666666665,
          75.35729166666665,
          74.953125,
          74.87083333333334,
          74.78645833333331,
          75.80104166666666,
          76.64791666666667,
          77.621875,
          78.53749999999998,
          80.03749999999998,
          81.44583333333333,
          83.096875,
          84.90520833333332,
          95.15833333333335,
          94.925,
          92.44875000000003,
          91.90000000000002,
          92.44999999999999,
          107.8125,
          117.3125,
          129.08333333333334,
          158.10416666666666,
          237.27083333333334,
          416.71875,
          613.0104166666666,
          772.1770833333334,
          894.2708333333334,
          670.3333333333334,
          500.5625,
          399.3333333333333,
          348.3125,
          319.3020833333333,
          287.3125,
          262.3854166666667,
          248.05208333333334,
          232.44791666666666,
          222.76041666666666,
          214.64583333333334,
          207.72916666666666,
          199.28125,
          208.07291666666666,
          261.0416666666667,
          262.2083333333333,
          260.125,
          257.125,
          256,
          259.5416666666667,
          263.5104166666667,
          292.7291666666667,
          574.15625,
          608.5208333333334,
          844.8333333333334,
          1536.1145833333333,
          3450.2083333333335,
          2449.8958333333335,
          1475.8333333333333,
          1064.7083333333333,
          865.8333333333334,
          742.1145833333334,
          649.3958333333334,
          662.4791666666666,
          1509.7395833333333,
          4343.75,
          3286.875,
          2026.875,
          1453.9583333333333,
          1304.5833333333333,
          1344.375,
          1531.7708333333333,
          1669.4791666666667,
          3816.71875,
          12030.875,
          7398.125,
          6180.9375,
          6456.875,
          8789.0625,
          5875,
          4224.6875,
          3635.2083333333335,
          12001.770833333334,
          16543.75,
          8806.041666666666,
          5638.541666666667,
          4274.791666666667,
          3488.3333333333335,
          2966.25,
          2532.9166666666665,
          2211.875,
          2028.5416666666667,
          1871.875,
          1771.9791666666667,
          1806.9791666666667,
          1795.875,
          3043.9583333333335
         ],
         "yaxis": "y"
        },
        {
         "name": "CFS - Predicted",
         "type": "scatter",
         "x": [
          "2020-10-19T00:00:00",
          "2020-10-20T00:00:00",
          "2020-10-21T00:00:00",
          "2020-10-22T00:00:00",
          "2020-10-23T00:00:00",
          "2020-10-24T00:00:00",
          "2020-10-25T00:00:00",
          "2020-10-26T00:00:00",
          "2020-10-27T00:00:00",
          "2020-10-28T00:00:00",
          "2020-10-29T00:00:00",
          "2020-10-30T00:00:00",
          "2020-10-31T00:00:00",
          "2020-11-01T00:00:00",
          "2020-11-02T00:00:00",
          "2020-11-03T00:00:00",
          "2020-11-04T00:00:00",
          "2020-11-05T00:00:00",
          "2020-11-06T00:00:00",
          "2020-11-07T00:00:00",
          "2020-11-08T00:00:00",
          "2020-11-09T00:00:00",
          "2020-11-10T00:00:00",
          "2020-11-11T00:00:00",
          "2020-11-12T00:00:00",
          "2020-11-13T00:00:00",
          "2020-11-14T00:00:00",
          "2020-11-15T00:00:00",
          "2020-11-16T00:00:00",
          "2020-11-17T00:00:00",
          "2020-11-18T00:00:00",
          "2020-11-19T00:00:00",
          "2020-11-20T00:00:00",
          "2020-11-21T00:00:00",
          "2020-11-22T00:00:00",
          "2020-11-23T00:00:00",
          "2020-11-24T00:00:00",
          "2020-11-25T00:00:00",
          "2020-11-26T00:00:00",
          "2020-11-27T00:00:00",
          "2020-11-28T00:00:00",
          "2020-11-29T00:00:00",
          "2020-11-30T00:00:00",
          "2020-12-01T00:00:00",
          "2020-12-02T00:00:00",
          "2020-12-03T00:00:00",
          "2020-12-04T00:00:00",
          "2020-12-05T00:00:00",
          "2020-12-06T00:00:00",
          "2020-12-07T00:00:00",
          "2020-12-08T00:00:00",
          "2020-12-09T00:00:00",
          "2020-12-10T00:00:00",
          "2020-12-11T00:00:00",
          "2020-12-12T00:00:00",
          "2020-12-13T00:00:00",
          "2020-12-14T00:00:00",
          "2020-12-15T00:00:00",
          "2020-12-16T00:00:00",
          "2020-12-17T00:00:00",
          "2020-12-18T00:00:00",
          "2020-12-19T00:00:00",
          "2020-12-20T00:00:00",
          "2020-12-21T00:00:00"
         ],
         "xaxis": "x2",
         "y": [
          63.10197497588451,
          65.12821184220888,
          64.00512869831545,
          67.44349131200653,
          78.60488573055426,
          84.44154900288419,
          80.00794162407678,
          75.66447439800214,
          74.10658657732108,
          74.22273735071704,
          74.68723130039433,
          75.05918106109308,
          76.37262025826149,
          77.55989610765212,
          78.50202562140657,
          79.62772083062694,
          81.26743259656777,
          82.91230431540285,
          81.31654644854919,
          79.94695758967612,
          100.6357005907825,
          83.63281128293715,
          116.16093285081749,
          91.1039444703228,
          97.3915750077084,
          87.87998081784684,
          157.20135401788286,
          140.90931161862738,
          201.03715966522964,
          262.53145960789254,
          575.7488498541105,
          817.5128358124184,
          947.8596772845748,
          912.7080958746371,
          582.9715995945561,
          341.37149647692235,
          285.7210897181391,
          288.0045708770245,
          295.31735673436685,
          259.6750333993798,
          239.4686665698983,
          230.40551567840953,
          219.70298722688491,
          212.01567725726076,
          206.69532924274398,
          200.17736042132807,
          197.16714629955248,
          225.2202744145118,
          279.6084597994892,
          280.6232781490677,
          258.8652488250899,
          251.78218893716127,
          259.15834891911175,
          261.59546313001744,
          275.32393433350956,
          393.92136011296714,
          675.0870023565255,
          791.1178005185868,
          1147.2097228436937,
          2462.156463523731,
          3966.4583852939554,
          2426.1572937418446,
          712.9142210285164
         ],
         "yaxis": "y2"
        },
        {
         "name": "CFS - Forecast",
         "type": "scatter",
         "x": [
          "2020-12-22T00:00:00",
          "2020-12-23T00:00:00",
          "2020-12-24T00:00:00",
          "2020-12-25T00:00:00",
          "2020-12-26T00:00:00",
          "2020-12-27T00:00:00",
          "2020-12-28T00:00:00",
          "2020-12-29T00:00:00",
          "2020-12-30T00:00:00",
          "2020-12-31T00:00:00",
          "2021-01-01T00:00:00",
          "2021-01-02T00:00:00",
          "2021-01-03T00:00:00",
          "2021-01-04T00:00:00",
          "2021-01-05T00:00:00",
          "2021-01-06T00:00:00",
          "2021-01-07T00:00:00",
          "2021-01-08T00:00:00",
          "2021-01-09T00:00:00",
          "2021-01-10T00:00:00",
          "2021-01-11T00:00:00",
          "2021-01-12T00:00:00",
          "2021-01-13T00:00:00",
          "2021-01-14T00:00:00",
          "2021-01-15T00:00:00",
          "2021-01-16T00:00:00",
          "2021-01-17T00:00:00",
          "2021-01-18T00:00:00",
          "2021-01-19T00:00:00",
          "2021-01-20T00:00:00",
          "2021-01-21T00:00:00",
          "2021-01-22T00:00:00",
          "2021-01-23T00:00:00",
          "2021-01-24T00:00:00",
          "2021-01-25T00:00:00",
          "2021-01-26T00:00:00",
          "2021-01-27T00:00:00"
         ],
         "xaxis": "x2",
         "y": [
          295.0472710921309,
          235.35818317561382,
          130.93620214257578,
          92.51546650884893,
          507.595102636566,
          2283.653286342298,
          3141.0463017500097,
          2023.2516621615844,
          1138.9465421994432,
          790.471223842005,
          737.6018793205128,
          847.2102827438721,
          1004.0593552263592,
          2078.3443612896544,
          6971.21430820887,
          8832.26169817143,
          5971.099887021189,
          5556.803451753429,
          6815.113953777302,
          6534.38376509189,
          4332.26500250374,
          3251.6598257916485,
          6967.30400519202,
          13195.801062399385,
          11689.798184339234,
          6428.4943079561635,
          4242.356963198656,
          3204.9719730725747,
          2573.655712731337,
          2112.707397188443,
          1748.753221309503,
          1505.4135196240816,
          1341.3778347208975,
          1217.5972305797998,
          1186.2877233203992,
          1197.8164568120628,
          1794.6068239154058
         ],
         "yaxis": "y2"
        }
       ],
       "layout": {
        "template": {
         "data": {
          "bar": [
           {
            "error_x": {
             "color": "#2a3f5f"
            },
            "error_y": {
             "color": "#2a3f5f"
            },
            "marker": {
             "line": {
              "color": "#E5ECF6",
              "width": 0.5
             },
             "pattern": {
              "fillmode": "overlay",
              "size": 10,
              "solidity": 0.2
             }
            },
            "type": "bar"
           }
          ],
          "barpolar": [
           {
            "marker": {
             "line": {
              "color": "#E5ECF6",
              "width": 0.5
             },
             "pattern": {
              "fillmode": "overlay",
              "size": 10,
              "solidity": 0.2
             }
            },
            "type": "barpolar"
           }
          ],
          "carpet": [
           {
            "aaxis": {
             "endlinecolor": "#2a3f5f",
             "gridcolor": "white",
             "linecolor": "white",
             "minorgridcolor": "white",
             "startlinecolor": "#2a3f5f"
            },
            "baxis": {
             "endlinecolor": "#2a3f5f",
             "gridcolor": "white",
             "linecolor": "white",
             "minorgridcolor": "white",
             "startlinecolor": "#2a3f5f"
            },
            "type": "carpet"
           }
          ],
          "choropleth": [
           {
            "colorbar": {
             "outlinewidth": 0,
             "ticks": ""
            },
            "type": "choropleth"
           }
          ],
          "contour": [
           {
            "colorbar": {
             "outlinewidth": 0,
             "ticks": ""
            },
            "colorscale": [
             [
              0,
              "#0d0887"
             ],
             [
              0.1111111111111111,
              "#46039f"
             ],
             [
              0.2222222222222222,
              "#7201a8"
             ],
             [
              0.3333333333333333,
              "#9c179e"
             ],
             [
              0.4444444444444444,
              "#bd3786"
             ],
             [
              0.5555555555555556,
              "#d8576b"
             ],
             [
              0.6666666666666666,
              "#ed7953"
             ],
             [
              0.7777777777777778,
              "#fb9f3a"
             ],
             [
              0.8888888888888888,
              "#fdca26"
             ],
             [
              1,
              "#f0f921"
             ]
            ],
            "type": "contour"
           }
          ],
          "contourcarpet": [
           {
            "colorbar": {
             "outlinewidth": 0,
             "ticks": ""
            },
            "type": "contourcarpet"
           }
          ],
          "heatmap": [
           {
            "colorbar": {
             "outlinewidth": 0,
             "ticks": ""
            },
            "colorscale": [
             [
              0,
              "#0d0887"
             ],
             [
              0.1111111111111111,
              "#46039f"
             ],
             [
              0.2222222222222222,
              "#7201a8"
             ],
             [
              0.3333333333333333,
              "#9c179e"
             ],
             [
              0.4444444444444444,
              "#bd3786"
             ],
             [
              0.5555555555555556,
              "#d8576b"
             ],
             [
              0.6666666666666666,
              "#ed7953"
             ],
             [
              0.7777777777777778,
              "#fb9f3a"
             ],
             [
              0.8888888888888888,
              "#fdca26"
             ],
             [
              1,
              "#f0f921"
             ]
            ],
            "type": "heatmap"
           }
          ],
          "heatmapgl": [
           {
            "colorbar": {
             "outlinewidth": 0,
             "ticks": ""
            },
            "colorscale": [
             [
              0,
              "#0d0887"
             ],
             [
              0.1111111111111111,
              "#46039f"
             ],
             [
              0.2222222222222222,
              "#7201a8"
             ],
             [
              0.3333333333333333,
              "#9c179e"
             ],
             [
              0.4444444444444444,
              "#bd3786"
             ],
             [
              0.5555555555555556,
              "#d8576b"
             ],
             [
              0.6666666666666666,
              "#ed7953"
             ],
             [
              0.7777777777777778,
              "#fb9f3a"
             ],
             [
              0.8888888888888888,
              "#fdca26"
             ],
             [
              1,
              "#f0f921"
             ]
            ],
            "type": "heatmapgl"
           }
          ],
          "histogram": [
           {
            "marker": {
             "pattern": {
              "fillmode": "overlay",
              "size": 10,
              "solidity": 0.2
             }
            },
            "type": "histogram"
           }
          ],
          "histogram2d": [
           {
            "colorbar": {
             "outlinewidth": 0,
             "ticks": ""
            },
            "colorscale": [
             [
              0,
              "#0d0887"
             ],
             [
              0.1111111111111111,
              "#46039f"
             ],
             [
              0.2222222222222222,
              "#7201a8"
             ],
             [
              0.3333333333333333,
              "#9c179e"
             ],
             [
              0.4444444444444444,
              "#bd3786"
             ],
             [
              0.5555555555555556,
              "#d8576b"
             ],
             [
              0.6666666666666666,
              "#ed7953"
             ],
             [
              0.7777777777777778,
              "#fb9f3a"
             ],
             [
              0.8888888888888888,
              "#fdca26"
             ],
             [
              1,
              "#f0f921"
             ]
            ],
            "type": "histogram2d"
           }
          ],
          "histogram2dcontour": [
           {
            "colorbar": {
             "outlinewidth": 0,
             "ticks": ""
            },
            "colorscale": [
             [
              0,
              "#0d0887"
             ],
             [
              0.1111111111111111,
              "#46039f"
             ],
             [
              0.2222222222222222,
              "#7201a8"
             ],
             [
              0.3333333333333333,
              "#9c179e"
             ],
             [
              0.4444444444444444,
              "#bd3786"
             ],
             [
              0.5555555555555556,
              "#d8576b"
             ],
             [
              0.6666666666666666,
              "#ed7953"
             ],
             [
              0.7777777777777778,
              "#fb9f3a"
             ],
             [
              0.8888888888888888,
              "#fdca26"
             ],
             [
              1,
              "#f0f921"
             ]
            ],
            "type": "histogram2dcontour"
           }
          ],
          "mesh3d": [
           {
            "colorbar": {
             "outlinewidth": 0,
             "ticks": ""
            },
            "type": "mesh3d"
           }
          ],
          "parcoords": [
           {
            "line": {
             "colorbar": {
              "outlinewidth": 0,
              "ticks": ""
             }
            },
            "type": "parcoords"
           }
          ],
          "pie": [
           {
            "automargin": true,
            "type": "pie"
           }
          ],
          "scatter": [
           {
            "marker": {
             "colorbar": {
              "outlinewidth": 0,
              "ticks": ""
             }
            },
            "type": "scatter"
           }
          ],
          "scatter3d": [
           {
            "line": {
             "colorbar": {
              "outlinewidth": 0,
              "ticks": ""
             }
            },
            "marker": {
             "colorbar": {
              "outlinewidth": 0,
              "ticks": ""
             }
            },
            "type": "scatter3d"
           }
          ],
          "scattercarpet": [
           {
            "marker": {
             "colorbar": {
              "outlinewidth": 0,
              "ticks": ""
             }
            },
            "type": "scattercarpet"
           }
          ],
          "scattergeo": [
           {
            "marker": {
             "colorbar": {
              "outlinewidth": 0,
              "ticks": ""
             }
            },
            "type": "scattergeo"
           }
          ],
          "scattergl": [
           {
            "marker": {
             "colorbar": {
              "outlinewidth": 0,
              "ticks": ""
             }
            },
            "type": "scattergl"
           }
          ],
          "scattermapbox": [
           {
            "marker": {
             "colorbar": {
              "outlinewidth": 0,
              "ticks": ""
             }
            },
            "type": "scattermapbox"
           }
          ],
          "scatterpolar": [
           {
            "marker": {
             "colorbar": {
              "outlinewidth": 0,
              "ticks": ""
             }
            },
            "type": "scatterpolar"
           }
          ],
          "scatterpolargl": [
           {
            "marker": {
             "colorbar": {
              "outlinewidth": 0,
              "ticks": ""
             }
            },
            "type": "scatterpolargl"
           }
          ],
          "scatterternary": [
           {
            "marker": {
             "colorbar": {
              "outlinewidth": 0,
              "ticks": ""
             }
            },
            "type": "scatterternary"
           }
          ],
          "surface": [
           {
            "colorbar": {
             "outlinewidth": 0,
             "ticks": ""
            },
            "colorscale": [
             [
              0,
              "#0d0887"
             ],
             [
              0.1111111111111111,
              "#46039f"
             ],
             [
              0.2222222222222222,
              "#7201a8"
             ],
             [
              0.3333333333333333,
              "#9c179e"
             ],
             [
              0.4444444444444444,
              "#bd3786"
             ],
             [
              0.5555555555555556,
              "#d8576b"
             ],
             [
              0.6666666666666666,
              "#ed7953"
             ],
             [
              0.7777777777777778,
              "#fb9f3a"
             ],
             [
              0.8888888888888888,
              "#fdca26"
             ],
             [
              1,
              "#f0f921"
             ]
            ],
            "type": "surface"
           }
          ],
          "table": [
           {
            "cells": {
             "fill": {
              "color": "#EBF0F8"
             },
             "line": {
              "color": "white"
             }
            },
            "header": {
             "fill": {
              "color": "#C8D4E3"
             },
             "line": {
              "color": "white"
             }
            },
            "type": "table"
           }
          ]
         },
         "layout": {
          "annotationdefaults": {
           "arrowcolor": "#2a3f5f",
           "arrowhead": 0,
           "arrowwidth": 1
          },
          "autotypenumbers": "strict",
          "coloraxis": {
           "colorbar": {
            "outlinewidth": 0,
            "ticks": ""
           }
          },
          "colorscale": {
           "diverging": [
            [
             0,
             "#8e0152"
            ],
            [
             0.1,
             "#c51b7d"
            ],
            [
             0.2,
             "#de77ae"
            ],
            [
             0.3,
             "#f1b6da"
            ],
            [
             0.4,
             "#fde0ef"
            ],
            [
             0.5,
             "#f7f7f7"
            ],
            [
             0.6,
             "#e6f5d0"
            ],
            [
             0.7,
             "#b8e186"
            ],
            [
             0.8,
             "#7fbc41"
            ],
            [
             0.9,
             "#4d9221"
            ],
            [
             1,
             "#276419"
            ]
           ],
           "sequential": [
            [
             0,
             "#0d0887"
            ],
            [
             0.1111111111111111,
             "#46039f"
            ],
            [
             0.2222222222222222,
             "#7201a8"
            ],
            [
             0.3333333333333333,
             "#9c179e"
            ],
            [
             0.4444444444444444,
             "#bd3786"
            ],
            [
             0.5555555555555556,
             "#d8576b"
            ],
            [
             0.6666666666666666,
             "#ed7953"
            ],
            [
             0.7777777777777778,
             "#fb9f3a"
            ],
            [
             0.8888888888888888,
             "#fdca26"
            ],
            [
             1,
             "#f0f921"
            ]
           ],
           "sequentialminus": [
            [
             0,
             "#0d0887"
            ],
            [
             0.1111111111111111,
             "#46039f"
            ],
            [
             0.2222222222222222,
             "#7201a8"
            ],
            [
             0.3333333333333333,
             "#9c179e"
            ],
            [
             0.4444444444444444,
             "#bd3786"
            ],
            [
             0.5555555555555556,
             "#d8576b"
            ],
            [
             0.6666666666666666,
             "#ed7953"
            ],
            [
             0.7777777777777778,
             "#fb9f3a"
            ],
            [
             0.8888888888888888,
             "#fdca26"
            ],
            [
             1,
             "#f0f921"
            ]
           ]
          },
          "colorway": [
           "#636efa",
           "#EF553B",
           "#00cc96",
           "#ab63fa",
           "#FFA15A",
           "#19d3f3",
           "#FF6692",
           "#B6E880",
           "#FF97FF",
           "#FECB52"
          ],
          "font": {
           "color": "#2a3f5f"
          },
          "geo": {
           "bgcolor": "white",
           "lakecolor": "white",
           "landcolor": "#E5ECF6",
           "showlakes": true,
           "showland": true,
           "subunitcolor": "white"
          },
          "hoverlabel": {
           "align": "left"
          },
          "hovermode": "closest",
          "mapbox": {
           "style": "light"
          },
          "paper_bgcolor": "white",
          "plot_bgcolor": "#E5ECF6",
          "polar": {
           "angularaxis": {
            "gridcolor": "white",
            "linecolor": "white",
            "ticks": ""
           },
           "bgcolor": "#E5ECF6",
           "radialaxis": {
            "gridcolor": "white",
            "linecolor": "white",
            "ticks": ""
           }
          },
          "scene": {
           "xaxis": {
            "backgroundcolor": "#E5ECF6",
            "gridcolor": "white",
            "gridwidth": 2,
            "linecolor": "white",
            "showbackground": true,
            "ticks": "",
            "zerolinecolor": "white"
           },
           "yaxis": {
            "backgroundcolor": "#E5ECF6",
            "gridcolor": "white",
            "gridwidth": 2,
            "linecolor": "white",
            "showbackground": true,
            "ticks": "",
            "zerolinecolor": "white"
           },
           "zaxis": {
            "backgroundcolor": "#E5ECF6",
            "gridcolor": "white",
            "gridwidth": 2,
            "linecolor": "white",
            "showbackground": true,
            "ticks": "",
            "zerolinecolor": "white"
           }
          },
          "shapedefaults": {
           "line": {
            "color": "#2a3f5f"
           }
          },
          "ternary": {
           "aaxis": {
            "gridcolor": "white",
            "linecolor": "white",
            "ticks": ""
           },
           "baxis": {
            "gridcolor": "white",
            "linecolor": "white",
            "ticks": ""
           },
           "bgcolor": "#E5ECF6",
           "caxis": {
            "gridcolor": "white",
            "linecolor": "white",
            "ticks": ""
           }
          },
          "title": {
           "x": 0.05
          },
          "xaxis": {
           "automargin": true,
           "gridcolor": "white",
           "linecolor": "white",
           "ticks": "",
           "title": {
            "standoff": 15
           },
           "zerolinecolor": "white",
           "zerolinewidth": 2
          },
          "yaxis": {
           "automargin": true,
           "gridcolor": "white",
           "linecolor": "white",
           "ticks": "",
           "title": {
            "standoff": 15
           },
           "zerolinecolor": "white",
           "zerolinewidth": 2
          }
         }
        },
        "title": {
         "text": "Observed, Predicted, & Forecasted "
        },
        "xaxis": {
         "anchor": "y",
         "domain": [
          0,
          1
         ],
         "title": {
          "text": "Date"
         }
        },
        "xaxis2": {
         "anchor": "y2",
         "domain": [
          0,
          1
         ],
         "title": {
          "text": "Date"
         }
        },
        "yaxis": {
         "anchor": "x",
         "domain": [
          0.575,
          1
         ],
         "title": {
          "text": "Discharge (cfs)"
         }
        },
        "yaxis2": {
         "anchor": "x2",
         "domain": [
          0,
          0.425
         ],
         "title": {
          "text": "Discharge (cfs)"
         }
        }
       }
      }
     },
     "metadata": {},
     "output_type": "display_data"
    }
   ],
   "source": [
    "\n",
    "\n",
    "# Create figure with secondary y-axis\n",
    "fig = make_subplots(rows=2,cols=1)\n",
    "# Add traces\n",
    "fig.add_trace(\n",
    "    go.Scatter(x=eel.Date, y=eel.CFS, name=\"CFS - Observed\"),\n",
    "    secondary_y=False,row=1,col=1)\n",
    "fig.add_trace(\n",
    "    go.Scatter(x=eel_train.Date, y=predict, name=\"CFS - Predicted\"),\n",
    "    secondary_y=False,row=2,col=1)\n",
    "fig.add_trace(\n",
    "    go.Scatter(x=eel_test.Date, y=forecast, name=\"CFS - Forecast\"),\n",
    "    secondary_y=False,row=2,col=1)\n",
    "\n",
    "# Add figure title\n",
    "fig.update_layout(\n",
    "    title_text=\"Observed, Predicted, & Forecasted \")\n",
    "# Set x-axis title\n",
    "fig.update_xaxes(title_text=\"Date\")\n",
    "# Set y-axes titles\n",
    "fig.update_yaxes(title_text=\"Discharge (cfs)\", secondary_y=False)\n",
    "fig.update_yaxes(title_text=\"Precip (mm)\", secondary_y=True)\n",
    "fig.show()\n",
    "\n",
    "\n",
    "\n",
    "# fig, ax = plt.subplots(figsize=(15,5))\n",
    "# ax.plot(eel.Date,eel.CFS,label='CFS - Observed')\n",
    "# ax.plot(eel_train.Date[:-1],predict,label='CFS - Prediction')\n",
    "# ax.plot(eel_test.Date,forecast,label='CFS - Forecast')\n",
    "# ax2 = ax.twinx()\n",
    "# ax2.plot(eel.Date,eel.Precip_Shift,'r',label='Shift Precip (mm)')\n",
    "\n",
    "# ax.set_xlabel('Date')\n",
    "# ax.set_ylabel('Discharge (cfs)')\n",
    "# fig.legend()"
   ]
  },
  {
   "attachments": {},
   "cell_type": "markdown",
   "metadata": {},
   "source": [
    "# ARIMA model 1 review\n",
    "\n",
    "The forecast & prediction look too good to be true, but I cannot find an issue with the model."
   ]
  },
  {
   "cell_type": "code",
   "execution_count": 106,
   "metadata": {},
   "outputs": [
    {
     "name": "stderr",
     "output_type": "stream",
     "text": [
      "<ipython-input-106-10dc73099944>:51: SettingWithCopyWarning:\n",
      "\n",
      "\n",
      "A value is trying to be set on a copy of a slice from a DataFrame.\n",
      "Try using .loc[row_indexer,col_indexer] = value instead\n",
      "\n",
      "See the caveats in the documentation: https://pandas.pydata.org/pandas-docs/stable/user_guide/indexing.html#returning-a-view-versus-a-copy\n",
      "\n",
      "<ipython-input-106-10dc73099944>:73: SettingWithCopyWarning:\n",
      "\n",
      "\n",
      "A value is trying to be set on a copy of a slice from a DataFrame.\n",
      "Try using .loc[row_indexer,col_indexer] = value instead\n",
      "\n",
      "See the caveats in the documentation: https://pandas.pydata.org/pandas-docs/stable/user_guide/indexing.html#returning-a-view-versus-a-copy\n",
      "\n",
      "c:\\Users\\Scott\\Anaconda3\\lib\\site-packages\\statsmodels\\tsa\\base\\tsa_model.py:390: ValueWarning:\n",
      "\n",
      "No supported index is available. Prediction results will be given with an integer index beginning at `start`.\n",
      "\n"
     ]
    },
    {
     "data": {
      "application/vnd.plotly.v1+json": {
       "config": {
        "plotlyServerURL": "https://plot.ly"
       },
       "data": [
        {
         "name": "CFS - Observed",
         "type": "scatter",
         "x": [
          "2021-12-04",
          "2021-12-05",
          "2021-12-06",
          "2021-12-07",
          "2021-12-08",
          "2021-12-09",
          "2021-12-10",
          "2021-12-11",
          "2021-12-12",
          "2021-12-13",
          "2021-12-14",
          "2021-12-15",
          "2021-12-16",
          "2021-12-17",
          "2021-12-18",
          "2021-12-19",
          "2021-12-20",
          "2021-12-21",
          "2021-12-22",
          "2021-12-23",
          "2021-12-24",
          "2021-12-25",
          "2021-12-26",
          "2021-12-27",
          "2021-12-28",
          "2021-12-29",
          "2021-12-30",
          "2021-12-31",
          "2022-01-01",
          "2022-01-02",
          "2022-01-03",
          "2022-01-04",
          "2022-01-05",
          "2022-01-06",
          "2022-01-07",
          "2022-01-08",
          "2022-01-09",
          "2022-01-10",
          "2022-01-11",
          "2022-01-12",
          "2022-01-13",
          "2022-01-14",
          "2022-01-15",
          "2022-01-16",
          "2022-01-17",
          "2022-01-18",
          "2022-01-19",
          "2022-01-20",
          "2022-01-21",
          "2022-01-22",
          "2022-01-23",
          "2022-01-24",
          "2022-01-25",
          "2022-01-26",
          "2022-02-14",
          "2022-02-15",
          "2022-02-16",
          "2022-02-17",
          "2022-02-18",
          "2022-02-19",
          "2022-02-20",
          "2022-02-21",
          "2022-02-22",
          "2022-02-23",
          "2022-02-24",
          "2022-02-25",
          "2022-02-26",
          "2022-02-28",
          "2022-03-01",
          "2022-03-02",
          "2022-03-03",
          "2022-03-04",
          "2022-03-05",
          "2022-03-06",
          "2022-03-07",
          "2022-03-08",
          "2022-03-09",
          "2022-03-10",
          "2022-03-11",
          "2022-03-12",
          "2022-03-13",
          "2022-03-14",
          "2022-03-15",
          "2022-03-16",
          "2022-03-17",
          "2022-03-18",
          "2022-03-19",
          "2022-03-20",
          "2022-03-21",
          "2022-03-22",
          "2022-03-23",
          "2022-03-24",
          "2022-03-25",
          "2022-03-26",
          "2022-03-27",
          "2022-03-28",
          "2022-03-29",
          "2022-03-30",
          "2022-03-31",
          "2022-04-01",
          "2022-04-02",
          "2022-04-03",
          "2022-04-04",
          "2022-04-05",
          "2022-04-06",
          "2022-04-07",
          "2022-04-08",
          "2022-04-09",
          "2022-04-10",
          "2022-04-11",
          "2022-04-12",
          "2022-04-13",
          "2022-04-14",
          "2022-04-15",
          "2022-04-16",
          "2022-04-17",
          "2022-04-18",
          "2022-04-19",
          "2022-04-20",
          "2022-04-21",
          "2022-04-22",
          "2022-04-23",
          "2022-04-24",
          "2022-04-25",
          "2022-11-08",
          "2022-11-09",
          "2022-11-10",
          "2022-11-11",
          "2022-11-12",
          "2022-11-13",
          "2022-11-14",
          "2022-11-15",
          "2022-11-16",
          "2022-11-17",
          "2022-11-18",
          "2022-11-19",
          "2022-11-20",
          "2022-11-21",
          "2022-11-22",
          "2022-11-23",
          "2022-11-24",
          "2022-11-25",
          "2022-11-26",
          "2022-11-27",
          "2022-11-28",
          "2022-11-29",
          "2022-11-30",
          "2022-12-01",
          "2022-12-02",
          "2022-12-03",
          "2022-12-04",
          "2022-12-05",
          "2022-12-06",
          "2022-12-07",
          "2022-12-13",
          "2022-12-14",
          "2022-12-15",
          "2022-12-16",
          "2022-12-17",
          "2022-12-18",
          "2022-12-19",
          "2022-12-21",
          "2022-12-22",
          "2022-12-23",
          "2022-12-24",
          "2022-12-25",
          "2022-12-26",
          "2022-12-27",
          "2022-12-28",
          "2022-12-29",
          "2022-12-30",
          "2022-12-31",
          "2023-01-01",
          "2023-01-02",
          "2023-01-03",
          "2023-01-04",
          "2023-01-05",
          "2023-01-06",
          "2023-01-07",
          "2023-01-08",
          "2023-01-09",
          "2023-01-10",
          "2023-01-11",
          "2023-01-12",
          "2023-01-13",
          "2023-01-14",
          "2023-01-15",
          "2023-01-16",
          "2023-01-17",
          "2023-01-18",
          "2023-01-19",
          "2023-01-20",
          "2023-01-21",
          "2023-01-22",
          "2023-01-23",
          "2023-01-24",
          "2023-01-25",
          "2023-01-26",
          "2023-01-27",
          "2023-01-28",
          "2023-01-29",
          "2023-01-30",
          "2023-01-31",
          "2023-02-01",
          "2023-02-02",
          "2023-02-03",
          "2023-02-04",
          "2023-02-05",
          "2023-02-06",
          "2023-02-07",
          "2023-02-08",
          "2023-02-09",
          "2023-02-10",
          "2023-02-11",
          "2023-02-12",
          "2023-02-13",
          "2023-02-14",
          "2023-02-15",
          "2023-02-16",
          "2023-02-17",
          "2023-02-18",
          "2023-02-19",
          "2023-02-20"
         ],
         "xaxis": "x",
         "y": [
          911.5,
          892.8854166666666,
          880.3958333333334,
          904.6666666666666,
          896.1875,
          885.9895833333334,
          848,
          1848.9107142857142,
          1925.53125,
          8941.041666666666,
          24989.0625,
          14913.020833333334,
          30604.326923076922,
          23531.248684210525,
          14819.444444444445,
          10153.194444444445,
          7753.611111111111,
          6486.354166666667,
          8162.881944444444,
          26111.458333333332,
          45585.9375,
          37696.153846153844,
          40573.4375,
          32631.25,
          28041.666666666668,
          22196.527777777777,
          20008.680555555555,
          16022.569444444445,
          13640.756578947368,
          10690.33088235294,
          10146.927083333334,
          32802.083333333336,
          36965.625,
          28242.85714285714,
          24636.458333333332,
          23604.878846153846,
          18740.96153846154,
          15887.5,
          12893.75,
          11017.708333333334,
          9671.71875,
          8683.072916666666,
          7843.645833333333,
          7130.511363636364,
          5705.491071428572,
          5945.3125,
          5461.041666666667,
          5045.416666666667,
          4738.333333333333,
          4634.375,
          4399.583333333333,
          4176.041666666667,
          4006.3541666666665,
          3883.59375,
          2398.125,
          2308.9583333333335,
          2224.4791666666665,
          2099.0625,
          1721.705357142857,
          1879.7232142857142,
          1788.8541666666667,
          1759.375,
          1759.9479166666667,
          1681.875,
          1613.9423076923076,
          1526.5,
          1485.46875,
          1353.2142857142858,
          1336.0511363636363,
          1306.6193181818182,
          1326.8125,
          1326.275,
          1295.8838541666667,
          1372.4375,
          1238.3322368421052,
          1233.025,
          1173.7083333333333,
          1133.6666666666667,
          1055.3146484375,
          1097.5,
          1095.0892857142858,
          1097.890625,
          1203.9285714285713,
          1344.75,
          1801.9270833333333,
          1633.5197368421052,
          1446.953125,
          1247.7350000000001,
          1315.3846153846155,
          1245.625,
          1163.4375,
          1165.985576923077,
          1322.9375,
          1266.6666666666667,
          1174.23125,
          1141.1805555555557,
          1109.375,
          1100.9375,
          1054.1666666666667,
          993.9166666666666,
          944.8645833333334,
          902.25,
          881.59375,
          849.1666666666666,
          818.5833333333334,
          810.5,
          772.9895833333334,
          733.7395833333334,
          862.1785714285714,
          799.4375,
          766.9535714285714,
          957.9270833333334,
          1733.6458333333333,
          6064.791666666667,
          10530.208333333334,
          14678.660714285714,
          8551.041666666666,
          8595.104166666666,
          11817.708333333334,
          21059.375,
          23503.125,
          15237.5,
          10709.583333333334,
          8672.34375,
          645.3125,
          795.3333333333334,
          829.0625,
          716.8392857142857,
          585.125,
          495.2708333333333,
          441.34375,
          424.6458333333333,
          400.6298076923077,
          372.40277777777777,
          354.3776041666667,
          335.9583333333333,
          337.055,
          305.1796875,
          292.484375,
          283.0364583333333,
          272.0598958333333,
          285.99174999999997,
          259.0416666666667,
          263.1770833333333,
          267.79761904761904,
          272.2631578947368,
          276.38194444444446,
          536.8020833333334,
          917.3088235294117,
          1074,
          1161.0416666666667,
          2443.6458333333335,
          3744.375,
          3216,
          4288.75,
          3395.4166666666665,
          2473.8541666666665,
          2003.5416666666667,
          1567.8214285714287,
          1525.2083333333333,
          8120.625,
          1141.875,
          1105.9375,
          1204.375,
          1707.2767857142858,
          2419.7916666666665,
          2469.765625,
          37472.958333333336,
          43127.30263157895,
          17682.03125,
          32391.875,
          111410.85294117648,
          46238.92939189189,
          25163.75,
          19952.241185897437,
          15276.5625,
          46322.97297297297,
          61818.055555555555,
          47810.92105263158,
          92821.21710526316,
          82355.41666666667,
          74494.01041666667,
          79075.93137254902,
          83607.29166666667,
          66573.88522727272,
          87245.37037037036,
          95385.48295454546,
          57538.60491071428,
          37045.127118644064,
          27237.291666666668,
          25977.490520833333,
          21555.82341101695,
          18216.29464285714,
          15552.18112244898,
          13173.149387254902,
          12233.629385964912,
          10634.155092592593,
          9464.118852459016,
          8459.579319852943,
          8239.850746268658,
          7533.731343283582,
          7074.166666666667,
          6381.96337890625,
          5937.551229508197,
          5620.09765625,
          5312.559742647059,
          5466.6845703125,
          8955.138888888889,
          19156.759533898305,
          13581.488636363636,
          10548.91826923077,
          9110.079787234043,
          8079.578125,
          7503.493243243243,
          7013.8671875,
          6498.020833333333,
          6042.604166666667,
          5643.28125,
          5197.708333333333,
          4911.761363636364,
          4627.03125,
          4387.8125,
          4165
         ],
         "yaxis": "y"
        },
        {
         "name": "CFS - Forecast",
         "type": "scatter",
         "x": [
          "2021-12-04",
          "2021-12-05",
          "2021-12-06",
          "2021-12-07",
          "2021-12-08",
          "2021-12-09",
          "2021-12-10",
          "2021-12-11",
          "2021-12-12",
          "2021-12-13",
          "2021-12-14",
          "2021-12-15",
          "2021-12-16",
          "2021-12-17",
          "2021-12-18",
          "2021-12-19",
          "2021-12-20",
          "2021-12-21",
          "2021-12-22",
          "2021-12-23",
          "2021-12-24",
          "2021-12-25",
          "2021-12-26",
          "2021-12-27",
          "2021-12-28",
          "2021-12-29",
          "2021-12-30",
          "2021-12-31",
          "2022-01-01",
          "2022-01-02",
          "2022-01-03",
          "2022-01-04",
          "2022-01-05",
          "2022-01-06",
          "2022-01-07",
          "2022-01-08",
          "2022-01-09",
          "2022-01-10",
          "2022-01-11",
          "2022-01-12",
          "2022-01-13",
          "2022-01-14",
          "2022-01-15",
          "2022-01-16",
          "2022-01-17",
          "2022-01-18",
          "2022-01-19",
          "2022-01-20",
          "2022-01-21",
          "2022-01-22",
          "2022-01-23",
          "2022-01-24",
          "2022-01-25",
          "2022-01-26",
          "2022-02-14",
          "2022-02-15",
          "2022-02-16",
          "2022-02-17",
          "2022-02-18",
          "2022-02-19",
          "2022-02-20",
          "2022-02-21",
          "2022-02-22",
          "2022-02-23",
          "2022-02-24",
          "2022-02-25",
          "2022-02-26",
          "2022-02-28",
          "2022-03-01",
          "2022-03-02",
          "2022-03-03",
          "2022-03-04",
          "2022-03-05",
          "2022-03-06",
          "2022-03-07",
          "2022-03-08",
          "2022-03-09",
          "2022-03-10",
          "2022-03-11",
          "2022-03-12",
          "2022-03-13",
          "2022-03-14",
          "2022-03-15",
          "2022-03-16",
          "2022-03-17",
          "2022-03-18",
          "2022-03-19",
          "2022-03-20",
          "2022-03-21",
          "2022-03-22",
          "2022-03-23",
          "2022-03-24",
          "2022-03-25",
          "2022-03-26",
          "2022-03-27",
          "2022-03-28",
          "2022-03-29",
          "2022-03-30",
          "2022-03-31",
          "2022-04-01",
          "2022-04-02",
          "2022-04-03",
          "2022-04-04",
          "2022-04-05",
          "2022-04-06",
          "2022-04-07",
          "2022-04-08",
          "2022-04-09",
          "2022-04-10",
          "2022-04-11",
          "2022-04-12",
          "2022-04-13",
          "2022-04-14",
          "2022-04-15",
          "2022-04-16",
          "2022-04-17",
          "2022-04-18",
          "2022-04-19",
          "2022-04-20",
          "2022-04-21",
          "2022-04-22",
          "2022-04-23",
          "2022-04-24",
          "2022-04-25",
          "2022-11-08",
          "2022-11-09",
          "2022-11-10",
          "2022-11-11",
          "2022-11-12",
          "2022-11-13",
          "2022-11-14",
          "2022-11-15",
          "2022-11-16",
          "2022-11-17",
          "2022-11-18",
          "2022-11-19",
          "2022-11-20",
          "2022-11-21",
          "2022-11-22",
          "2022-11-23",
          "2022-11-24",
          "2022-11-25",
          "2022-11-26",
          "2022-11-27",
          "2022-11-28",
          "2022-11-29",
          "2022-11-30",
          "2022-12-01",
          "2022-12-02",
          "2022-12-03",
          "2022-12-04",
          "2022-12-05",
          "2022-12-06",
          "2022-12-07",
          "2022-12-13",
          "2022-12-14",
          "2022-12-15",
          "2022-12-16",
          "2022-12-17",
          "2022-12-18",
          "2022-12-19",
          "2022-12-21",
          "2022-12-22",
          "2022-12-23",
          "2022-12-24",
          "2022-12-25",
          "2022-12-26",
          "2022-12-27",
          "2022-12-28",
          "2022-12-29",
          "2022-12-30",
          "2022-12-31",
          "2023-01-01",
          "2023-01-02",
          "2023-01-03",
          "2023-01-04",
          "2023-01-05",
          "2023-01-06",
          "2023-01-07",
          "2023-01-08",
          "2023-01-09",
          "2023-01-10",
          "2023-01-11",
          "2023-01-12",
          "2023-01-13",
          "2023-01-14",
          "2023-01-15",
          "2023-01-16",
          "2023-01-17",
          "2023-01-18",
          "2023-01-19",
          "2023-01-20",
          "2023-01-21",
          "2023-01-22",
          "2023-01-23",
          "2023-01-24",
          "2023-01-25",
          "2023-01-26",
          "2023-01-27",
          "2023-01-28",
          "2023-01-29",
          "2023-01-30",
          "2023-01-31",
          "2023-02-01",
          "2023-02-02",
          "2023-02-03",
          "2023-02-04",
          "2023-02-05",
          "2023-02-06",
          "2023-02-07",
          "2023-02-08",
          "2023-02-09",
          "2023-02-10",
          "2023-02-11",
          "2023-02-12",
          "2023-02-13",
          "2023-02-14",
          "2023-02-15",
          "2023-02-16",
          "2023-02-17",
          "2023-02-18",
          "2023-02-19",
          "2023-02-20"
         ],
         "xaxis": "x2",
         "y": [
          339.11175899749605,
          330.1310062731702,
          323.12028996067215,
          311.5537061920345,
          264.09919784475346,
          320.4376981342126,
          304.55369092691444,
          611.9900411386836,
          917.571410874453,
          3423.5728132765416,
          10884.0724362585,
          15158.383547026464,
          22047.167315854655,
          21667.28096437701,
          21637.183185862978,
          15060.313402434058,
          9985.616176046657,
          7304.368911919551,
          6622.71754434936,
          12535.674713024371,
          25072.796604212243,
          34616.67278580518,
          39267.534292811906,
          35082.73852398858,
          31957.0723788729,
          26110.256957412097,
          22039.978908597528,
          18187.891813508133,
          15426.656841579541,
          12437.880847006725,
          10549.05126794488,
          16640.80434660405,
          25104.66779613532,
          30977.54911878304,
          28350.499748932285,
          24032.757664037108,
          21003.683653547752,
          18189.68096257177,
          14744.56849911079,
          12260.472167377622,
          10261.23700158915,
          8903.574757074774,
          7886.019716522996,
          7068.669335928509,
          6110.964086244356,
          5500.386814660283,
          4963.420922174919,
          4751.115516151036,
          4362.904429350954,
          4097.016521795466,
          3889.291594017741,
          3708.436890768683,
          3506.44115051515,
          3340.4789844269308,
          2768.6323606672195,
          2222.6843448385052,
          1689.0490565837124,
          1592.8590134143817,
          1403.9757895696011,
          1293.088968445564,
          1193.3139950710374,
          1205.430006181096,
          1166.9056473979128,
          1132.497018232151,
          1085.7202509968447,
          1010.6343904093187,
          947.4625595504638,
          863.6023641414101,
          802.3466586794025,
          744.8217782032441,
          736.3299448653815,
          733.1855620729973,
          725.3828596150204,
          744.4073835067793,
          716.1215964736737,
          695.9037627570885,
          631.9847922386457,
          598.3203050043119,
          541.1617967044288,
          516.6502552266572,
          504.24228050843226,
          517.9363579120627,
          552.1678943974609,
          593.3205506944639,
          858.9137157715702,
          997.0868158636606,
          1029.9592856844854,
          851.7097210619252,
          749.3851866696959,
          684.630290837051,
          657.5169611348429,
          609.464463884028,
          634.331147980258,
          667.5336324040848,
          670.1857591308706,
          611.7257103703719,
          561.1346392503128,
          537.5605402691899,
          509.5735150535461,
          472.4376586101861,
          422.23858453125627,
          373.3763208746378,
          337.2489354516183,
          306.46879171784474,
          279.55836236444657,
          256.6918682985922,
          232.19037802700348,
          204.90135324072014,
          221.52317649386475,
          230.02984732656864,
          240.71274788650715,
          271.50916500171945,
          571.9866234342596,
          2275.9758400196743,
          5354.790959489592,
          9518.407394938482,
          10318.081358841502,
          9695.677167982341,
          8775.484455658972,
          12798.647250424974,
          17593.642167967664,
          18693.579164571325,
          15364.686684871454,
          10594.534998610572,
          5901.124271555313,
          2712.3188028270906,
          189.61681903875262,
          212.62259410456863,
          145.0114805149799,
          37.651196874505445,
          -50.95880094640131,
          -102.57509509710508,
          -133.0153018833118,
          -155.1893795232404,
          -177.79035422576607,
          -198.5911965594388,
          -209.9604062409747,
          -225.78435517475208,
          -239.76725817604773,
          -257.1417061755828,
          -267.79430952831314,
          -269.88258832967495,
          -277.6002394770296,
          -280.4572948344885,
          -286.30922960310033,
          -282.05668770302594,
          -277.8094946904524,
          -192.96026169963335,
          16.184307461185767,
          272.7290604694241,
          473.508604774839,
          964.4375004537887,
          1823.3331711858284,
          2484.287088158062,
          3077.743805210779,
          2965.505336169588,
          2726.802590936494,
          1991.7913868094417,
          1403.9662169922844,
          1098.8451013032939,
          3066.3352075644425,
          2929.334395519777,
          2794.4807125673024,
          569.9477601915235,
          751.8027977702022,
          1174.3890097154353,
          1581.3874760721867,
          13085.011140175842,
          25947.91505417327,
          31063.273940306444,
          29436.697155716658,
          51399.32253347325,
          60584.32321075895,
          58259.47922067889,
          28842.859574460057,
          18884.167301253863,
          25689.79010986329,
          39155.45194154258,
          49619.75740834,
          64575.38745350801,
          71180.99548481219,
          79763.30693415015,
          75342.29250404089,
          75744.94382372357,
          73197.52586301534,
          75825.13276749066,
          79613.45369852577,
          76707.35880633182,
          60561.02295514874,
          38641.93426334403,
          28490.661684418807,
          23508.70375823441,
          20607.202924292877,
          17254.02102725056,
          14557.82950801931,
          12633.573443390287,
          11051.746446960524,
          9858.779066368237,
          8644.898894890623,
          7874.798202114312,
          7253.911070357168,
          6808.308887143545,
          6210.740599343023,
          5697.347465633243,
          5229.66274794659,
          4885.7012618451545,
          4734.252369807427,
          5805.926564212913,
          10135.623824627173,
          12869.79356647515,
          13382.414531649565,
          10151.014544890704,
          8381.387762522932,
          7401.8615273088935,
          6727.638645936231,
          6218.9487762261,
          5749.070462022534,
          5308.2371228529555,
          4890.006433586933,
          4526.283740032202,
          4199.41851496777,
          3938.9247547303803,
          3698.7374768022883
         ],
         "yaxis": "y2"
        }
       ],
       "layout": {
        "template": {
         "data": {
          "bar": [
           {
            "error_x": {
             "color": "#2a3f5f"
            },
            "error_y": {
             "color": "#2a3f5f"
            },
            "marker": {
             "line": {
              "color": "#E5ECF6",
              "width": 0.5
             },
             "pattern": {
              "fillmode": "overlay",
              "size": 10,
              "solidity": 0.2
             }
            },
            "type": "bar"
           }
          ],
          "barpolar": [
           {
            "marker": {
             "line": {
              "color": "#E5ECF6",
              "width": 0.5
             },
             "pattern": {
              "fillmode": "overlay",
              "size": 10,
              "solidity": 0.2
             }
            },
            "type": "barpolar"
           }
          ],
          "carpet": [
           {
            "aaxis": {
             "endlinecolor": "#2a3f5f",
             "gridcolor": "white",
             "linecolor": "white",
             "minorgridcolor": "white",
             "startlinecolor": "#2a3f5f"
            },
            "baxis": {
             "endlinecolor": "#2a3f5f",
             "gridcolor": "white",
             "linecolor": "white",
             "minorgridcolor": "white",
             "startlinecolor": "#2a3f5f"
            },
            "type": "carpet"
           }
          ],
          "choropleth": [
           {
            "colorbar": {
             "outlinewidth": 0,
             "ticks": ""
            },
            "type": "choropleth"
           }
          ],
          "contour": [
           {
            "colorbar": {
             "outlinewidth": 0,
             "ticks": ""
            },
            "colorscale": [
             [
              0,
              "#0d0887"
             ],
             [
              0.1111111111111111,
              "#46039f"
             ],
             [
              0.2222222222222222,
              "#7201a8"
             ],
             [
              0.3333333333333333,
              "#9c179e"
             ],
             [
              0.4444444444444444,
              "#bd3786"
             ],
             [
              0.5555555555555556,
              "#d8576b"
             ],
             [
              0.6666666666666666,
              "#ed7953"
             ],
             [
              0.7777777777777778,
              "#fb9f3a"
             ],
             [
              0.8888888888888888,
              "#fdca26"
             ],
             [
              1,
              "#f0f921"
             ]
            ],
            "type": "contour"
           }
          ],
          "contourcarpet": [
           {
            "colorbar": {
             "outlinewidth": 0,
             "ticks": ""
            },
            "type": "contourcarpet"
           }
          ],
          "heatmap": [
           {
            "colorbar": {
             "outlinewidth": 0,
             "ticks": ""
            },
            "colorscale": [
             [
              0,
              "#0d0887"
             ],
             [
              0.1111111111111111,
              "#46039f"
             ],
             [
              0.2222222222222222,
              "#7201a8"
             ],
             [
              0.3333333333333333,
              "#9c179e"
             ],
             [
              0.4444444444444444,
              "#bd3786"
             ],
             [
              0.5555555555555556,
              "#d8576b"
             ],
             [
              0.6666666666666666,
              "#ed7953"
             ],
             [
              0.7777777777777778,
              "#fb9f3a"
             ],
             [
              0.8888888888888888,
              "#fdca26"
             ],
             [
              1,
              "#f0f921"
             ]
            ],
            "type": "heatmap"
           }
          ],
          "heatmapgl": [
           {
            "colorbar": {
             "outlinewidth": 0,
             "ticks": ""
            },
            "colorscale": [
             [
              0,
              "#0d0887"
             ],
             [
              0.1111111111111111,
              "#46039f"
             ],
             [
              0.2222222222222222,
              "#7201a8"
             ],
             [
              0.3333333333333333,
              "#9c179e"
             ],
             [
              0.4444444444444444,
              "#bd3786"
             ],
             [
              0.5555555555555556,
              "#d8576b"
             ],
             [
              0.6666666666666666,
              "#ed7953"
             ],
             [
              0.7777777777777778,
              "#fb9f3a"
             ],
             [
              0.8888888888888888,
              "#fdca26"
             ],
             [
              1,
              "#f0f921"
             ]
            ],
            "type": "heatmapgl"
           }
          ],
          "histogram": [
           {
            "marker": {
             "pattern": {
              "fillmode": "overlay",
              "size": 10,
              "solidity": 0.2
             }
            },
            "type": "histogram"
           }
          ],
          "histogram2d": [
           {
            "colorbar": {
             "outlinewidth": 0,
             "ticks": ""
            },
            "colorscale": [
             [
              0,
              "#0d0887"
             ],
             [
              0.1111111111111111,
              "#46039f"
             ],
             [
              0.2222222222222222,
              "#7201a8"
             ],
             [
              0.3333333333333333,
              "#9c179e"
             ],
             [
              0.4444444444444444,
              "#bd3786"
             ],
             [
              0.5555555555555556,
              "#d8576b"
             ],
             [
              0.6666666666666666,
              "#ed7953"
             ],
             [
              0.7777777777777778,
              "#fb9f3a"
             ],
             [
              0.8888888888888888,
              "#fdca26"
             ],
             [
              1,
              "#f0f921"
             ]
            ],
            "type": "histogram2d"
           }
          ],
          "histogram2dcontour": [
           {
            "colorbar": {
             "outlinewidth": 0,
             "ticks": ""
            },
            "colorscale": [
             [
              0,
              "#0d0887"
             ],
             [
              0.1111111111111111,
              "#46039f"
             ],
             [
              0.2222222222222222,
              "#7201a8"
             ],
             [
              0.3333333333333333,
              "#9c179e"
             ],
             [
              0.4444444444444444,
              "#bd3786"
             ],
             [
              0.5555555555555556,
              "#d8576b"
             ],
             [
              0.6666666666666666,
              "#ed7953"
             ],
             [
              0.7777777777777778,
              "#fb9f3a"
             ],
             [
              0.8888888888888888,
              "#fdca26"
             ],
             [
              1,
              "#f0f921"
             ]
            ],
            "type": "histogram2dcontour"
           }
          ],
          "mesh3d": [
           {
            "colorbar": {
             "outlinewidth": 0,
             "ticks": ""
            },
            "type": "mesh3d"
           }
          ],
          "parcoords": [
           {
            "line": {
             "colorbar": {
              "outlinewidth": 0,
              "ticks": ""
             }
            },
            "type": "parcoords"
           }
          ],
          "pie": [
           {
            "automargin": true,
            "type": "pie"
           }
          ],
          "scatter": [
           {
            "marker": {
             "colorbar": {
              "outlinewidth": 0,
              "ticks": ""
             }
            },
            "type": "scatter"
           }
          ],
          "scatter3d": [
           {
            "line": {
             "colorbar": {
              "outlinewidth": 0,
              "ticks": ""
             }
            },
            "marker": {
             "colorbar": {
              "outlinewidth": 0,
              "ticks": ""
             }
            },
            "type": "scatter3d"
           }
          ],
          "scattercarpet": [
           {
            "marker": {
             "colorbar": {
              "outlinewidth": 0,
              "ticks": ""
             }
            },
            "type": "scattercarpet"
           }
          ],
          "scattergeo": [
           {
            "marker": {
             "colorbar": {
              "outlinewidth": 0,
              "ticks": ""
             }
            },
            "type": "scattergeo"
           }
          ],
          "scattergl": [
           {
            "marker": {
             "colorbar": {
              "outlinewidth": 0,
              "ticks": ""
             }
            },
            "type": "scattergl"
           }
          ],
          "scattermapbox": [
           {
            "marker": {
             "colorbar": {
              "outlinewidth": 0,
              "ticks": ""
             }
            },
            "type": "scattermapbox"
           }
          ],
          "scatterpolar": [
           {
            "marker": {
             "colorbar": {
              "outlinewidth": 0,
              "ticks": ""
             }
            },
            "type": "scatterpolar"
           }
          ],
          "scatterpolargl": [
           {
            "marker": {
             "colorbar": {
              "outlinewidth": 0,
              "ticks": ""
             }
            },
            "type": "scatterpolargl"
           }
          ],
          "scatterternary": [
           {
            "marker": {
             "colorbar": {
              "outlinewidth": 0,
              "ticks": ""
             }
            },
            "type": "scatterternary"
           }
          ],
          "surface": [
           {
            "colorbar": {
             "outlinewidth": 0,
             "ticks": ""
            },
            "colorscale": [
             [
              0,
              "#0d0887"
             ],
             [
              0.1111111111111111,
              "#46039f"
             ],
             [
              0.2222222222222222,
              "#7201a8"
             ],
             [
              0.3333333333333333,
              "#9c179e"
             ],
             [
              0.4444444444444444,
              "#bd3786"
             ],
             [
              0.5555555555555556,
              "#d8576b"
             ],
             [
              0.6666666666666666,
              "#ed7953"
             ],
             [
              0.7777777777777778,
              "#fb9f3a"
             ],
             [
              0.8888888888888888,
              "#fdca26"
             ],
             [
              1,
              "#f0f921"
             ]
            ],
            "type": "surface"
           }
          ],
          "table": [
           {
            "cells": {
             "fill": {
              "color": "#EBF0F8"
             },
             "line": {
              "color": "white"
             }
            },
            "header": {
             "fill": {
              "color": "#C8D4E3"
             },
             "line": {
              "color": "white"
             }
            },
            "type": "table"
           }
          ]
         },
         "layout": {
          "annotationdefaults": {
           "arrowcolor": "#2a3f5f",
           "arrowhead": 0,
           "arrowwidth": 1
          },
          "autotypenumbers": "strict",
          "coloraxis": {
           "colorbar": {
            "outlinewidth": 0,
            "ticks": ""
           }
          },
          "colorscale": {
           "diverging": [
            [
             0,
             "#8e0152"
            ],
            [
             0.1,
             "#c51b7d"
            ],
            [
             0.2,
             "#de77ae"
            ],
            [
             0.3,
             "#f1b6da"
            ],
            [
             0.4,
             "#fde0ef"
            ],
            [
             0.5,
             "#f7f7f7"
            ],
            [
             0.6,
             "#e6f5d0"
            ],
            [
             0.7,
             "#b8e186"
            ],
            [
             0.8,
             "#7fbc41"
            ],
            [
             0.9,
             "#4d9221"
            ],
            [
             1,
             "#276419"
            ]
           ],
           "sequential": [
            [
             0,
             "#0d0887"
            ],
            [
             0.1111111111111111,
             "#46039f"
            ],
            [
             0.2222222222222222,
             "#7201a8"
            ],
            [
             0.3333333333333333,
             "#9c179e"
            ],
            [
             0.4444444444444444,
             "#bd3786"
            ],
            [
             0.5555555555555556,
             "#d8576b"
            ],
            [
             0.6666666666666666,
             "#ed7953"
            ],
            [
             0.7777777777777778,
             "#fb9f3a"
            ],
            [
             0.8888888888888888,
             "#fdca26"
            ],
            [
             1,
             "#f0f921"
            ]
           ],
           "sequentialminus": [
            [
             0,
             "#0d0887"
            ],
            [
             0.1111111111111111,
             "#46039f"
            ],
            [
             0.2222222222222222,
             "#7201a8"
            ],
            [
             0.3333333333333333,
             "#9c179e"
            ],
            [
             0.4444444444444444,
             "#bd3786"
            ],
            [
             0.5555555555555556,
             "#d8576b"
            ],
            [
             0.6666666666666666,
             "#ed7953"
            ],
            [
             0.7777777777777778,
             "#fb9f3a"
            ],
            [
             0.8888888888888888,
             "#fdca26"
            ],
            [
             1,
             "#f0f921"
            ]
           ]
          },
          "colorway": [
           "#636efa",
           "#EF553B",
           "#00cc96",
           "#ab63fa",
           "#FFA15A",
           "#19d3f3",
           "#FF6692",
           "#B6E880",
           "#FF97FF",
           "#FECB52"
          ],
          "font": {
           "color": "#2a3f5f"
          },
          "geo": {
           "bgcolor": "white",
           "lakecolor": "white",
           "landcolor": "#E5ECF6",
           "showlakes": true,
           "showland": true,
           "subunitcolor": "white"
          },
          "hoverlabel": {
           "align": "left"
          },
          "hovermode": "closest",
          "mapbox": {
           "style": "light"
          },
          "paper_bgcolor": "white",
          "plot_bgcolor": "#E5ECF6",
          "polar": {
           "angularaxis": {
            "gridcolor": "white",
            "linecolor": "white",
            "ticks": ""
           },
           "bgcolor": "#E5ECF6",
           "radialaxis": {
            "gridcolor": "white",
            "linecolor": "white",
            "ticks": ""
           }
          },
          "scene": {
           "xaxis": {
            "backgroundcolor": "#E5ECF6",
            "gridcolor": "white",
            "gridwidth": 2,
            "linecolor": "white",
            "showbackground": true,
            "ticks": "",
            "zerolinecolor": "white"
           },
           "yaxis": {
            "backgroundcolor": "#E5ECF6",
            "gridcolor": "white",
            "gridwidth": 2,
            "linecolor": "white",
            "showbackground": true,
            "ticks": "",
            "zerolinecolor": "white"
           },
           "zaxis": {
            "backgroundcolor": "#E5ECF6",
            "gridcolor": "white",
            "gridwidth": 2,
            "linecolor": "white",
            "showbackground": true,
            "ticks": "",
            "zerolinecolor": "white"
           }
          },
          "shapedefaults": {
           "line": {
            "color": "#2a3f5f"
           }
          },
          "ternary": {
           "aaxis": {
            "gridcolor": "white",
            "linecolor": "white",
            "ticks": ""
           },
           "baxis": {
            "gridcolor": "white",
            "linecolor": "white",
            "ticks": ""
           },
           "bgcolor": "#E5ECF6",
           "caxis": {
            "gridcolor": "white",
            "linecolor": "white",
            "ticks": ""
           }
          },
          "title": {
           "x": 0.05
          },
          "xaxis": {
           "automargin": true,
           "gridcolor": "white",
           "linecolor": "white",
           "ticks": "",
           "title": {
            "standoff": 15
           },
           "zerolinecolor": "white",
           "zerolinewidth": 2
          },
          "yaxis": {
           "automargin": true,
           "gridcolor": "white",
           "linecolor": "white",
           "ticks": "",
           "title": {
            "standoff": 15
           },
           "zerolinecolor": "white",
           "zerolinewidth": 2
          }
         }
        },
        "title": {
         "text": "Observed, Predicted, & Forecasted "
        },
        "xaxis": {
         "anchor": "y",
         "domain": [
          0,
          1
         ],
         "title": {
          "text": "Date"
         }
        },
        "xaxis2": {
         "anchor": "y2",
         "domain": [
          0,
          1
         ],
         "title": {
          "text": "Date"
         }
        },
        "yaxis": {
         "anchor": "x",
         "domain": [
          0.575,
          1
         ],
         "title": {
          "text": "Discharge (cfs)"
         }
        },
        "yaxis2": {
         "anchor": "x2",
         "domain": [
          0,
          0.425
         ],
         "title": {
          "text": "Discharge (cfs)"
         }
        }
       }
      }
     },
     "metadata": {},
     "output_type": "display_data"
    }
   ],
   "source": [
    "# Load data tables\n",
    "Refer = pd.read_csv('C:/Users/Scott/Desktop/Projects/River_Data/RiverReferenceTable.csv')\n",
    "Discharge = pd.read_csv('C:/Users/Scott/Desktop/Projects/River_Data/Ingestion/CurrentWater.csv')\n",
    "Precip = pd.read_csv('C:/Users/Scott/Desktop/Projects/River_Data/Ingestion/CurrentPrecip.csv')\n",
    "forecast_precip = pd.read_csv('C:/Users/Scott/Desktop/Projects/River_Data/Ingestion/NewWeatherForecast.csv')\n",
    "# Standardize Date and River Name\n",
    "Discharge['Date'] = pd.to_datetime(Discharge.DateTime).dt.date\n",
    "Discharge['CFS'] = Discharge['Value']\n",
    "\n",
    "####Discharge\n",
    "#Join river data with reference data\n",
    "Discharge = Discharge.set_index('Name').join(Refer.set_index('USGS Name')).reset_index()[[\n",
    "    'Date','CFS','Name','RiverName','FishType']]\n",
    "\n",
    "# Create Avg Daily Discharge\n",
    "Avg_Discharge = Discharge.groupby(['Date','Name','RiverName','FishType']).mean().reset_index()\n",
    "Avg_Discharge['Date_Name'] = Avg_Discharge.Date.astype('str')+'_'+Avg_Discharge.Name\n",
    "# Remove incorrect data\n",
    "Avg_Discharge = Avg_Discharge.loc[Avg_Discharge.CFS>0]\n",
    "\n",
    "####Precipitiation\n",
    "# Standardize Date\n",
    "Precip['Date'] = pd.to_datetime(Precip.Date).dt.date\n",
    "\n",
    "#Join river data with reference data\n",
    "Precip = Precip.set_index('Name').join(Refer.set_index('Name')).reset_index()[[\n",
    "    'Date','Precip','Name','RiverName','FishType']]\n",
    "\n",
    "# Create Primary Key\n",
    "Precip['Date_Name'] = Precip.Date.astype('str')+'_'+Precip.Name\n",
    "\n",
    "# Create Avg Daily Precip\n",
    "Precip = Precip[['Date_Name','Date','Name','Precip']].groupby(['Date','Name','Date_Name']).mean().reset_index()\n",
    "\n",
    "#Join river data with precip data\n",
    "Rivers_Flow_Rain = Avg_Discharge.set_index('Date_Name').join(Precip[['Date_Name','Precip']].set_index('Date_Name'))\n",
    "\n",
    "#Fill precip nulls with 0\n",
    "Rivers_Flow_Rain['Precip'] = Rivers_Flow_Rain.Precip.fillna(0)\n",
    "\n",
    "# Rename completed dataframe\n",
    "full = Rivers_Flow_Rain.loc[Rivers_Flow_Rain.Precip.isnull()==False]\n",
    "\n",
    "Rivers = []\n",
    "for river in full.Name.unique():\n",
    "    df = full.loc[full.Name == river]\n",
    "    df.reset_index(inplace=True)\n",
    "    # df = df.drop(columns='index')\n",
    "\n",
    "    # Create column for slope of discharge\n",
    "    df['CFS_Slope'] = df.CFS.diff()\n",
    "\n",
    "    # Retrieve values of Slope\n",
    "    SlopeValues = df.CFS_Slope.values\n",
    "\n",
    "    # Define the threshold for what is a good day for fishing\n",
    "    #       - slope between day CFS values must be at least 1 STD from the mean \n",
    "    border = df.CFS_Slope.mean()+(df.CFS_Slope.std()/2)\n",
    "\n",
    "    # Define troughs that are below the threshold\n",
    "    peaks, _ = find_peaks(-SlopeValues, height=border)\n",
    "\n",
    "    # Logic to build the best day flag\n",
    "    #       - if the value is a trough point or has a negative low and is above 1 STD from the mean then also consider a good day \n",
    "    bestdays = []\n",
    "    for i in range(len(df.CFS)):\n",
    "        if i in peaks:\n",
    "            x = 1\n",
    "        elif (df.CFS_Slope[i]<0) & (df.CFS[i]>=border):\n",
    "            x = 1\n",
    "        else: x = 0\n",
    "        bestdays.append(x)\n",
    "    df['BestDays'] = bestdays\n",
    "    Rivers.append(df)\n",
    "Rivers_Flow = pd.concat(Rivers)\n",
    "\n",
    "# Reduce data to Eel River only\n",
    "new_river = Rivers_Flow.loc[Rivers_Flow['Name']=='Eel River Scotia']\n",
    "new_river.reset_index(inplace=True)\n",
    "new_river = new_river .drop(columns='index')\n",
    "new_river['Precip_Shift'] = new_river.Precip.shift(1)\n",
    "\n",
    "new_river['CFS_Rolling'] = new_river.CFS.rolling(window=3,min_periods=1).mean()\n",
    "new_river['CFS_Slope_Rolling'] = new_river.CFS.rolling(window=3,min_periods=1).mean()\n",
    "new_river['CFS_Rolling30'] = new_river.CFS.rolling(window=30,min_periods=1).mean()\n",
    "new_river['new_variable'] = np.abs(new_river.CFS) - eel_train.CFS_Rolling30\n",
    "\n",
    "# model = SARIMAX(new_river.CFS[1:],exog=new_river[['Precip_Shift','CFS_Rolling']].dropna(0),order=(0,1,0))\n",
    "# model_fit = model.fit()\n",
    "\n",
    "length = len(new_river.CFS)\n",
    "forecast = model_fit.forecast(length,exog=new_river[['Precip_Shift','CFS_Rolling']].fillna(0))\n",
    "\n",
    "# Create figure with secondary y-axis\n",
    "fig = make_subplots(rows=2,cols=1)\n",
    "# Add traces\n",
    "fig.add_trace(\n",
    "    go.Scatter(x=new_river.Date, y=new_river.CFS, name=\"CFS - Observed\"),\n",
    "    secondary_y=False,row=1,col=1)\n",
    "# fig.add_trace(\n",
    "#     go.Scatter(x=new_river.Date, y=predict, name=\"CFS - Predicted\"),\n",
    "#     secondary_y=False,row=2,col=1)\n",
    "fig.add_trace(\n",
    "    go.Scatter(x=new_river.Date, y=forecast, name=\"CFS - Forecast\"),\n",
    "    secondary_y=False,row=2,col=1)\n",
    "\n",
    "# Add figure title\n",
    "fig.update_layout(\n",
    "    title_text=\"Observed, Predicted, & Forecasted \")\n",
    "# Set x-axis title\n",
    "fig.update_xaxes(title_text=\"Date\")\n",
    "# Set y-axes titles\n",
    "fig.update_yaxes(title_text=\"Discharge (cfs)\", secondary_y=False)\n",
    "fig.update_yaxes(title_text=\"Precip (mm)\", secondary_y=True)\n",
    "fig.show()"
   ]
  }
 ],
 "metadata": {
  "kernelspec": {
   "display_name": "base",
   "language": "python",
   "name": "python3"
  },
  "language_info": {
   "codemirror_mode": {
    "name": "ipython",
    "version": 3
   },
   "file_extension": ".py",
   "mimetype": "text/x-python",
   "name": "python",
   "nbconvert_exporter": "python",
   "pygments_lexer": "ipython3",
   "version": "3.8.5"
  },
  "vscode": {
   "interpreter": {
    "hash": "f198afccb11a57ca9e4600c4ebf8ddb1582de23e4eaa52d4804571c6e801d767"
   }
  }
 },
 "nbformat": 4,
 "nbformat_minor": 4
}
