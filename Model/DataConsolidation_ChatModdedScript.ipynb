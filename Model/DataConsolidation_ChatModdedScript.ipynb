{
 "cells": [
  {
   "cell_type": "code",
   "execution_count": 6,
   "metadata": {},
   "outputs": [
    {
     "name": "stdout",
     "output_type": "stream",
     "text": [
      "No data available at this Zip Code:  95573\n",
      "No data available at this Zip Code:  96013\n",
      "No data available at this Zip Code:  95944\n",
      "No data available at this Zip Code:  93517\n",
      "No data available at this Zip Code:  96052\n",
      "No data available at this Zip Code:  97112\n",
      "No data available at this Zip Code:  97436\n"
     ]
    }
   ],
   "source": [
    "# Dataconsolidation_\n",
    "# ChatModded\n",
    "import requests\n",
    "import pandas as pd\n",
    "import json\n",
    "from datetime import datetime, date, timedelta\n",
    "\n",
    "Token = 'ziLDJecqBlvTSNGOzOmPPLmBZtXSfBwR'\n",
    "\n",
    "# Read in zip codes and location names from csv file\n",
    "referencedata = pd.read_csv('C:/Users/Scott/Desktop/Projects/River_Data/RiverReferenceTable.csv')\n",
    "\n",
    "# Create new column called ZipCode2 by filling missing values in ZipCode column with 0 and converting to int\n",
    "referencedata['ZipCode2'] = referencedata['ZipCode'].fillna(0).astype(int)\n",
    "\n",
    "# Get current date and create a list of dates for the past 7 days\n",
    "today = date.today()\n",
    "Dateslist = [today - timedelta(days = day) for day in range(7)]\n",
    "startdate = min(Dateslist)\n",
    "enddate = max(Dateslist)\n",
    "\n",
    "# Read in data from csv file\n",
    "all_data = pd.read_csv('C:/Users/Scott/Desktop/Projects/River_Data/Ingestion/CurrentPrecip.csv', index_col=0).drop_duplicates()\n",
    "\n",
    "# Loop through each row in the reference data\n",
    "for i, row in referencedata.iterrows():\n",
    "    name = row['Name']\n",
    "    zipcode = row['ZipCode']\n",
    "    zipcode2 = row['ZipCode2']\n",
    "\n",
    "    # Construct URL to request data from API\n",
    "    data_url = f'https://www.ncdc.noaa.gov/cdo-web/api/v2/data?datasetid=GHCND&datatypeid=PRCP&units=metric&limit=1000&locationid=ZIP:{zipcode}&startdate={startdate}&enddate={enddate}'\n",
    "\n",
    "    # Send request to API\n",
    "    r = requests.get(data_url, headers={'token': Token})\n",
    "    d = json.loads(r.text)\n",
    "\n",
    "    # If no data is available for the given zip code, try using the zipcode2 value\n",
    "    if len(d) == 0:\n",
    "        data_url = f'https://www.ncdc.noaa.gov/cdo-web/api/v2/data?datasetid=GHCND&datatypeid=PRCP&limit=1000&locationid=ZIP:{zipcode2}&startdate={startdate}&enddate={enddate}'\n",
    "        r = requests.get(data_url, headers={'token': Token})\n",
    "        d = json.loads(r.text)\n",
    "\n",
    "    # Extract date and precipitation values from API response\n",
    "    try:\n",
    "        dates = [item['date'] for item in d['results'] if item['datatype'] == 'PRCP']\n",
    "        precips = [item['value'] for item in d['results'] if item['datatype'] == 'PRCP']\n",
    "    except KeyError:\n",
    "        print('No data available at this Zip Code: ', zipcode2)\n",
    "    continue\n",
    "\n",
    "    # Create data frame from date and precipitation values\n",
    "    df = pd.DataFrame()\n",
    "    df['Date'] = [datetime.strptime(d, '%Y-%m-%dT%H:%M:%S') for d in dates]\n",
    "    df['Precip'] = precips\n",
    "    df['Name'] = name\n",
    "\n",
    "    # Append data frame to all_data\n",
    "    all_data = all_data.append(df, ignore_index=True)\n",
    "\n",
    "# Save all_data to csv file\n",
    "all_data.to_csv('C:/Users/Scott/Desktop/Projects/River_Data/Ingestion/CurrentPrecip.csv')"
   ]
  }
 ],
 "metadata": {
  "kernelspec": {
   "display_name": "Python 3.8.5 ('base')",
   "language": "python",
   "name": "python3"
  },
  "language_info": {
   "codemirror_mode": {
    "name": "ipython",
    "version": 3
   },
   "file_extension": ".py",
   "mimetype": "text/x-python",
   "name": "python",
   "nbconvert_exporter": "python",
   "pygments_lexer": "ipython3",
   "version": "3.8.5 (default, Sep  3 2020, 21:29:08) [MSC v.1916 64 bit (AMD64)]"
  },
  "orig_nbformat": 4,
  "vscode": {
   "interpreter": {
    "hash": "f198afccb11a57ca9e4600c4ebf8ddb1582de23e4eaa52d4804571c6e801d767"
   }
  }
 },
 "nbformat": 4,
 "nbformat_minor": 2
}
